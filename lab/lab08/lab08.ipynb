{
 "cells": [
  {
   "cell_type": "markdown",
   "metadata": {},
   "source": [
    "## Intro to Histograms\n",
    "\n",
    "Welcome to Lab 8! In this lab, we'll be reviewing usage of tables and learning how to create and analyze histograms."
   ]
  },
  {
   "cell_type": "code",
   "execution_count": null,
   "metadata": {
    "collapsed": true
   },
   "outputs": [],
   "source": [
    "# Run this cell, but please don't change it.\n",
    "\n",
    "# These lines import the Numpy and Datascience modules.\n",
    "import numpy as np\n",
    "from datascience import *\n",
    "\n",
    "# These lines do some fancy plotting magic\n",
    "import matplotlib\n",
    "%matplotlib inline\n",
    "import matplotlib.pyplot as plt\n",
    "plt.style.use('fivethirtyeight')\n",
    "import warnings\n",
    "warnings.simplefilter('ignore', FutureWarning)\n",
    "from matplotlib import patches\n",
    "from ipywidgets import interact, interactive, fixed\n",
    "import ipywidgets as widgets\n",
    "Table.interactive_plots()\n",
    "\n",
    "# These lines load the tests.\n",
    "import otter \n",
    "grader = otter.Notebook('tests')"
   ]
  },
  {
   "cell_type": "markdown",
   "metadata": {},
   "source": [
    "## Review of Tables: Twin Heights\n",
    "\n",
    "To get started, let's review what we know about working with tables. The table `twins` has a row for each pair of twins, containing the height of the two twins in inches. Run the cell below to see the table."
   ]
  },
  {
   "cell_type": "code",
   "execution_count": null,
   "metadata": {
    "collapsed": true
   },
   "outputs": [],
   "source": [
    "## Just run this cell.\n",
    "twins = Table().read_table('twins.csv')\n",
    "twins"
   ]
  },
  {
   "cell_type": "markdown",
   "metadata": {},
   "source": [
    "#### Question 1\n",
    "As a warmup, find the average height of Twin 1 (designated by `Height1`) in the `twins` table and assign it to `avg_height`."
   ]
  },
  {
   "cell_type": "code",
   "execution_count": null,
   "metadata": {
    "collapsed": true
   },
   "outputs": [],
   "source": [
    "avg_height = ...\n",
    "avg_height"
   ]
  },
  {
   "cell_type": "code",
   "execution_count": null,
   "metadata": {
    "collapsed": true,
    "scrolled": true
   },
   "outputs": [],
   "source": [
    "grader.check('q01')"
   ]
  },
  {
   "cell_type": "markdown",
   "metadata": {},
   "source": [
    "#### Question 2\n",
    "\n",
    "Now, we want to figure out the average of the absolute differences in heights among all pairs of twins. Find that value using arrays from the `twins` table, assigning it to the name `avg_diff`. \n",
    "\n",
    "*Hint:* What is the order of steps we need to take here?"
   ]
  },
  {
   "cell_type": "code",
   "execution_count": null,
   "metadata": {
    "collapsed": true
   },
   "outputs": [],
   "source": [
    "avg_diff = ...\n",
    "avg_diff"
   ]
  },
  {
   "cell_type": "code",
   "execution_count": null,
   "metadata": {
    "collapsed": true
   },
   "outputs": [],
   "source": [
    "grader.check('q02')"
   ]
  },
  {
   "cell_type": "markdown",
   "metadata": {},
   "source": [
    "#### Question 3\n",
    "\n",
    "Now, let's learn more about the various sets of twins. `tbl.where(\"column\", value)` is a function that allows us to \"filter\" the table by a specific condition. By default, `tbl.where(\"column\", value)` looks for the rows that are *equal to* the specified value in the specified column and returns a table containing those rows only. \n",
    "\n",
    "What was the height of the sibling for the shortest person in `Height1`? What was the height of the sibling for the tallest person in `Height1`? Assign these values to `shortest_sibling` and `tallest_sibling` respectively. \n",
    "\n",
    "*Hint:* We recommend that you use arrays and a function to find the shortest height in Height1 and the tallest height in Height2, and assign these values to the variables `shortest_height1` and `tallest_height1`. Notice that we can find this information (i.e. the corresponding sibling) because each row in the table represents 1 specific set of twins."
   ]
  },
  {
   "cell_type": "code",
   "execution_count": null,
   "metadata": {
    "collapsed": true
   },
   "outputs": [],
   "source": [
    "shortest_twin1 = ...\n",
    "tallest_twin1 = ...\n",
    "\n",
    "shortest_sibling = ...\n",
    "tallest_sibling = ...\n",
    "\n",
    "## This code will print your answers in a readable format.\n",
    "print(\"Height of the twin of the shortest person in column 1: {} inches\".format(shortest_sibling))\n",
    "print(\"Height of the twin of the tallest person in column 1: {} inches\".format(tallest_sibling))"
   ]
  },
  {
   "cell_type": "code",
   "execution_count": null,
   "metadata": {
    "collapsed": true
   },
   "outputs": [],
   "source": [
    "grader.check('q03')"
   ]
  },
  {
   "cell_type": "markdown",
   "metadata": {},
   "source": [
    "#### Question 4\n",
    "As part of the Human Contexts & Ethics approach to data science, we should be aware of the classification systems that are present within our datasets. How do labels play into larger cultural and societal norms? In this case, we will take a binary approach to the idea of gender (male/female) which may not be the best, but it is what we have from the person/group who collected the data.\n",
    "\n",
    "In this case, the person who recorded the data has information about genders of every pair of twins. There are four possible gender pairs - twin 1 is male and so is twin 2; twin 1 is male and twin 2 is female; twin 1 is female and so is twin 2; or twin 2 is female and twin 1 is male. How many pairs of twins of each possible gender pair do we have? Create a bar chart using `tbl.barh()` to visualizes this data.\n",
    "\n",
    "*Hint:* What table method do we know that finds the number of times each unique value appears in a table? We'll need to use it to find the number of each type of pair (Male/Male, Female/Male, Female/Female, Male/Female) in the dataset before we generate the chart."
   ]
  },
  {
   "cell_type": "code",
   "execution_count": null,
   "metadata": {
    "collapsed": true
   },
   "outputs": [],
   "source": [
    "..."
   ]
  },
  {
   "cell_type": "markdown",
   "metadata": {},
   "source": [
    "#### Question 5\n",
    "Using `tbl.where()`, create three new tables: one with pairs of twins where both twins are male; one where both are female; and one where the twins are of differing genders. We have provided the mixed_gender array to help you. \n",
    "\n",
    "\n",
    "After you create the tables, calculate the average of the absolute height differences for each of the three possible gender pairs (both male, both female, or mixed) and save it in an array called `avg_height_differences`. Then, create a 2 column table with the columns \"Pairs\" and \"Average Height Differences\" containing the 3 gender pairs and their corresponding average height differences and use the `tbl.barh()` function to generate a bar chart. \n",
    "\n",
    "\n",
    "*Hint:* You may need to use a Table.where() *predicate* to find the mixed gender rows. Predicates are help modify arguments and are designated by \"are.\" For example, if you wanted to find all twin 1s that are taller than 65 inches, you would write `twins.where(\"Height1\", are.above(65))`. The table below has some predicates you can use.\n",
    "\n",
    "| Predicate | Description |\n",
    "| --- | --- |\n",
    "|are.above(x) | Greater than x | \n",
    "| are.below(x) | Less than x | \n",
    "| are.between(x,y) | Greater than or equal to x and less than y |\n",
    "| are.contained_in(A) | \tIs a substring of A (if A is a string) or an element of A (if A is a list/array) |\n"
   ]
  },
  {
   "cell_type": "code",
   "execution_count": null,
   "metadata": {
    "collapsed": true
   },
   "outputs": [],
   "source": [
    "mixed_gender = make_array(\"Male & Female\", \"Female & Male\")\n",
    "\n",
    "both_male_table = ...\n",
    "both_female_table = ...\n",
    "mixed_gender_table = ...\n",
    "\n",
    "both_male_diff = ...\n",
    "both_female_diff = ...\n",
    "mixed_gender_diff = ...\n",
    "\n",
    "avg_height_differences = ...\n",
    "\n",
    "# Now complete the table and graph it.\n",
    "pair_heights = Table().with_columns(\"Pairs\", ...,\n",
    "                                   \"Average Height Differences\", ...).barh(0)"
   ]
  },
  {
   "cell_type": "markdown",
   "metadata": {},
   "source": [
    "## Interpreting Histograms: Family Heights\n",
    "\n",
    "In a further experiment, we measure the heights of the members of **200 families** that each included 1 mother, 1 father, and some varying number of adult sons. We make the following histograms, with all bins being two inches wide.\n",
    "\n",
    "Notice the y-axis, which has the units \"Percent per inch.\" This specific histogram is called a **density histogram**, which uses *density* (a measure of probability) instead of *frequency* (the count) on the y-axis. Usually, we prefer to use density because it has a few properties:\n",
    "\n",
    "1) The **area** of a bar is the **percentage of values in the dataset within that range of values** (the bin). Try canceling the units to see why!\n",
    "\n",
    "2) The sum of all the bars in a histogram is equal to 1, because 100% of the data is accounted for by all of the bars.\n",
    "\n",
    "3) Changing the size of the bins will cause the densities to scale accordingly.\n",
    "\n",
    "![](three_height_histograms.png)"
   ]
  },
  {
   "cell_type": "markdown",
   "metadata": {},
   "source": [
    "#### Question 6\n",
    "\n",
    "For each quantity listed below, either calculate its value using the histograms, or write *Unknown* if it is not possible to calculate the value numerically given the information we have.\n",
    "1. The **percentage** of mothers that are at least 60 inches but less than 64 inches tall.\n",
    "2. The **percentage** of fathers that are at least 64 inches but less than 67 inches tall.\n",
    "3. The **number** of mothers that are at least 60 inches tall.\n",
    "4. The **number** of sons that are at least 70 inches tall."
   ]
  },
  {
   "cell_type": "markdown",
   "metadata": {},
   "source": [
    "*Write your answer here, replacing this text.*"
   ]
  },
  {
   "cell_type": "markdown",
   "metadata": {},
   "source": [
    "#### Question 7\n",
    "If the fathers' histogram was redrawn, replacing the two bins from 72-74 and 74-76 with one bin from 72-76, what would be the height of that bar?"
   ]
  },
  {
   "cell_type": "markdown",
   "metadata": {},
   "source": [
    "*Write your answer here, replacing this text.*"
   ]
  },
  {
   "cell_type": "markdown",
   "metadata": {},
   "source": [
    "#### Question 8 (Challenge Question)\n",
    "Remember that, within a bin [A, B), a single data point may have a value of at least A and at most B. \n",
    "\n",
    "Some of the sons in the dataset are taller than all of the mothers - but, it isn't possible to tell exactly how many. We can calculate upper and lower bounds for the percentage of the sons using our histograms. What's the lowest possible value for the percentage of sons who are taller than all of the mothers? The highest possible value?\n",
    "\n",
    "If you're struggling with this question, ask your peers or a TA!"
   ]
  },
  {
   "cell_type": "markdown",
   "metadata": {},
   "source": [
    "*Write your answer here, replacing this text.*"
   ]
  },
  {
   "cell_type": "markdown",
   "metadata": {},
   "source": [
    "## Creating & Interpreting Histograms in Python"
   ]
  },
  {
   "cell_type": "markdown",
   "metadata": {},
   "source": [
    "### The Data\n",
    "\n",
    "For this section, we will be using data from the Office of Environmental Health Hazard Assessment. This dataset includes population and pollution data for several counties in California. We will explore this more in depth in the homework, but first, we must import the dataset into our notebook and create a table. We will call this table `ces_data`."
   ]
  },
  {
   "cell_type": "code",
   "execution_count": null,
   "metadata": {
    "collapsed": true
   },
   "outputs": [],
   "source": [
    "ces_data = Table.read_table('ces_data.csv')\n",
    "ces_data.take(np.arange(40, 50)).show(5)"
   ]
  },
  {
   "cell_type": "markdown",
   "metadata": {},
   "source": [
    "If we scroll to the right, we can see a column called `Pesticides`. Notice how a lot of the entries are 0s. When dealing with large datasets, we will often encounter **missing** values. These values are simply empty values that appear when we do not have a value available for a particular record. Some common ways these missing values appear in datasets are blanks, NaNs (\"Not a Number\"), 0s, or 8888s. It is important to clean these meaningless values to carry out analysis of the dataset. Much of data science consists of **cleaning data** which includes **renaming columns**, **reducing the table size to include only the columns of interest**, and **removing missing values.**  \n",
    "\n",
    "There are various methods of dealing with missing values -- for our purposes, it is safe to simply remove these values from our table.\n",
    "\n",
    "This has been done for you: simply run the cell below to save a clean version of the data as `clean_ces_data`. From this point forward, we'll use this cleaned CES data to run our analysis."
   ]
  },
  {
   "cell_type": "code",
   "execution_count": null,
   "metadata": {
    "collapsed": true
   },
   "outputs": [],
   "source": [
    "clean_ces_data = Table.read_table('clean_ces.csv')\n",
    "clean_ces_data.show(5)"
   ]
  },
  {
   "cell_type": "markdown",
   "metadata": {},
   "source": [
    "To understand our data, it is important to understand what **each row** represents. Notice our first two columns: `California County` & `census_tract`. Each row represents a specific census tract (some specific geographic region, similar to a neighborhood) for a given county.  \n",
    "\n",
    "For instance, our first row represents some small region in the county of Fresno. "
   ]
  },
  {
   "cell_type": "markdown",
   "metadata": {},
   "source": [
    "#### Question 9\n",
    "\n",
    "We can see that the first Census tract has a population that is 65.3% Hispanic. For this question, we are interested in the **distribution** of Hispanic & white populations in our dataset. We can visualize this distribution by using a **histogram**, created by the function `tbl.hist(\"column\")`. \n",
    "\n",
    "Create a histogram of the percent populations of the `hispanic` column. Then, do the same for `white`.\n",
    "\n",
    "*Note:* Again, \"bins\" are how we decide to split the data in the dataset, with each bin comprising a range of values and each bar representing a different bin. `tbl.hist()` automatically chooses the bins for us, but to better compare, we should use the same set of bins for both datasets. To manually change the bins, you should call `tbl.hist(\"column\", bins = arr)` where arr is an array of values. We defined the bins for you in the variable `bins`."
   ]
  },
  {
   "cell_type": "code",
   "execution_count": null,
   "metadata": {
    "collapsed": true
   },
   "outputs": [],
   "source": [
    "# Type your code here\n",
    "bins = np.arange(0, 105, 10)\n",
    "hispanic_population_hist = ..."
   ]
  },
  {
   "cell_type": "code",
   "execution_count": null,
   "metadata": {
    "collapsed": true,
    "scrolled": true
   },
   "outputs": [],
   "source": [
    "# Type your code here\n",
    "white_population_hist = ..."
   ]
  },
  {
   "cell_type": "code",
   "execution_count": null,
   "metadata": {
    "collapsed": true
   },
   "outputs": [],
   "source": [
    "grader.check('q09')"
   ]
  },
  {
   "cell_type": "markdown",
   "metadata": {},
   "source": [
    "#### Question 11\n",
    "\n",
    "To better compare the two distributions together, we can create an overlapping histogram. To do so, use `tbl.hist(\"column\")`, but instead of using only 1 column name, you can replace it with an array of strings containing the column names you would like to overlap. \n",
    "\n",
    "Now, create an overlapping histogram that represents the distributions of both Hispanic and white in a single graph. Use the same bins."
   ]
  },
  {
   "cell_type": "code",
   "execution_count": null,
   "metadata": {
    "collapsed": true
   },
   "outputs": [],
   "source": [
    "..."
   ]
  },
  {
   "cell_type": "markdown",
   "metadata": {},
   "source": [
    "#### Question 12\n",
    "\n",
    "To practice our interpretation of these histograms, describe and compare the shape of the distributions you see (are they left skewed? right skewed? symmetric?). Is the average percentage of Hispanic populations living in each Census tract greater than, less than, or the same as the average percentage for white populations? Write your answers in the cell below and discuss with a classmate or TA."
   ]
  },
  {
   "cell_type": "markdown",
   "metadata": {},
   "source": [
    "*Type your answer here, replacing this text.* "
   ]
  },
  {
   "cell_type": "markdown",
   "metadata": {},
   "source": [
    "## Submission\n",
    "You're done with this lab!\n",
    "\n",
    "To submit this notebook, please download your notebook as a .ipynb file and submit to Gradescope. You can do so by navigating to the toolbar at the top of this page, clicking File > Download as... > Notebook (.ipynb). Then, go to our class's Gradescope page [here](https://www.gradescope.com/courses/136698) and upload your file under \"Lab 8.\" \n",
    "\n",
    "To check your work for all autograded questions, run the cell below. \n",
    "\n",
    "It's fine to submit multiple times, but we will only grade the final notebook you submit for each assignment. Make sure you pass all tests to receive credit."
   ]
  },
  {
   "cell_type": "code",
   "execution_count": null,
   "metadata": {
    "collapsed": true
   },
   "outputs": [],
   "source": [
    "# For your convenience, you can run this cell to run all the tests at once!\n",
    "grader.check_all()"
   ]
  }
 ],
 "metadata": {
  "anaconda-cloud": {},
  "kernelspec": {
   "display_name": "Python 3",
   "language": "python",
   "name": "python3"
  },
  "language_info": {
   "codemirror_mode": {
    "name": "ipython",
    "version": 3
   },
   "file_extension": ".py",
   "mimetype": "text/x-python",
   "name": "python",
   "nbconvert_exporter": "python",
   "pygments_lexer": "ipython3",
   "version": "3.6.1"
  },
  "widgets": {
   "state": {
    "6c09ba2474d24e10bdd21db7b9699237": {
     "views": [
      {
       "cell_index": 9
      }
     ]
    },
    "ef0a0194fbdd498787d3894efa009a7e": {
     "views": [
      {
       "cell_index": 3
      }
     ]
    }
   },
   "version": "1.2.0"
  }
 },
 "nbformat": 4,
 "nbformat_minor": 4
}
