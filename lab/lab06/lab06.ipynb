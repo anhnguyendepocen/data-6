{
 "cells": [
  {
   "cell_type": "markdown",
   "metadata": {},
   "source": [
    "# Applying & Visualizing Arrays"
   ]
  },
  {
   "cell_type": "markdown",
   "metadata": {},
   "source": [
    "#### Welcome to Lab 6! \n",
    "\n",
    "To recap, we've been learning about datasets and specifically, arrays of data, in Python. Today, we'll be applying our understanding of arrays to the real world in the form of housing prices."
   ]
  },
  {
   "cell_type": "code",
   "execution_count": null,
   "metadata": {},
   "outputs": [],
   "source": [
    "## Just run this cell. \n",
    "import numpy as np\n",
    "from datascience import *\n",
    "from lab_funcs import *\n",
    "\n",
    "%matplotlib inline\n",
    "import matplotlib.pyplot as plt\n",
    "plt.style.use('fivethirtyeight')\n",
    "\n",
    "import otter\n",
    "grader = otter.Notebook()"
   ]
  },
  {
   "cell_type": "markdown",
   "metadata": {},
   "source": [
    "#### Background:\n",
    "For many college students, apartment hunting is an obstacle that is mostly inevitable. In this lab, we'll be using a dataset from [Zillow](https://www.zillow.com/) (a popular marketplace for real estate) that displays the monthly median listing prices of cities near each University of California. "
   ]
  },
  {
   "cell_type": "markdown",
   "metadata": {},
   "source": [
    "<img src=\"UCsystem.png\" width=\"300px\" height=\"500px\"/>"
   ]
  },
  {
   "cell_type": "markdown",
   "metadata": {},
   "source": [
    "For context, a map of all of the UC's can be found above. Because of the scope of the data, we will only investigate housing prices for Berkeley, Los Angeles, Merced, Riverside, Santa Barbara, San Diego and Santa Cruz. Also, please note that due to the constrained availability of data from Zillow, we are only able to analyze each UC campus based on its surrounding area. \n",
    "\n",
    "In other words, the calculations may not be exact, since the overall area of each UC is generalized. For example, UCLA is located in Westwood, but our data considers UCLA's prices to include prices from the LA/Long Beach/Anaheim area. This discrepancy will have no bearing on the techniques we use in this lab, but it is always important to note the limitations of your data before you begin an analysis."
   ]
  },
  {
   "cell_type": "markdown",
   "metadata": {},
   "source": [
    "## 1. Elementwise Operations on Arrays"
   ]
  },
  {
   "cell_type": "markdown",
   "metadata": {},
   "source": [
    "### 1.1. Reviewing elementwise arithmetic\n",
    "\n",
    "As we have previously seen, arrays are especially useful when performing the same operation on many values. Instead of using `.item` to work with single elements, we can use functions and operators to work with arrays. Let's review!"
   ]
  },
  {
   "cell_type": "markdown",
   "metadata": {},
   "source": [
    "#### Question 1.1.1\n",
    "Suppose you have some monthly CA housing prices in dollars and you'd like to compute the prices in thousands of dollars to reduce the scale. Given the array of `housing_prices` below, return an array called `prices_in_thousands` that computes the prices in thousands of dollars."
   ]
  },
  {
   "cell_type": "code",
   "execution_count": null,
   "metadata": {
    "collapsed": true
   },
   "outputs": [],
   "source": [
    "housing_prices = make_array(102910, 821048, 128201, 530728)\n",
    "prices_in_thousands = \n",
    "prices_in_thousands"
   ]
  },
  {
   "cell_type": "code",
   "execution_count": null,
   "metadata": {
    "collapsed": true
   },
   "outputs": [],
   "source": [
    "grader.check('q111')"
   ]
  },
  {
   "cell_type": "markdown",
   "metadata": {},
   "source": [
    "#### Question 1.1.2\n",
    "Let's transition back into regular dollars instead of thousands of dollars. Compute the average monthly housing price using the function `np.average` with `housing_prices`.\n",
    "\n",
    "*Hint:* The function `np.average` takes a single array of numbers as its argument and returns the average of all the numbers in that array (so it returns a number, not an array). Have we already been given an array of numbers?"
   ]
  },
  {
   "cell_type": "code",
   "execution_count": null,
   "metadata": {
    "collapsed": true
   },
   "outputs": [],
   "source": [
    "avg_housing_prices = \n",
    "avg_housing_prices"
   ]
  },
  {
   "cell_type": "code",
   "execution_count": null,
   "metadata": {
    "collapsed": true
   },
   "outputs": [],
   "source": [
    "grader.check('q112')"
   ]
  },
  {
   "cell_type": "markdown",
   "metadata": {},
   "source": [
    "#### Question 1.1.3. \n",
    "Let's apply what we've practiced to Berkeley housing prices in 2019. `UCB_Prices.csv` has median housing prices for each month; we have loaded these values into the name `berkeley_prices`. \n",
    "\n",
    "Use `berkeley_prices` to return an array of the monthly prices in Berkeley expressed in thousands of dollars. How is your code different?"
   ]
  },
  {
   "cell_type": "code",
   "execution_count": null,
   "metadata": {
    "collapsed": true
   },
   "outputs": [],
   "source": [
    "berkeley_prices = Table.read_table(\"UCB_Prices.csv\").column(\"UCB 2019 Price\")\n",
    "berkeley_in_thousands = \n",
    "berkeley_in_thousands"
   ]
  },
  {
   "cell_type": "code",
   "execution_count": null,
   "metadata": {
    "collapsed": true
   },
   "outputs": [],
   "source": [
    "grader.check('q113')"
   ]
  },
  {
   "cell_type": "markdown",
   "metadata": {},
   "source": [
    "#### Question 1.1.4. \n",
    "What was the average monthly price of Berkeley housing listings in 2019 expressed *in thousands of dollars*? \n",
    "\n",
    "*Hint:* How can we utilize a function on an array where we have already calculated prices in thousands of dollars?"
   ]
  },
  {
   "cell_type": "code",
   "execution_count": null,
   "metadata": {
    "collapsed": true
   },
   "outputs": [],
   "source": [
    "berkeley_avg_in_thousands = \n",
    "berkeley_avg_in_thousands"
   ]
  },
  {
   "cell_type": "code",
   "execution_count": null,
   "metadata": {
    "collapsed": true
   },
   "outputs": [],
   "source": [
    "grader.check('q114')"
   ]
  },
  {
   "cell_type": "markdown",
   "metadata": {},
   "source": [
    "## 2. UC Housing Prices"
   ]
  },
  {
   "cell_type": "markdown",
   "metadata": {},
   "source": [
    "In this portion of the lab, we will extend our understanding to the housing prices of other UC's. The following cell creates arrays for the monthly median housing prices of all UC's (excluding Irvine, SF, and Davis) in both 2009 and 2019. "
   ]
  },
  {
   "cell_type": "code",
   "execution_count": null,
   "metadata": {
    "collapsed": true
   },
   "outputs": [],
   "source": [
    "## Just run this cell.\n",
    "berkeley_2009 = Table.read_table(\"UCB_Prices.csv\").column(\"UCB 2009 Price\")\n",
    "berkeley_2019 = Table.read_table(\"UCB_Prices.csv\").column(\"UCB 2019 Price\")\n",
    "\n",
    "ucla_2009 = Table.read_table(\"UCLA_Prices.csv\").column(\"UCLA 2009 Price\")\n",
    "ucla_2019 = Table.read_table(\"UCLA_Prices.csv\").column(\"UCLA 2019 Price\")\n",
    "\n",
    "ucm_2009 = Table.read_table(\"UCM_Prices.csv\").column(\"UCM 2009 Price\")\n",
    "ucm_2019 = Table.read_table(\"UCM_Prices.csv\").column(\"UCM 2019 Price\")\n",
    "\n",
    "ucr_2009 = Table.read_table(\"UCR_Prices.csv\").column(\"UCR 2009 Price\")\n",
    "ucr_2019 = Table.read_table(\"UCR_Prices.csv\").column(\"UCR 2019 Price\")\n",
    "\n",
    "ucsb_2009 = Table.read_table(\"UCSB_Prices.csv\").column(\"UCSB 2009 Price\")\n",
    "ucsb_2019 = Table.read_table(\"UCSB_Prices.csv\").column(\"UCSB 2019 Price\")\n",
    "\n",
    "ucsc_2009 = Table.read_table(\"UCSC_Prices.csv\").column(\"UCSC 2009 Price\")\n",
    "ucsc_2019 = Table.read_table(\"UCSC_Prices.csv\").column(\"UCSC 2019 Price\")\n",
    "\n",
    "ucsd_2009 = Table.read_table(\"UCSD_Prices.csv\").column(\"UCSD 2009 Price\")\n",
    "ucsd_2019 = Table.read_table(\"UCSD_Prices.csv\").column(\"UCSD 2019 Price\")"
   ]
  },
  {
   "cell_type": "markdown",
   "metadata": {},
   "source": [
    "### 2.1. Percent Change"
   ]
  },
  {
   "cell_type": "markdown",
   "metadata": {},
   "source": [
    "For the remainder of the lab, we will focus our attention to addressing the following question:\n",
    "> `How have housing prices at each UC changed over the years?`"
   ]
  },
  {
   "cell_type": "markdown",
   "metadata": {},
   "source": [
    "To address this question, let's go over the idea of percent change over time. The formula is as follows:\n",
    "\n",
    "<img src=\"percentchange.png\" width=\"300px\" height=\"500px\"/>\n",
    "\n",
    "where the `amount of change` can be defined as the (new value - old value) and the `original amount` is the old value. This gives us a proportion, so we will multiply by 100 to return a percent value.\n"
   ]
  },
  {
   "cell_type": "markdown",
   "metadata": {},
   "source": [
    "If you recall from the last lab, there are 3 ways we work with arrays. The first is to calculate a single value from all values in the array, such as an average or median. The second is to perform the same operation on every value in the array, which is what we did in the last section.\n",
    "\n",
    "Finally, we can do math between two arrays. As long as the length and type of both arrays are the same, we can perform an operation between each element in the same position. \n",
    "\n",
    "For example: If we have make_array(A, B, C) + make_array(D, E, F), we will return a new array with make_array(A + D, B + E, and C + F). \n",
    "\n",
    "We can use any arithmetic operator we have used before, such as `*`, `**`, `-`, and `+`. In this case, we will use subtraction in our percent change calculations."
   ]
  },
  {
   "cell_type": "markdown",
   "metadata": {},
   "source": [
    "#### Question 2.1.1a. \n",
    "\n",
    "Let's begin with Berkeley housing prices. Assign `avg_berkeley_percent_change` to the average percent change in housing prices from 2009 to 2019 using the formula above, where the original amount is Berkeley housing prices in 2009 and the amount of change is equal to the difference in housing prices from 2009 to 2019. \n",
    "\n",
    "*Hint:* Use the arrays we defined earlier for housing price data in both 2009 and 2019. Your final value should be a single float value."
   ]
  },
  {
   "cell_type": "code",
   "execution_count": null,
   "metadata": {
    "collapsed": true
   },
   "outputs": [],
   "source": [
    "berkeley_amount_change = \n",
    "berkeley_original_amount = \n",
    "avg_berkeley_percent_change = \n",
    "avg_berkeley_percent_change"
   ]
  },
  {
   "cell_type": "code",
   "execution_count": null,
   "metadata": {
    "collapsed": true
   },
   "outputs": [],
   "source": [
    "grader.check('q211')"
   ]
  },
  {
   "cell_type": "markdown",
   "metadata": {},
   "source": [
    "#### Question 2.1.1b. \n",
    "\n",
    "You should get an average percent change of over 100 percent from 2009 to 2019. What does this tell you about Berkeley housing prices from 2009 to 2019?"
   ]
  },
  {
   "cell_type": "markdown",
   "metadata": {},
   "source": [
    "*Write your answer here, replacing this text.*"
   ]
  },
  {
   "cell_type": "markdown",
   "metadata": {},
   "source": [
    "#### Question 2.1.2.\n",
    "To make your life a bit easier, we wrote a function that will calculate the average percent change from 2009 to 2019 given two arrays called `avg_percent_change`. It takes 2 arguments: the first being the array of 2009 housing prices, and the second being the array of 2019 housing prices.\n",
    "\n",
    "Use it to compute the average percentage change for the remainder of the UCs. "
   ]
  },
  {
   "cell_type": "code",
   "execution_count": null,
   "metadata": {
    "collapsed": true
   },
   "outputs": [],
   "source": [
    "avg_ucla_percent_change = \n",
    "avg_ucla_percent_change"
   ]
  },
  {
   "cell_type": "code",
   "execution_count": null,
   "metadata": {
    "collapsed": true
   },
   "outputs": [],
   "source": [
    "grader.check('q212a')"
   ]
  },
  {
   "cell_type": "code",
   "execution_count": null,
   "metadata": {
    "collapsed": true
   },
   "outputs": [],
   "source": [
    "avg_merced_percent_change = \n",
    "avg_merced_percent_change"
   ]
  },
  {
   "cell_type": "code",
   "execution_count": null,
   "metadata": {
    "collapsed": true
   },
   "outputs": [],
   "source": [
    "grader.check('q212b')"
   ]
  },
  {
   "cell_type": "code",
   "execution_count": null,
   "metadata": {
    "collapsed": true
   },
   "outputs": [],
   "source": [
    "avg_riverside_percent_change = \n",
    "avg_riverside_percent_change"
   ]
  },
  {
   "cell_type": "code",
   "execution_count": null,
   "metadata": {
    "collapsed": true
   },
   "outputs": [],
   "source": [
    "grader.check('q212c')"
   ]
  },
  {
   "cell_type": "code",
   "execution_count": null,
   "metadata": {
    "collapsed": true
   },
   "outputs": [],
   "source": [
    "avg_ucsb_percent_change = \n",
    "avg_ucsb_percent_change"
   ]
  },
  {
   "cell_type": "code",
   "execution_count": null,
   "metadata": {
    "collapsed": true
   },
   "outputs": [],
   "source": [
    "grader.check('q212d')"
   ]
  },
  {
   "cell_type": "code",
   "execution_count": null,
   "metadata": {
    "collapsed": true
   },
   "outputs": [],
   "source": [
    "avg_ucsc_percent_change = \n",
    "avg_ucsc_percent_change"
   ]
  },
  {
   "cell_type": "code",
   "execution_count": null,
   "metadata": {
    "collapsed": true
   },
   "outputs": [],
   "source": [
    "grader.check('q212e')"
   ]
  },
  {
   "cell_type": "code",
   "execution_count": null,
   "metadata": {
    "collapsed": true
   },
   "outputs": [],
   "source": [
    "avg_ucsd_percent_change = \n",
    "avg_ucsd_percent_change"
   ]
  },
  {
   "cell_type": "code",
   "execution_count": null,
   "metadata": {
    "collapsed": true
   },
   "outputs": [],
   "source": [
    "grader.check('q212f')"
   ]
  },
  {
   "cell_type": "markdown",
   "metadata": {},
   "source": [
    "### 2.2. Visualizing housing prices"
   ]
  },
  {
   "cell_type": "markdown",
   "metadata": {},
   "source": [
    "In this section of the lab, we will begin to plot some of the calculations we made earlier using bar plots, line plots, and scatter plots. We have provided several helper functions to make this easier for you to graph, but in future weeks, you will learn how to do this on your own."
   ]
  },
  {
   "cell_type": "markdown",
   "metadata": {},
   "source": [
    "#### (a) Bar Plots\n",
    "\n",
    "First, let's try using bar plots to compare the data we've calculated. Bar plots are great to compare a single quantitative variable (in this case, average percent change in housing prices) across different categories.\n",
    "\n",
    "To help you answer this question, we've created a function called `draw_bar_plot`. It takes four arguments:\n",
    "\n",
    "1. `categories_label` the vertical (category) axis label (a string),\n",
    "2. `categories` an array containing the categories in the dataset (strings),\n",
    "3. `values_label` the horizontal (bar size) axis label (a string, for example \"count\" or \"proportion\"), and\n",
    "4. `values` an array of numbers containing the lengths of the bars for each category, having the same length as `categories`.\n",
    "\n",
    "We've also provided `campuses`, an array containing strings of the abbreviations for each UC campus that we have data for. "
   ]
  },
  {
   "cell_type": "code",
   "execution_count": null,
   "metadata": {
    "collapsed": true
   },
   "outputs": [],
   "source": [
    "## Run this cell.\n",
    "def draw_bar_plot(categories_label, categories, values_label, values):\n",
    "    Table().with_column(categories_label, categories)\\\n",
    "        .with_column(values_label, values).ibarh(categories_label)"
   ]
  },
  {
   "cell_type": "markdown",
   "metadata": {},
   "source": [
    "#### Question 2.2.1.\n",
    "\n",
    "Using your average percent change calculations above, create a bar chart with the `draw_bar_plot` function comparing the values across campuses. You should first use the values you calculated in the previous section and create an array called `avg_percent_changes` containing the corresponding values in the same order as the `campuses` array.\n",
    "\n",
    "Make sure you use informative axis titles."
   ]
  },
  {
   "cell_type": "code",
   "execution_count": null,
   "metadata": {
    "collapsed": true
   },
   "outputs": [],
   "source": [
    "campuses = make_array(\"UCB\", \"UCLA\", \"UCM\", \"UCR\", \"UCSB\", \"UCSC\", \"UCSD\")\n",
    "avg_percent_changes = \n",
    "\n",
    "draw_bar_plot(..., ..., ..., ...)"
   ]
  },
  {
   "cell_type": "markdown",
   "metadata": {},
   "source": [
    "#### Question 2.2.2.\n",
    "\n",
    "Given the average percent change calculations above, which UC campus experienced the largest average percent change in housing prices from 2009 to 2019? Does this result come as surprising? Why do you think this occurred?"
   ]
  },
  {
   "cell_type": "markdown",
   "metadata": {},
   "source": [
    "*Write your answer here, replacing this text.*"
   ]
  },
  {
   "cell_type": "markdown",
   "metadata": {},
   "source": [
    "#### (b) Line Plots\n",
    "Now, let's try with line plots: a powerful visualization tool for analyzing trends in a quantitative variable over a period of time. To begin, let's use Berkeley's 2019 housing data. Below, we have defined a function `draw_line_plot` which takes in four arguments:\n",
    "\n",
    "1. `x_label` the horizontal axis label (a string),\n",
    "2. `x_data` an array containing the horizontal (\"x\") values of the points to draw,\n",
    "3. `y_label` the vertical axis label (a string), and\n",
    "4. `y_data` an array containing the vertical (\"y\") values of the points to draw, having the same length as `x_data`."
   ]
  },
  {
   "cell_type": "code",
   "execution_count": null,
   "metadata": {
    "collapsed": true
   },
   "outputs": [],
   "source": [
    "## Just run this cell.\n",
    "def draw_line_plot(x_label, x_data, y_label, y_data):\n",
    "    \"\"\"Draws a line plot of the given data.\"\"\"\n",
    "    Table().with_columns(x_label, x_data, y_label, y_data).plot(x_label)"
   ]
  },
  {
   "cell_type": "markdown",
   "metadata": {},
   "source": [
    "The following cell will return a line plot of Berkeley's 2019 housing prices, where the x-axis is the month expressed in numbers and the y-axis is the median housing price."
   ]
  },
  {
   "cell_type": "code",
   "execution_count": null,
   "metadata": {
    "collapsed": true
   },
   "outputs": [],
   "source": [
    "## Just run this cell.\n",
    "draw_line_plot(\"Month\", np.arange(1, 13), \"Berkeley Median Housing Price\", berkeley_2019)"
   ]
  },
  {
   "cell_type": "markdown",
   "metadata": {},
   "source": [
    "#### Question 2.2.3. \n",
    "\n",
    "Construct a line plot of UC Merced's 2019 housing prices with both axes labeled accordingly. \n",
    "\n",
    "*Note:* UC Merced and UC Berkeley are the only UCs that serve undergraduates on the semester system, so we might be able to compare their trends better."
   ]
  },
  {
   "cell_type": "code",
   "execution_count": null,
   "metadata": {
    "collapsed": true
   },
   "outputs": [],
   "source": [
    "..."
   ]
  },
  {
   "cell_type": "markdown",
   "metadata": {},
   "source": [
    "#### Question 2.2.4. \n",
    "\n",
    "Describe the trends you see with UC Berkeley and UC Merced. What are some potential reasons why the lines are different?"
   ]
  },
  {
   "cell_type": "markdown",
   "metadata": {},
   "source": [
    "*Write your answer here, replacing the text.*"
   ]
  },
  {
   "cell_type": "markdown",
   "metadata": {},
   "source": [
    "#### Question 2.2.3. \n",
    "\n",
    "Let's try graphing a different set of variables. Does the percent change in housing prices between 2009 and 2019 differ by month? Let's do this by looking at UCLA. Create a line plot of the monthly percent change in UCLA housing prices between 2009 and 2019, graphing the month on the X axis and the percent change for that month on the Y axis. \n",
    "\n",
    "*Hint:* What steps do we need to take in this question? How can we use elementwise subtraction and the percent change formula from before to create an array of percent changes? "
   ]
  },
  {
   "cell_type": "code",
   "execution_count": null,
   "metadata": {
    "collapsed": true
   },
   "outputs": [],
   "source": [
    "la_monthly_percent_change = ...\n",
    "draw_line_plot(\"Month\", ..., \"Percent Change\", la_monthly_percent_change)"
   ]
  },
  {
   "cell_type": "markdown",
   "metadata": {},
   "source": [
    "#### (c) Scatter Plots\n",
    "For this portion of the lab, we've provided a function called `draw_scatter_plot`.  It's very similar to `draw_line_plot`, except that it doesn't connect points with lines. It takes four arguments:\n",
    "\n",
    "1. `x_label` the horizontal axis label (a string),\n",
    "2. `x_data` an array containing the horizontal (\"x\") values of the points to draw,\n",
    "3. `y_label` the vertical axis label (a string), and\n",
    "4. `y_data` an array containing the vertical (\"y\") values of the points to draw, having the same length as `x_data`.\n",
    "\n"
   ]
  },
  {
   "cell_type": "code",
   "execution_count": null,
   "metadata": {
    "collapsed": true
   },
   "outputs": [],
   "source": [
    "## Just run this cell. \n",
    "def draw_scatter_plot(x_label, x_data, y_label, y_data):\n",
    "    \"\"\"Draws a scatter plot of the given data. \"\"\"\n",
    "    Table().with_columns(x_label, x_data, y_label, y_data).scatter(x_label)"
   ]
  },
  {
   "cell_type": "markdown",
   "metadata": {},
   "source": [
    "#### Question 2.2.4.\n",
    "Scatter plots are usually used to find the relationships between two quantitative variables. We want to look for trends when we compare these variables; for example, as X increases, does Y increase, decrease, or stay the same?\n",
    "\n",
    "In our case, let's use a scatter plot to explore the question: have housing prices increased with the student population? We've assigned the student populations for each campus (in the same order as the `campuses` array) for 2009 and 2019 in `student_pop_2009` and `student_pop_2019`. \n",
    "\n",
    "Using those arrays, calculate the increase in student population by using elementwise array arithmetic and store it in the array `student_pop_change`. Then, create a scatterplot, placing `student_pop_change` on the X-axis and the `avg_percent_changes` you calculated previously on the Y-axis."
   ]
  },
  {
   "cell_type": "code",
   "execution_count": null,
   "metadata": {
    "collapsed": true
   },
   "outputs": [],
   "source": [
    "student_pop_2019 = make_array(43185, 44371, 8847, 25547, 26314, 19494, 38736)\n",
    "student_pop_2009 = make_array(35830, 38550, 3414, 19439, 22850, 16775, 28418)\n",
    "student_pop_change = ...\n",
    "draw_scatter_plot(..., ..., ..., ...)"
   ]
  },
  {
   "cell_type": "markdown",
   "metadata": {},
   "source": [
    "#### Question 2.2.5.\n",
    "Is there a trend? It may be too hard to tell given the data we currently have. Let's try exploring a new question: how does the average percent change relate to the average amount of student debt in dollars? \n",
    "\n",
    "We've provided the `debt` array, again in the same order as `campuses`, that contains the average amount of student debt at graduation in 2019 by campus. Using those values and `avg_percent_changes`, create a scatterplot comparing the two variables.\n",
    "\n",
    "Generally, it's good practice to put the independent variable on the x-axis and the dependent variable on the y-axis. What is the independent variable in this case?"
   ]
  },
  {
   "cell_type": "code",
   "execution_count": null,
   "metadata": {
    "collapsed": true
   },
   "outputs": [],
   "source": [
    "debt = make_array(18197, 22013, 19551, 21104, 20665, 22804, 21430)\n",
    "draw_scatter_plot(..., ..., ..., ...)"
   ]
  },
  {
   "cell_type": "markdown",
   "metadata": {},
   "source": [
    "#### Question 2.2.6.\n",
    "\n",
    "This scatterplot has a clearer trend than the one from 2.2.4. What is the trend? Is it correct to say that increasing student debt causes housing prices to decrease (or vice versa)? Why or why not?"
   ]
  },
  {
   "cell_type": "markdown",
   "metadata": {},
   "source": [
    "*Write your answer here, replacing the text.*"
   ]
  },
  {
   "cell_type": "markdown",
   "metadata": {},
   "source": [
    "# 3. Iteration\n",
    "\n",
    "For this section, we will move on from the UC housing data and focus on reviewing iteration (for loops) and conditionals (if/else statements). Recall that iteration is the process of dooing something many times, while conditions is the process of making a decision using boolean logic (True/False).\n",
    "\n",
    "For loops begin with the statement `for i in array:` where `i` is a *dummy variable* and `array` is a collection of data. We don't necessarily need to use `i` as the name of dummy variable, it can be a word like flip, turn, trial, or anything else as long as it can be a variable name. Similar to an if/else statement, the code that will be completed in each loop will be indented. \n",
    "\n",
    "Generally, we will use iteration to do 2 things: repeat a block of code many times or do something to each value in a collection. In the first case, it doesn't matter what the array we use is, because we will not reference the dummy variable within the for loop. In the second case, it does matter what the array we use is, because the dummy variable will be equal to a specific element in the collection at each loop.\n",
    "\n",
    "**Note: although this section does not have autograders, this section will be graded. We will manually review your code to check if you are correctly implementing if/else statements and for loops.**"
   ]
  },
  {
   "cell_type": "code",
   "execution_count": null,
   "metadata": {},
   "outputs": [],
   "source": [
    "## For example: doing something many times. Run this cell.\n",
    "# Let's print \"Wow!\" 3 times. \n",
    "# Notice how the dummy variable, word, does not appear in the body of code.\n",
    "for word in np.arange(3):\n",
    "    print(\"Wow!\")"
   ]
  },
  {
   "cell_type": "code",
   "execution_count": null,
   "metadata": {},
   "outputs": [],
   "source": [
    "## Now let's do something with each value in an array. Run this cell.\n",
    "# Let's print every word in an array.\n",
    "# Notice how the dummy variable, fruit, does appear in the body.\n",
    "apples = make_array(\"Fuji\", \"Granny Smith\", \"Red Delicious\")\n",
    "for fruit in apples:\n",
    "    print(fruit)"
   ]
  },
  {
   "cell_type": "markdown",
   "metadata": {},
   "source": [
    "For this exercise, we will play a game. We have placed a number of various colored pieces of paper in a bag. Each color represents a number of points: red is 3, blue = 2, and green is 1. Every other color in the hat is worth 0 points.\n",
    "\n",
    "**Question 3.1** Let's review conditionals. In the cell below, complete the following if/else statement so that `points` is set to the correct value depending on the color of `paper`."
   ]
  },
  {
   "cell_type": "code",
   "execution_count": null,
   "metadata": {
    "collapsed": true
   },
   "outputs": [],
   "source": [
    "paper = \"blue\"\n",
    "points = 0\n",
    "\n",
    "## Fix the code below.\n",
    "if paper ??? \"red\":\n",
    "    points = ...\n",
    "elif paper ??? ???:\n",
    "    points = 2\n",
    "elif ...:\n",
    "    points = ?\n",
    "else:\n",
    "    points = ?"
   ]
  },
  {
   "cell_type": "markdown",
   "metadata": {},
   "source": [
    "**Question 3.2** Now, let's use a for loop to grab **100 pieces of paper** from the hat.\n",
    "\n",
    "*Hint:* `np.random.choice` will randomly select 1 value from an array, and np.append() will add a value to an array. In this case, we want to save the results of each pull in a new array called `results`. We can do this by doing:\n",
    "\n",
    "`array = np.append(array, value)` In this case, Python will add `value` to the end of `array` and then assign `array` to the new version containing `value`."
   ]
  },
  {
   "cell_type": "code",
   "execution_count": null,
   "metadata": {},
   "outputs": [],
   "source": [
    "colors = make_array(\"red\", \"blue\", \"green\", \"purple\", \"black\")\n",
    "pieces_of_paper = make_array()\n",
    "\n",
    "## Fix the code below.\n",
    "for grab in np.arange(???):\n",
    "    pull = ...\n",
    "    pieces_of_paper = np.append(pieces_of_paper, ???)\n",
    "    \n",
    "pieces_of_paper"
   ]
  },
  {
   "cell_type": "markdown",
   "metadata": {},
   "source": [
    "**Question 3.3** Now that we have an array of 100 pieces of paper, called `pieces_of_paper`, we want to calculate our score. Using code similar to your answer in Question 3.1, a for loop, and `pieces_of_paper`, finish the skeleton code so we can calculate our final score.\n",
    "\n",
    "*Hint:* Similar to how we updated the array in Question 3.2, we can update our score by doing `score = score + #` where # is the point value for that piece of paper. \n",
    "\n",
    "*Hint 2:* Stuck? Look at the examples of for loops above. Remember that, for each of the 100 pieces of paper we pulled earlier, we are looking at its color, and adding the corresponding point value to `score`."
   ]
  },
  {
   "cell_type": "code",
   "execution_count": null,
   "metadata": {},
   "outputs": [],
   "source": [
    "score = 0 \n",
    "\n",
    "for piece in ???:\n",
    "    if piece ...:\n",
    "        score = score + ???\n",
    "    elif ...:\n",
    "        score = ...\n",
    "    elif ...:\n",
    "        ...\n",
    "\n",
    "score"
   ]
  },
  {
   "cell_type": "markdown",
   "metadata": {},
   "source": [
    "## 4. Submission\n",
    "You're done with this lab!\n",
    "\n",
    "To submit this notebook, please download your notebook as a .ipynb file and submit to Gradescope. You can do so by navigating to the toolbar at the top of this page, clicking File > Download as... > Notebook (.ipynb). Then, go to our class's Gradescope page [here](https://www.gradescope.com/courses/136698) and upload your file under \"Lab 6.\" \n",
    "\n",
    "To check your work for all autograded questions, run the cell below. \n",
    "\n",
    "It's fine to submit multiple times, but we will only grade the final notebook you submit for each assignment. Make sure you pass all tests to receive credit."
   ]
  },
  {
   "cell_type": "code",
   "execution_count": null,
   "metadata": {
    "collapsed": true
   },
   "outputs": [],
   "source": [
    "# For your convenience, you can run this cell to run all the tests at once.\n",
    "grader.check_all()"
   ]
  },
  {
   "cell_type": "code",
   "execution_count": null,
   "metadata": {
    "collapsed": true
   },
   "outputs": [],
   "source": []
  }
 ],
 "metadata": {
  "kernelspec": {
   "display_name": "Python 3",
   "language": "python",
   "name": "python3"
  },
  "language_info": {
   "codemirror_mode": {
    "name": "ipython",
    "version": 3
   },
   "file_extension": ".py",
   "mimetype": "text/x-python",
   "name": "python",
   "nbconvert_exporter": "python",
   "pygments_lexer": "ipython3",
   "version": "3.6.1"
  }
 },
 "nbformat": 4,
 "nbformat_minor": 4
}
