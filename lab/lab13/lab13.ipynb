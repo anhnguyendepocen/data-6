{
 "cells": [
  {
   "cell_type": "markdown",
   "metadata": {},
   "source": [
    "# Lab 13\n",
    "Welcome to Lab 13! In lecture, we've been talking about how we can use random sampling to test hypotheses about the world. In this lab, we will focus just on simulating random sampling as a way of understanding the world, rather than for the purposes of testing hypotheses. More information about randomness in the textbook can be found [here.](https://data-8r.gitbooks.io/textbook/chapters/08/randomness.html)"
   ]
  },
  {
   "cell_type": "code",
   "execution_count": null,
   "metadata": {
    "collapsed": true
   },
   "outputs": [],
   "source": [
    "# Run this cell, but please don't change it.\n",
    "\n",
    "# These lines import the Numpy and Datascience modules.\n",
    "import numpy as np\n",
    "from datascience import *\n",
    "\n",
    "# These lines do some fancy plotting magic\n",
    "import matplotlib\n",
    "%matplotlib inline\n",
    "import matplotlib.pyplot as plots\n",
    "plots.style.use('fivethirtyeight')\n",
    "\n",
    "# Don't change this cell; just run it. \n",
    "import otter\n",
    "grader = otter.Notebook()\n",
    "\n",
    "Table.interactive_plots()"
   ]
  },
  {
   "cell_type": "markdown",
   "metadata": {},
   "source": [
    "## Warmup: Apple Probabilities\n",
    "\n",
    "As a quick warmup, let's review how to calculate probabilities and the difference between sampling with replacement and without replacement.\n",
    "\n",
    "Imagine you have a barrel of apples. Inside the barrel, there are 40 apples in total - 15 are Fuji apples, 8 are Honeycrisp, 6 are Granny Smith, and 11 are Cosmic Crisp. \n",
    "\n",
    "1. What is the probability of grabbing a honeycrisp apple?\n",
    "2. I reach into the barrel, grab a Fuji apple, and **eat it** - core and all. Then, I go back in the barrel, and grab a Cosmic Crisp apple. What is the probability of this occurring (Fuji and then Cosmic Crisp)?\n",
    "3. I hate Granny Smith apples! I reach into the barrel, grab a Granny Smith, and **put it back**. I then reach into the barrel and grab a Fuji apple. What is the probability of this happening (Granny Smith and then Fuji)?\n",
    "\n",
    "Use Python coding to answer the questions below. As you may have noticed Question 2 is an example of sampling without replacement, while Question 3 is sampling with replacement. What happens to the probabilities then?"
   ]
  },
  {
   "cell_type": "code",
   "execution_count": null,
   "metadata": {
    "collapsed": true
   },
   "outputs": [],
   "source": [
    "prob_q1 = ...\n",
    "prob_q2 = ...\n",
    "prob_q3 = ..."
   ]
  },
  {
   "cell_type": "code",
   "execution_count": null,
   "metadata": {
    "collapsed": true
   },
   "outputs": [],
   "source": [
    "grader.check('q1')"
   ]
  },
  {
   "cell_type": "markdown",
   "metadata": {},
   "source": [
    "## Juries in Alameda County\n",
    "Under the Sixth Amendment to the US Constitution, you are guaranteed the right to trial by a jury of your peers in a criminal trial. However - if your jury does not represent the true makeup of your community, is it a fair trial? The Supreme Court explored this question in the case Swain v. Alabama, in which a Black man named Robert Swain was convicted of raping a white woman and sentenced to death. However, in Mr. Swain's case, he was convicted by an all-white jury, despite 26% of Talladega County (where the trial occurred) being Black. If you're interested in reading more, you can check out the wikipedia page [here](https://en.wikipedia.org/wiki/Swain_v._Alabama) and our textbook chapter on it [here](https://data-8r.gitbooks.io/textbook/chapters/08/1/jury-selection.html). \n",
    "\n",
    "Jury panels that do not represent the community and your peers has implications for justice, as it may not necessarily be fair for the accused. Does this occur in our own community? The ACLU of Northern California performed a study in 2009 and 2010 analyzing the composition of jury panels in Alameda County. They found the following (where blue bars represent the proportion of eligible jurors in the county and the yellow bar represents the proportion of those who actually served in juries)."
   ]
  },
  {
   "cell_type": "code",
   "execution_count": null,
   "metadata": {
    "collapsed": true,
    "for_assignment_type": "student"
   },
   "outputs": [],
   "source": [
    "## Just run this cell.\n",
    "jury = Table().with_columns(\n",
    "    'Ethnicity', make_array('Asian', 'Black', 'Latinx', 'Other', 'White'),\n",
    "    'Eligible', make_array(0.15, 0.18, 0.12, 0.01, 0.54),\n",
    "    'Panels', make_array(0.26, 0.08, 0.08, 0.54, 0.04))\n",
    "jury.barh(\"Ethnicity\")"
   ]
  },
  {
   "cell_type": "markdown",
   "metadata": {},
   "source": [
    "As you can see, there appears to be a discrepancy. However - this doesn't necessarily mean that there is a problem. What if these differences are simply due to random chance? We can analyze this.\n",
    "\n",
    "We've loaded a table containing 100 individuals corresponding to the proportions of eligible jurors by ethnicity in Alameda County called `eligible`. For the sake of this analysis, we will sample *with replacement* from this table, since there are over a million eligible jurors in the county and a table of that size would be too large. In reality, however, you would be sampling *without replacement* from the population."
   ]
  },
  {
   "cell_type": "code",
   "execution_count": null,
   "metadata": {
    "collapsed": true
   },
   "outputs": [],
   "source": [
    "eligible = Table().read_table(\"alameda_county.csv\")\n",
    "eligible.group(0)"
   ]
  },
  {
   "cell_type": "markdown",
   "metadata": {},
   "source": [
    "**Question 2.** First, let's take a sample from the `eligible` table. The ACLU study looked at 1,453 people. Using the `tbl.sample()` function, sample **with replacement** 1,453 jurors. Assign `sample_counts` to a 2 column table containing the **counts** of each ethnicity in your single sample. "
   ]
  },
  {
   "cell_type": "code",
   "execution_count": null,
   "metadata": {
    "collapsed": true
   },
   "outputs": [],
   "source": [
    "sample = \n",
    "sample_counts = \n",
    "sample_counts"
   ]
  },
  {
   "cell_type": "code",
   "execution_count": null,
   "metadata": {
    "collapsed": true,
    "scrolled": true
   },
   "outputs": [],
   "source": [
    "grader.check('q2')"
   ]
  },
  {
   "cell_type": "markdown",
   "metadata": {},
   "source": [
    "**Question 3** Using your `sample_counts` table and array arithmetic, calculate the proportion of each ethnicity in your sample. Create a new table, called `sample_prob_tbl`, that has 2 columns: \"`Ethnicity`\" that has the various ethnic groups in **the same order** as the `jury` table, and \"`Sampled Proportion`\", their proportions in your sample."
   ]
  },
  {
   "cell_type": "code",
   "execution_count": null,
   "metadata": {
    "collapsed": true
   },
   "outputs": [],
   "source": [
    "sample_probs = ...\n",
    "sample_prob_tbl = ...\n",
    "sample_prob_tbl"
   ]
  },
  {
   "cell_type": "code",
   "execution_count": null,
   "metadata": {
    "collapsed": true
   },
   "outputs": [],
   "source": [
    "grader.check('q3')"
   ]
  },
  {
   "cell_type": "markdown",
   "metadata": {},
   "source": [
    "**Question 4.** The following code will add the actual population proportions to your table and generate a bar chart comparing them to your sampled results. What do you notice about the proportions? Write your findings in the Markdown cell below."
   ]
  },
  {
   "cell_type": "code",
   "execution_count": null,
   "metadata": {
    "collapsed": true
   },
   "outputs": [],
   "source": [
    "sample_prob_tbl.with_columns(\"Eligible Proportion (Population)\", jury.column(\"Eligible\")).barh(\"Ethnicity\")"
   ]
  },
  {
   "cell_type": "markdown",
   "metadata": {},
   "source": [
    "*Write your answer here, replacing this text.*"
   ]
  },
  {
   "cell_type": "markdown",
   "metadata": {},
   "source": [
    "You should have noticed that they are similar. If you ran the sampling cell again, you may notice that the sampled proportions change, but stay relatively constant. So, then, what role does sample size play? Let's repeat the same steps, but use a function this time. \n",
    "\n",
    "**Question 5.** Create a function called `eligible_sample` that takes in a single argument - the sample size - and prints a bar chart comparing the proportions of each ethnic group in the `sample` table to the actual population proportions from the `eligible` table.\n",
    "\n",
    "*Hint:* You can use a lot of the same code previously (including the line provided to you in Question 4). What do you need to change?"
   ]
  },
  {
   "cell_type": "code",
   "execution_count": null,
   "metadata": {
    "collapsed": true
   },
   "outputs": [],
   "source": [
    "def eligible_sample(sample_size):\n",
    "    ...\n",
    "    \n",
    "eligible_sample(1453)"
   ]
  },
  {
   "cell_type": "markdown",
   "metadata": {},
   "source": [
    "**Question 6.** Let's use a small sample size - 145, or approximately 10% of the original sample. Run the cell below multiple times and look at how the sampled distribution changes. What do you notice? Write in the Markdown Cell and discuss with a classmate or TA.\n",
    "\n",
    "**Note:** You may receive an error. This probably means your sample didn't include one of the groups. Just ignore it and run it again!"
   ]
  },
  {
   "cell_type": "code",
   "execution_count": null,
   "metadata": {
    "collapsed": true
   },
   "outputs": [],
   "source": [
    "eligible_sample(145)"
   ]
  },
  {
   "cell_type": "markdown",
   "metadata": {},
   "source": [
    "**Write your answer here, replacing this text.**"
   ]
  },
  {
   "cell_type": "markdown",
   "metadata": {},
   "source": [
    "However, it might be a bit hard to tell how much the proportions change between samples. We can use a histogram to help visualize this. Now, we'll focus primarily on the proportion of Black jurors sampled. Recall that, in Alameda County, Black folks make up 18% of eligible jurors but only 8% of those on panels.\n",
    "\n",
    "**Question 7** First, let's do this with one sample. Write a function called `sample_prop_black` that takes in one argument, the sample size, and returns the proportion of Black jurors in a sample created with replacement from `eligible` as a float.\n",
    "\n",
    "*Hint:* Getting stuck? Try doing this with `sample` and then generalizing it to a function."
   ]
  },
  {
   "cell_type": "code",
   "execution_count": null,
   "metadata": {
    "collapsed": true
   },
   "outputs": [],
   "source": [
    "def sample_prop_black(sample_size):\n",
    "    ...\n",
    "\n",
    "sample_prop_black(145)"
   ]
  },
  {
   "cell_type": "code",
   "execution_count": null,
   "metadata": {
    "collapsed": true
   },
   "outputs": [],
   "source": [
    "grader.check('q7')"
   ]
  },
  {
   "cell_type": "markdown",
   "metadata": {},
   "source": [
    "The following cells will use your `sample_prop_black` function to generate a histogram of 1000 different resamples, with different sample sizes. We've set the bins so it's easy to compare between the groups, and the red dot represents the population proportion of Black folks in Alameda County. Just run the cells."
   ]
  },
  {
   "cell_type": "code",
   "execution_count": null,
   "metadata": {
    "collapsed": true
   },
   "outputs": [],
   "source": [
    "## Just run this cell.\n",
    "sample_size = 1000\n",
    "\n",
    "proportions = make_array()\n",
    "for i in np.arange(1000):\n",
    "    proportions = np.append(proportions, sample_prop_black(sample_size))\n",
    "\n",
    "Table.static_plots()\n",
    "Table().with_column(\"Sample Proportion Black\", proportions).hist(bins = np.arange(0.12, 0.25, 0.01))\n",
    "plots.scatter(0.18, 0, color='red', s=30);"
   ]
  },
  {
   "cell_type": "code",
   "execution_count": null,
   "metadata": {
    "collapsed": true
   },
   "outputs": [],
   "source": [
    "## Just run this cell.\n",
    "sample_size = 500\n",
    "\n",
    "proportions = make_array()\n",
    "for i in np.arange(1000):\n",
    "    proportions = np.append(proportions, sample_prop_black(sample_size))\n",
    "\n",
    "Table.static_plots()\n",
    "Table().with_column(\"Sample Proportion Black\", proportions).hist(bins = np.arange(0.12, 0.25, 0.01))\n",
    "plots.scatter(0.18, 0, color='red', s=30);"
   ]
  },
  {
   "cell_type": "code",
   "execution_count": null,
   "metadata": {
    "collapsed": true
   },
   "outputs": [],
   "source": [
    "## Just run this cell.\n",
    "sample_size = 250\n",
    "\n",
    "proportions = make_array()\n",
    "for i in np.arange(1000):\n",
    "    proportions = np.append(proportions, sample_prop_black(sample_size))\n",
    "\n",
    "Table.static_plots()\n",
    "Table().with_column(\"Sample Proportion Black\", proportions).hist(bins = np.arange(0.12, 0.25, 0.01))\n",
    "plots.scatter(0.18, 0, color='red', s=30);"
   ]
  },
  {
   "cell_type": "markdown",
   "metadata": {},
   "source": [
    "**Question 8.** What do you notice about the sample proportions as sample size decreases? How do they change in relation to the population proportion? \n",
    "\n",
    "In general, what role does sample size have on variability? Conceptually, why does this occur? Write your answer below and discuss with a classmate or TA. "
   ]
  },
  {
   "cell_type": "markdown",
   "metadata": {},
   "source": [
    "*Write your answer here, replacing this text.*"
   ]
  },
  {
   "cell_type": "markdown",
   "metadata": {},
   "source": [
    "**Question 9.** Notice that, even with the sample size decreasing, the observed proportion of Black jurors (8%) is still highly unlikely to occur in any of these samples. Knowing that all of the samples are random samples using the actual population of eligible jurors, what could this mean about the ethnic makeup of jury panels (not eligible jurors) in Alameda County in 2010?"
   ]
  },
  {
   "cell_type": "markdown",
   "metadata": {},
   "source": [
    "*Write your answer here, replacing this text.*"
   ]
  },
  {
   "cell_type": "markdown",
   "metadata": {},
   "source": [
    "## Submission\n",
    "\n",
    "You're done with this lab!\n",
    "\n",
    "To submit this notebook, please download your notebook as a .ipynb file and submit to Gradescope. You can do so by navigating to the toolbar at the top of this page, clicking File > Download as... > Notebook (.ipynb). Then, go to our class's Gradescope page [here](https://www.gradescope.com/courses/136698) and upload your file under \"Lab 13.\" \n",
    "\n",
    "To check your work for all autograded questions, run the cell below. \n",
    "\n",
    "It's fine to submit multiple times, but we will only grade the final notebook you submit for each assignment. Make sure you pass all tests to receive credit."
   ]
  },
  {
   "cell_type": "code",
   "execution_count": null,
   "metadata": {
    "collapsed": true
   },
   "outputs": [],
   "source": [
    "# For your convenience, you can run this cell to run all the tests at once.\n",
    "grader.check_all()"
   ]
  },
  {
   "cell_type": "code",
   "execution_count": null,
   "metadata": {
    "collapsed": true
   },
   "outputs": [],
   "source": []
  }
 ],
 "metadata": {
  "anaconda-cloud": {},
  "kernelspec": {
   "display_name": "Python 3",
   "language": "python",
   "name": "python3"
  },
  "language_info": {
   "codemirror_mode": {
    "name": "ipython",
    "version": 3
   },
   "file_extension": ".py",
   "mimetype": "text/x-python",
   "name": "python",
   "nbconvert_exporter": "python",
   "pygments_lexer": "ipython3",
   "version": "3.6.1"
  }
 },
 "nbformat": 4,
 "nbformat_minor": 4
}
