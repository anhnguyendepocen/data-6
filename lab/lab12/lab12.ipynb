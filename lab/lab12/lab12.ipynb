{
 "cells": [
  {
   "cell_type": "markdown",
   "metadata": {},
   "source": [
    "## Introduction to Maps\n",
    "\n",
    "Welcome to Lab 12! Today we will be exploring the Bay Area Bike Share service to practice using the .map_table function. \n",
    "\n",
    "As usual, run the cell below to prepare everything!"
   ]
  },
  {
   "cell_type": "code",
   "execution_count": null,
   "metadata": {
    "collapsed": true
   },
   "outputs": [],
   "source": [
    "# Run this cell to set up the notebook, but please don't change it.\n",
    "\n",
    "# These lines import the Numpy and Datascience modules.\n",
    "import numpy as np\n",
    "import math\n",
    "from datascience import *\n",
    "\n",
    "# These lines do some fancy plotting magic.\n",
    "import matplotlib\n",
    "%matplotlib inline\n",
    "import matplotlib.pyplot as plt\n",
    "plt.style.use('fivethirtyeight')\n",
    "import warnings\n",
    "warnings.simplefilter('ignore', FutureWarning)\n",
    "Table.interactive_plots()"
   ]
  },
  {
   "cell_type": "markdown",
   "metadata": {},
   "source": [
    "## Mapping the Bay Area Bike Share\n"
   ]
  },
  {
   "cell_type": "markdown",
   "metadata": {},
   "source": [
    "In class, you were introduced to the Bay Area Bike Share dataset and `map_table`, a powerful visualization tool. In this exercise, you will get to practice your new skills.\n",
    "\n",
    "The defunct Bay Area Bike Share service (now known as BayWheels by Lyft) published a dataset describing every bicycle rental from September 2014 to August 2015 in their system. There were 354,152 rentals in all. The columns are:\n",
    "\n",
    "- An ID for the rental\n",
    "- Duration of the rental, in seconds\n",
    "- Start date\n",
    "- Name of the Start Station and code for Start Terminal\n",
    "- Name of the End Station and code for End Terminal\n",
    "- A serial number for the bike\n",
    "- Subscriber type and zip code\n",
    "\n",
    "**Question 1.** The dataset is in a file called `trip.csv`.  Load it into a table named `trips`:"
   ]
  },
  {
   "cell_type": "code",
   "execution_count": null,
   "metadata": {
    "collapsed": true
   },
   "outputs": [],
   "source": [
    "trips = ...\n",
    "trips"
   ]
  },
  {
   "cell_type": "markdown",
   "metadata": {},
   "source": [
    "**Question 2.** Create a new table `starts` that has two columns: `Start Station` that has the name of every station, and `Number of Trips` that has the number of rides started at the corresponding station.\n",
    "\n",
    "You should also create a new table called `durations`, that has two columns: `Start Station` that has the name of every station and `Average Duration` that has the average duration of rides from the corresponding station.\n",
    "\n",
    "*Hint:* `tbl.group(\"column\", function)` will group data in a column by a specific value. By default, if you do not specify the function argument (ie. `tbl.group(\"column\")`), it will return the count of values in each unique group in the dataset. If you do specify the function argument, it will apply that function to every other column in the table. This [video](https://www.youtube.com/watch?v=HLoYTCUP0fc) will help explain this."
   ]
  },
  {
   "cell_type": "code",
   "execution_count": null,
   "metadata": {
    "collapsed": true,
    "scrolled": true
   },
   "outputs": [],
   "source": [
    "starts = ...\n",
    "starts"
   ]
  },
  {
   "cell_type": "code",
   "execution_count": null,
   "metadata": {
    "collapsed": true
   },
   "outputs": [],
   "source": [
    "durations = ...\n",
    "durations"
   ]
  },
  {
   "cell_type": "markdown",
   "metadata": {},
   "source": [
    "**Question 3.** Produce a bar graph using the `durations` table that compares each station by the average duration of rides from that station, with the bars sorted in descending order."
   ]
  },
  {
   "cell_type": "code",
   "execution_count": null,
   "metadata": {
    "collapsed": true,
    "scrolled": true
   },
   "outputs": [],
   "source": [
    "..."
   ]
  },
  {
   "cell_type": "markdown",
   "metadata": {},
   "source": [
    "Our other dataset, `station.csv`, contains geographical information about each bike station, including latitude, longitude, and a \"landmark\", which is the name of the city where the station is located.\n",
    "\n",
    "**Question 4.** Load `station.csv`.  Load it into a table named `stations`:"
   ]
  },
  {
   "cell_type": "code",
   "execution_count": null,
   "metadata": {
    "collapsed": true
   },
   "outputs": [],
   "source": [
    "stations = \n",
    "stations"
   ]
  },
  {
   "cell_type": "markdown",
   "metadata": {},
   "source": [
    "**Question 5.** Draw a map of where these `stations` are located, using `Marker.map_table(tbl)`. This function takes in one argument: a table in a specific format. The table must have at least two columns, in the following order: latitude, longitude, and (as a third column) an optional identifier for each point. \n"
   ]
  },
  {
   "cell_type": "code",
   "execution_count": null,
   "metadata": {
    "collapsed": true
   },
   "outputs": [],
   "source": [
    "..."
   ]
  },
  {
   "cell_type": "markdown",
   "metadata": {},
   "source": [
    "The map is created using [OpenStreetMap](http://www.openstreetmap.org/#map=5/51.500/-0.100), which is an open online mapping system that you can use just as you would use Google Maps or any other online map. Zoom in to San Francisco to see how the stations are distributed. Click on a marker to see which station it is, assuming you included an identifier column."
   ]
  },
  {
   "cell_type": "markdown",
   "metadata": {},
   "source": [
    "You can also represent points on a map by colored circles using `Circle.map_table`. This works the same as `Marker.map_table`, taking in a table with columns in a specific order, but it will use colored circles instead of the marker bubbles. In this case, we also will use some optional arguments, `color` and `radius`, that will allow us to change the circles that represent each station. \n",
    "\n",
    "**Question 6.** You may have noticed that `stations` contains multiple cities. Let's narrow our analysis. Make a table called `sf_map_data` with the `lat`, `long`, and `name` columns of **just** the San Francisco bike stations."
   ]
  },
  {
   "cell_type": "code",
   "execution_count": null,
   "metadata": {
    "collapsed": true
   },
   "outputs": [],
   "source": [
    "sf_stations = ...\n",
    "sf_map_data = ...\n",
    "\n",
    "Circle.map_table(sf_map_data, color='green', radius=200)"
   ]
  },
  {
   "cell_type": "markdown",
   "metadata": {},
   "source": [
    "In this map, we set `radius=200` which tells Python how big to make the circles for our points. Wouldn't it be nice if we could combine information from our `starts` table and set the size of the circles to how many trips originated from that station? Let's write a function that lets us do that."
   ]
  },
  {
   "cell_type": "markdown",
   "metadata": {},
   "source": [
    "**Question 6.** Define a function `find_trip_count` that takes a station name and returns the number of trips that started at that station. Then, define a function `find_average_duration` that takes a station name and returns the average duration for trips that started at that station..\n",
    "\n",
    "*Hint:* It may be useful to use the tables we defined at the start of the lab: `starts` and `duration`."
   ]
  },
  {
   "cell_type": "code",
   "execution_count": null,
   "metadata": {
    "collapsed": true
   },
   "outputs": [],
   "source": [
    "def find_trip_count(station_name):\n",
    "    ...\n",
    "\n",
    "def find_average_duration(station_name):\n",
    "    ..."
   ]
  },
  {
   "cell_type": "markdown",
   "metadata": {},
   "source": [
    "Unfortunately, some of the stations in the `stations` dataset are not present in the trips dataset. We must filter them out before applying find_trip_count to the remainder.\n",
    "\n",
    "\n",
    "**Question 7.** Create a new table called `count_by_station` that has the rows in `stations` that are from stations located in the `trips` table. It should also have the same columns as `stations`, but with two added columns: `Number of Trips`, which contains the number of trips from that station, as well as `Average Trip Duration`, which contains the average trip duration from that station. To create these arrays, you should use `tbl.apply`.\n",
    "\n",
    "*Hint:* What table method allows us to filter a table for specific values? Then, what predicate allows us to check if a value is contained in an array? We recommend using that and saving the filtered table in the variable `stations_in_trips` before making `count_by_station`."
   ]
  },
  {
   "cell_type": "code",
   "execution_count": null,
   "metadata": {
    "collapsed": true
   },
   "outputs": [],
   "source": [
    "stations_in_trips = ...\n",
    "count_by_station = ...\n",
    "    \n",
    "    \n",
    "count_by_station"
   ]
  },
  {
   "cell_type": "markdown",
   "metadata": {},
   "source": [
    "Finally, lets make our map! Below we have defined a function to help you with the colors."
   ]
  },
  {
   "cell_type": "code",
   "execution_count": null,
   "metadata": {
    "collapsed": true
   },
   "outputs": [],
   "source": [
    "## Just run this cell. \n",
    "\n",
    "def duration_to_color(average_duration):\n",
    "    \"\"\"Converts an average trip duration to a string describing a color.\n",
    "    \n",
    "    Longer durations will be closer to bright red, and shorter durations\n",
    "    will be closer to black.\n",
    "    \n",
    "    Args:\n",
    "      average_duration (float): The average trip duration for one\n",
    "        station.\n",
    "    \n",
    "    Returns:\n",
    "      (string): A string describing a color based on the given average\n",
    "        trip duration.  The string is in 6-digit hexidecimal format,\n",
    "        which is a common way to describe colors.\"\"\"\n",
    "    max_duration_color = 255\n",
    "    color_bits = 8\n",
    "    rescaled_duration = min(max_duration_color, int(256 * average_duration / 5000))\n",
    "    red_amount = 2**(2*color_bits) * rescaled_duration\n",
    "    color = '#{:06X}'.format(red_amount)\n",
    "    return color"
   ]
  },
  {
   "cell_type": "markdown",
   "metadata": {},
   "source": [
    "**Question 8.** Finally, to graph the data, we need to create a new table called `starts_map_data` with that has five columns in the specific order that `Circle.map_table` can use: `lat`, `long`, `name`, `colors` and `area`. \n",
    "\n",
    "`lat` should refer to a station's latitude, `long` a station's longitude, `name` a station's name, `colors` a color based on results of calling the function `duration_to_color` on that station's duration, and `area` a number based on the results of calling `find_trip_count` on a station.\n",
    "\n",
    "In this case, our functions will allow us to compare the average duration of rides from a station graphically (through color) and the number of rides from a station through the size of the circle. By using a table with columns for `colors` and `area`, we don't need to specify the values by using the optional `color = ` and `radius = ` arguments.  "
   ]
  },
  {
   "cell_type": "code",
   "execution_count": null,
   "metadata": {
    "collapsed": true,
    "scrolled": false
   },
   "outputs": [],
   "source": [
    "starts_map_data = ...\n",
    "\n",
    "\n",
    "# The code below will show some of your table as well as graph ot. \n",
    "starts_map_data.show(3)\n",
    "Circle.map_table(starts_map_data)"
   ]
  },
  {
   "cell_type": "markdown",
   "metadata": {},
   "source": [
    "### Conclusions\n",
    "It seems that the locations with long trip durations are mostly in Palo Alto and Redwood City, with one exception in San Jose.  These are the least urban bike stations on the map.  The data are therefore compatible with our hypothesis.\n",
    "\n",
    "Until now, we have not proposed a causal mechanism for the association.  Here are a few that are plausible:\n",
    "\n",
    "* Palo Alto and Redwood City are close to long bike routes in the hills to the southwest.  Perhaps people take long recreational biking trips through the hills.\n",
    "* Perhaps Stanford students rent bicycles to get around campus for days at a time.\n",
    "* Perhaps some people who live or work in the long suburban peninsula between San Francisco and San Jose commute for long distances by bicycle.\n",
    "\n",
    "**Question 9:** The `trips` dataset includes the date and time of day for the start and end of each trip.  How might we use this information to test some of the proposals above? Write your answer below and discuss with a classmate or TA."
   ]
  },
  {
   "cell_type": "markdown",
   "metadata": {},
   "source": [
    "*Write your answer here, replacing this text.*"
   ]
  },
  {
   "cell_type": "markdown",
   "metadata": {},
   "source": [
    "## Submission\n",
    "\n",
    "You're done with this lab!\n",
    "\n",
    "To submit this notebook, please download your notebook as a .ipynb file and submit to Gradescope. You can do so by navigating to the toolbar at the top of this page, clicking File > Download as... > Notebook (.ipynb). Then, go to our class's Gradescope page [here](https://www.gradescope.com/courses/136698) and upload your file under \"Lab 12.\" \n",
    "\n",
    "To check your work for all autograded questions, run the cell below. \n",
    "\n",
    "It's fine to submit multiple times, but we will only grade the final notebook you submit for each assignment. Make sure you pass all tests to receive credit."
   ]
  },
  {
   "cell_type": "code",
   "execution_count": null,
   "metadata": {
    "collapsed": true
   },
   "outputs": [],
   "source": [
    "## There are no autograder tests in this assignment! Just make sure you submit."
   ]
  }
 ],
 "metadata": {
  "kernelspec": {
   "display_name": "Python 3",
   "language": "python",
   "name": "python3"
  },
  "language_info": {
   "codemirror_mode": {
    "name": "ipython",
    "version": 3
   },
   "file_extension": ".py",
   "mimetype": "text/x-python",
   "name": "python",
   "nbconvert_exporter": "python",
   "pygments_lexer": "ipython3",
   "version": "3.6.1"
  }
 },
 "nbformat": 4,
 "nbformat_minor": 4
}
