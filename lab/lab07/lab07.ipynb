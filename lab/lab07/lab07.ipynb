{
 "cells": [
  {
   "cell_type": "markdown",
   "metadata": {},
   "source": [
    "# Lab 7: Tables and Visualizing Distributions\n",
    "\n",
    "Welcome to lab 7!  This week, we'll learn about *tables*, which let us work with multiple arrays of data about the same thing, and we'll learn about *histograms* a way to visualize distributions. \n",
    "\n",
    "First, set up the tests and imports by running the cell below."
   ]
  },
  {
   "cell_type": "code",
   "execution_count": null,
   "metadata": {
    "collapsed": true,
    "scrolled": true
   },
   "outputs": [],
   "source": [
    "import numpy as np\n",
    "from datascience import *\n",
    "\n",
    "%matplotlib inline\n",
    "import matplotlib.pyplot as plt\n",
    "plt.style.use('fivethirtyeight')\n",
    "Table.interactive_plots()\n",
    "\n",
    "# These lines load the tests.\n",
    "import otter\n",
    "grader = otter.Notebook()"
   ]
  },
  {
   "cell_type": "markdown",
   "metadata": {},
   "source": [
    "## 1. Introduction\n",
    "\n",
    "For a collection of things in the world, an array is useful for describing a single attribute of each thing. For example, among the collection of US States, an array could describe the land area of each. Tables extend this idea by describing multiple attributes for each element of a collection.\n",
    "\n",
    "In most data science applications, we have data about many entities, but we also have several kinds of data about each entity.\n",
    "\n",
    "For example, in the cell below we have two arrays. The first one contains information about the name of each hybrid vehicle, while the second one contains information about the corresponding vehicle's msrp."
   ]
  },
  {
   "cell_type": "code",
   "execution_count": null,
   "metadata": {
    "collapsed": true,
    "scrolled": true
   },
   "outputs": [],
   "source": [
    "hybrids_names = Table.read_table('hybrid.csv').column(\"vehicle\")\n",
    "hybrids_msrp = Table.read_table('hybrid.csv').column(\"msrp\")"
   ]
  },
  {
   "cell_type": "code",
   "execution_count": null,
   "metadata": {
    "collapsed": true,
    "scrolled": true
   },
   "outputs": [],
   "source": [
    "print(\"Hybrid names: \", hybrids_names)\n",
    "print(\"Hybrid MSRP: \", hybrids_msrp)"
   ]
  },
  {
   "cell_type": "markdown",
   "metadata": {},
   "source": [
    "Suppose we want to answer this question:\n",
    "\n",
    "> Which Hybrid vehicle has the highest MSRP?\n",
    "\n",
    "You could technically answer this question just from staring at the arrays, but it's a bit convoluted, since you would have to count the position with the greatest MSRP, then find the corresponding element in the hybrids_names array. In cases like these, it might be easier to put the data into a *`Table`*, a 2-dimensional type of dataset. \n",
    "\n",
    "The expression below:\n",
    "\n",
    "- creates an empty table using the expression `Table()`,\n",
    "- adds two columns by calling `with_columns` with four arguments,\n",
    "- assigns the result to the name `vehicle_msrp`, and finally\n",
    "- evaluates `vehicle_msrp` so that we can see the table.\n",
    "\n",
    "The strings `\"Vehicle Name\"` and `\"MSRP\"` are column labels that we have chosen. The names `hybrids_names` and `hybrids_msrp` were assigned above to two arrays of the same length. The function `with_columns` (you can find the documentation [here](http://data8.org/datascience/tables.html)) takes in alternating strings (to represent column labels) and arrays (representing the data in those columns), which are all separated by commas."
   ]
  },
  {
   "cell_type": "code",
   "execution_count": null,
   "metadata": {
    "collapsed": true,
    "scrolled": true
   },
   "outputs": [],
   "source": [
    "vehicle_msrp = Table().with_columns(\n",
    "    \"Vehicle Name\", hybrids_names,\n",
    "    \"MSRP\", hybrids_msrp\n",
    ")\n",
    "vehicle_msrp"
   ]
  },
  {
   "cell_type": "markdown",
   "metadata": {},
   "source": [
    "Now the data are all together in a single table! It's much easier to parse this data--for example, we can easily see that the Tino has an MSRP of $35355. We'll revisit this table later. "
   ]
  },
  {
   "cell_type": "markdown",
   "metadata": {},
   "source": [
    "## 2. Creating Tables\n",
    "\n",
    "**Question 2.1.** In the cell below, we've created 2 arrays. Using the steps above, assign `ten_vehicles` to a table that has two columns called \"Name\" and \"MPG\", which hold `ten_vehicle_names` and `ten_vehicle_mpg` respectively."
   ]
  },
  {
   "cell_type": "code",
   "execution_count": null,
   "metadata": {
    "collapsed": true,
    "scrolled": true
   },
   "outputs": [],
   "source": [
    "ten_vehicle_mpg = make_array(41.26, 54.1, 45.23, 53, 47.04, 53, 53, 40.46, 53, 41)\n",
    "ten_vehicle_names = make_array(\n",
    "        'Prius(1st gen)',\n",
    "        'Tino',\n",
    "        'Prius(2nd Gen)',\n",
    "        'Insight',\n",
    "        'Civic(1st Gen)', \n",
    "        'Insight',\n",
    "        'Insight', \n",
    "        'Alphard', \n",
    "        'Insight', \n",
    "        'Civic')\n",
    "\n",
    "ten_vehicles = ...\n",
    "# We've put this next line here so your table will get printed out when you\n",
    "# run this cell.\n",
    "ten_vehicles"
   ]
  },
  {
   "cell_type": "code",
   "execution_count": null,
   "metadata": {
    "collapsed": true,
    "scrolled": true
   },
   "outputs": [],
   "source": [
    "grader.check('q2_1')"
   ]
  },
  {
   "cell_type": "markdown",
   "metadata": {},
   "source": [
    "#### Loading a table from a file\n",
    "In most cases, we aren't going to go through the trouble of typing in all the data manually. Instead, we can use our `Table` methods.\n",
    "\n",
    "`Table.read_table(\"your_data.csv\")` takes one argument, a path to a data file (a string) and returns a table.  There are many formats for data files, but CSV (\"comma-separated values\") is the most common.\n",
    "\n",
    "**Question 2.2.** The file `hybrid.csv` contains a table of information about many hybrid vehicles.  Load it as a table called `hybrids`."
   ]
  },
  {
   "cell_type": "code",
   "execution_count": null,
   "metadata": {
    "collapsed": true,
    "scrolled": false
   },
   "outputs": [],
   "source": [
    "hybrids = ...\n",
    "hybrids"
   ]
  },
  {
   "cell_type": "code",
   "execution_count": null,
   "metadata": {
    "collapsed": true,
    "scrolled": true
   },
   "outputs": [],
   "source": [
    "grader.check('q2_2')"
   ]
  },
  {
   "cell_type": "markdown",
   "metadata": {},
   "source": [
    "Notice the part about \"... (143 rows omitted).\"  This table is big enough that only a few of its rows are displayed, but the others are still there.  10 are shown, so there are 153 cars total.\n",
    "\n",
    "Where did `hybrids.csv` come from? Take a look at [this lab's folder](./). You should see a file called `hybrids.csv`.\n",
    "\n",
    "Open up the `hybrids.csv` file in that folder and look at the format. What do you notice? The `.csv` filename ending says that this file is in the [CSV (comma-separated value) format](http://edoceo.com/utilitas/csv-file-format)."
   ]
  },
  {
   "cell_type": "markdown",
   "metadata": {},
   "source": [
    "## 3. Getting Data from Tables\n",
    "\n",
    "So far, we've learned how to make tables with the `Table.with_columns()` and `Table.read_table()` functions, and how to do arithmetic with arrays. But how do we retrieve data (specifically in the form of arrays) from Tables to work with? \n",
    "\n",
    "We'll do this with the `.column()` Table method:"
   ]
  },
  {
   "cell_type": "code",
   "execution_count": null,
   "metadata": {
    "collapsed": true,
    "scrolled": false
   },
   "outputs": [],
   "source": [
    "# Run this cell to get a column of data\n",
    "hybrids.column(\"mpg\")"
   ]
  },
  {
   "cell_type": "markdown",
   "metadata": {},
   "source": [
    "As you can see above, the `.column` table method takes in a single input, which is a column name in the table. It returns the corresponding array that the column name refers to. "
   ]
  },
  {
   "cell_type": "markdown",
   "metadata": {},
   "source": [
    "**Question 3.1.** Retrieve the `acceleration` column from the `hybrids` table and store it in variable `acceleration`. "
   ]
  },
  {
   "cell_type": "code",
   "execution_count": null,
   "metadata": {
    "collapsed": true,
    "scrolled": true
   },
   "outputs": [],
   "source": [
    "acceleration = ...\n",
    "acceleration"
   ]
  },
  {
   "cell_type": "code",
   "execution_count": null,
   "metadata": {
    "collapsed": true,
    "scrolled": true
   },
   "outputs": [],
   "source": [
    "grader.check('q3_1')"
   ]
  },
  {
   "cell_type": "markdown",
   "metadata": {},
   "source": [
    "**Question 3.2.** Get the following columns and store them in their respective names:"
   ]
  },
  {
   "cell_type": "code",
   "execution_count": null,
   "metadata": {
    "collapsed": true,
    "scrolled": false
   },
   "outputs": [],
   "source": [
    "vehicles = ...\n",
    "year = ...\n",
    "mpg = ...\n",
    "msrp = ..."
   ]
  },
  {
   "cell_type": "code",
   "execution_count": null,
   "metadata": {
    "collapsed": true,
    "scrolled": true
   },
   "outputs": [],
   "source": [
    "grader.check('q3_2')"
   ]
  },
  {
   "cell_type": "markdown",
   "metadata": {},
   "source": [
    "In a table, each row corresponds to a specific individual. Therefore, assuming the column arrays stay in the same order as the original table, each value at a specific index will correspond to the same individual (e.g. index 8 in both `vehicles` and `year` will refer to the same car).\n",
    "\n",
    "**Question 3.3** Given your arrays above, find the car with the highest miles per gallon. \n",
    "\n",
    "*Hint:* the function `np.argmax` takes in an array and returns the index for the largest number within that array."
   ]
  },
  {
   "cell_type": "code",
   "execution_count": null,
   "metadata": {
    "collapsed": true,
    "scrolled": true
   },
   "outputs": [],
   "source": [
    "max_index = ...\n",
    "vehicles.item(max_index)"
   ]
  },
  {
   "cell_type": "code",
   "execution_count": null,
   "metadata": {
    "collapsed": true,
    "scrolled": true
   },
   "outputs": [],
   "source": [
    "grader.check('q3_3')"
   ]
  },
  {
   "cell_type": "markdown",
   "metadata": {},
   "source": [
    "## 4. Using Tables to Create Bar Charts\n",
    "\n",
    "So far, we've provided functions that allow you to create bar charts and scatter plots. However, this isn't as versatile as we need for our purposes. Table methods will give us much more control to generate these graphs. Let's start with bar charts. "
   ]
  },
  {
   "cell_type": "markdown",
   "metadata": {},
   "source": [
    "**Question 4.1.**\n",
    "First, let's make a new table called `name_and_accel` that has two columns. The first should be titled 'Vehicle Name' and contain all the hybrid vehicle names, and the second should be titled 'Acceleration', and contain the acceleration stats for all of the vehicles in the dataset. You should use the `hybrids` table for this."
   ]
  },
  {
   "cell_type": "code",
   "execution_count": null,
   "metadata": {
    "collapsed": true,
    "scrolled": true
   },
   "outputs": [],
   "source": [
    "name_and_accel = ...\n",
    "name_and_accel"
   ]
  },
  {
   "cell_type": "code",
   "execution_count": null,
   "metadata": {
    "collapsed": true,
    "scrolled": true
   },
   "outputs": [],
   "source": [
    "grader.check('q4_1')"
   ]
  },
  {
   "cell_type": "markdown",
   "metadata": {},
   "source": [
    "Now, in order to realistically graph our vehicles, we'll reduce the size of the table - the `.take` function allows us to do this. `.take` takes in a single input - an array of indices that we want to keep to form a new table. "
   ]
  },
  {
   "cell_type": "code",
   "execution_count": null,
   "metadata": {
    "collapsed": true,
    "scrolled": true
   },
   "outputs": [],
   "source": [
    "## Just run this cell.\n",
    "hybrids.take(np.arange(1,11))"
   ]
  },
  {
   "cell_type": "markdown",
   "metadata": {},
   "source": [
    "**Quetion 4.2** Take the first 5 rows of our `name_and_accel` table and set it equal to the name `first_five_names_and_accel`: "
   ]
  },
  {
   "cell_type": "code",
   "execution_count": null,
   "metadata": {
    "collapsed": true,
    "scrolled": true
   },
   "outputs": [],
   "source": [
    "first_five_names_and_accel = ...\n",
    "first_five_names_and_accel"
   ]
  },
  {
   "cell_type": "code",
   "execution_count": null,
   "metadata": {
    "collapsed": true,
    "scrolled": true
   },
   "outputs": [],
   "source": [
    "grader.check('q4_2')"
   ]
  },
  {
   "cell_type": "markdown",
   "metadata": {},
   "source": [
    "**Question 4.3**\n",
    "Just having a table of the these five vehicles isn't very helpful. Let's try graphing them! Use the method `.barh` to graph! `.barh` takes in one argument, which is the column name (as a string) to use as the categories, and graph every other column in the table. Check with an instructor to make sure that you've got the right graph!\n",
    "\n",
    "*Note:* If you have multiple columns in a table and you only want to graph 1 categorical variable and 1 quantitative variable, we can use a second, optional argument to specify the quantitative variable to graph. For example: `.barh(\"categories\", \"mpg\")`"
   ]
  },
  {
   "cell_type": "code",
   "execution_count": null,
   "metadata": {
    "collapsed": true,
    "for_assignment_type": "student",
    "scrolled": false
   },
   "outputs": [],
   "source": [
    "#Graph first_five_names_and_accel as a bar chart here!\n"
   ]
  },
  {
   "cell_type": "markdown",
   "metadata": {},
   "source": [
    "**Question 4.3** You might have noticed that some of the vehicles appear more than once in the table. What if we want to graph the number of times each vehicle appears in the table? We can use the `.group` method for that! `tbl.group(\"column\")` will find all of the unique values in a specific column and return a two column table, containing every unique value in a single column and the number of times that specific value appears in the table.\n",
    "\n",
    "Try using `tbl.group` on the `hybrids` table to see a Table with all of the unique vehicles and the number of times they appear.\n",
    "\n",
    "Then, create a bar chart using `unique_vehicles` to compare the number of times each vehicle appears in the table."
   ]
  },
  {
   "cell_type": "code",
   "execution_count": null,
   "metadata": {
    "collapsed": true
   },
   "outputs": [],
   "source": [
    "unique_vehicles =\n",
    "unique_vehicles"
   ]
  },
  {
   "cell_type": "code",
   "execution_count": null,
   "metadata": {
    "collapsed": true,
    "for_assignment_type": "student",
    "scrolled": true
   },
   "outputs": [],
   "source": [
    "# Graph a bar chart of the names here! You should use the unique_vehicles table.\n",
    "# This cell may take a while to run, since there are a lot of different cars in hybrids. \n",
    "..."
   ]
  },
  {
   "cell_type": "code",
   "execution_count": null,
   "metadata": {
    "collapsed": true
   },
   "outputs": [],
   "source": [
    "grader.check(\"q4_3\")"
   ]
  },
  {
   "cell_type": "markdown",
   "metadata": {},
   "source": [
    "## 5. Visualizing Frequency Data\n",
    "Frequency data is a measure of the number of times a value occurs in a dataset.\n",
    "\n",
    "We will examine two ways to visualize frequency data - one by graphing counts or proportions through bar charts, and one by using a new type of visualization - the *histogram*. Although they both can be used to graph frequencies, they are used to graph different types of variables. As we've seen, bar charts are usually used to graph 1 categorical variable and 1 numerical variable. \n",
    "\n",
    "To do this, we'll first explore a familiar dataset about the eye and hair colors of marvel characters."
   ]
  },
  {
   "cell_type": "code",
   "execution_count": null,
   "metadata": {
    "collapsed": true,
    "scrolled": true
   },
   "outputs": [],
   "source": [
    "marvel_csv = \"marvel-wikia-data.csv\"\n",
    "marvel_eye_counts = Table().read_table(marvel_csv).select(\"EYE\").group(\"EYE\")\n",
    "marvel_eye_counts"
   ]
  },
  {
   "cell_type": "markdown",
   "metadata": {},
   "source": [
    "**Question 5.1** We've loaded in some data about the eye color of marvel superheroes. Using `.column` and array arithmetic, compute the proportion of each eye color and store it as an array in `eye_color_proportions.`\n",
    "\n",
    "Then, display it in a horizontal bar chart, placing the eye color categories on the y-axis and the corresponding proportions on the x-axis! Check with a classmate or TA to make sure that you've got it right!\n",
    "\n",
    "*Hint:* You'll need to create a new 2 column table with the different eye colors and eye color proportions to create the bar chart. Use `marvel_eye_proportions` to help  you do that."
   ]
  },
  {
   "cell_type": "code",
   "execution_count": null,
   "metadata": {
    "collapsed": true,
    "scrolled": false
   },
   "outputs": [],
   "source": [
    "# Write your code here. \n",
    "# NOTE: You'll have to create a new table after computing the proportions!\n",
    "eye_color_proportions = \n",
    "marvel_eye_proportions = "
   ]
  },
  {
   "cell_type": "markdown",
   "metadata": {},
   "source": [
    "**Question 5.2** Based on this information, what type of eye color is most common? Write your findings below and back them up with evidence from the bar chart:"
   ]
  },
  {
   "cell_type": "markdown",
   "metadata": {},
   "source": [
    "*Type your answer here, replacing this text.*"
   ]
  },
  {
   "cell_type": "markdown",
   "metadata": {},
   "source": [
    "But what if we want to look at the distribution of continuous, numerical data? For example, what if we wanted to know what period of time that most Marvel superheroes were first introduced? \n",
    "\n",
    "We can use a histogram for that! A histogram looks similar to a bar chart, but places the quantitative variable on the x-axis and the frequency/count or the density on the y-axis. We'll go a bit more about what density means later, but for now, we can create a *frequency* histogram with a count scale on the y-axis using the function `tbl.hist(density = False)`, given that we have a 1 column table containing the quantitative variable we want to graph.\n",
    "\n",
    "**Question 5.3** Using the data we've loaded in for you, make a histogram for the first-year-appearances of superheroes! The `.hist` table method doesn't need to take in any inputs for our use here! We will go more in depth on how to read histograms, including what bins and density mean, and using `.hist` through the week. "
   ]
  },
  {
   "cell_type": "code",
   "execution_count": null,
   "metadata": {
    "collapsed": true,
    "scrolled": false
   },
   "outputs": [],
   "source": [
    "# Just run this cell.\n",
    "marvel_first_years = Table().read_table(marvel_csv).select(\"Year\").where(\"Year\", are.above(0))\n",
    "marvel_first_years"
   ]
  },
  {
   "cell_type": "code",
   "execution_count": null,
   "metadata": {
    "collapsed": true,
    "for_assignment_type": "student",
    "scrolled": true
   },
   "outputs": [],
   "source": [
    "#Create your histogram in this cell!\n",
    "..."
   ]
  },
  {
   "cell_type": "markdown",
   "metadata": {},
   "source": [
    "**Question 5.4** With your histogram, can you identify which period that most superheroes had their first appearances? Verify with a classmate or your instructor!"
   ]
  },
  {
   "cell_type": "markdown",
   "metadata": {
    "for_assignment_type": "student"
   },
   "source": [
    "*Type your answer here, replacing this text.*"
   ]
  },
  {
   "cell_type": "markdown",
   "metadata": {},
   "source": [
    "## 6. Summary\n",
    "\n",
    "For your reference, here's a table of the functions and methods we saw in this lab and some additional ones that you might find useful.\n",
    "\n",
    "|Name|Example|Purpose|\n",
    "|-|-|-|\n",
    "|`Table`|`Table()`|Create an empty table, usually to extend with data|\n",
    "|`Table.read_table`|`Table.read_table(\"my_data.csv\")`|Create a table from a data file|\n",
    "|`with_columns`|`tbl = Table().with_columns(\"N\", np.arange(5), \"2*N\", np.arange(0, 10, 2))`|Create a copy of a table with more columns|\n",
    "|`column`|`tbl.column(\"N\")`|Create an array containing the elements of a column|\n",
    "|`sort`|`tbl.sort(\"N\")`|Create a copy of a table sorted by the values in a column|\n",
    "|`where`|`tbl.where(\"N\", are.above(2))`|Create a copy of a table with only the rows that match some *predicate*|\n",
    "|`num_rows`|`tbl.num_rows`|Compute the number of rows in a table|\n",
    "|`num_columns`|`tbl.num_columns`|Compute the number of columns in a table|\n",
    "|`select`|`tbl.select(\"N\")`|Create a copy of a table with only some of the columns|\n",
    "|`drop`|`tbl.drop(\"2*N\")`|Create a copy of a table without some of the columns|\n",
    "|`take`|`tbl.take(np.arange(0, 6, 2))`|Create a copy of the table with only the rows whose indices are in the given array|\n",
    "|`barh`|`tbl.barh('vehicles')`|Create a bar chart with the |\n",
    "|`take`|`tbl.take(np.arange(0, 6, 2))`|Create a copy of the table with only the rows whose indices are in the given array|\n",
    "|`group`|`tbl.group(\"names\")` | Create a two column table finding all unique values in the specified column and the number of times they appear |"
   ]
  },
  {
   "cell_type": "markdown",
   "metadata": {},
   "source": [
    "## 7. Submission\n",
    "You're done with this lab!\n",
    "\n",
    "To submit this notebook, please download your notebook as a .ipynb file and submit to Gradescope. You can do so by navigating to the toolbar at the top of this page, clicking File > Download as... > Notebook (.ipynb). Then, go to our class's Gradescope page [here](https://www.gradescope.com/courses/136698) and upload your file under \"Lab 7.\" \n",
    "\n",
    "To check your work for all autograded questions, run the cell below. \n",
    "\n",
    "It's fine to submit multiple times, but we will only grade the final notebook you submit for each assignment. Make sure you pass all tests to receive credit."
   ]
  },
  {
   "cell_type": "code",
   "execution_count": null,
   "metadata": {
    "collapsed": true,
    "scrolled": true
   },
   "outputs": [],
   "source": [
    "# For your convenience, you can run this cell to run all the tests at once!\n",
    "grader.check_all()"
   ]
  }
 ],
 "metadata": {
  "anaconda-cloud": {},
  "kernelspec": {
   "display_name": "Python 3",
   "language": "python",
   "name": "python3"
  },
  "language_info": {
   "codemirror_mode": {
    "name": "ipython",
    "version": 3
   },
   "file_extension": ".py",
   "mimetype": "text/x-python",
   "name": "python",
   "nbconvert_exporter": "python",
   "pygments_lexer": "ipython3",
   "version": "3.6.1"
  }
 },
 "nbformat": 4,
 "nbformat_minor": 4
}
