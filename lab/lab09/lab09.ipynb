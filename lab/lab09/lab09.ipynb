{
 "cells": [
  {
   "cell_type": "markdown",
   "metadata": {},
   "source": [
    "# Lab 9: Tables and Visualizing Distributions\n",
    "\n",
    "Welcome to lab 9!  This week, we'll learn about *tables*, which let us work with multiple arrays of data about the same thing, and we'll learn about *histograms* - a way to visualize distributions. \n",
    "\n",
    "First, set up the tests and imports by running the cell below."
   ]
  },
  {
   "cell_type": "code",
   "execution_count": null,
   "metadata": {
    "collapsed": true,
    "scrolled": true
   },
   "outputs": [],
   "source": [
    "import numpy as np\n",
    "from datascience import *\n",
    "\n",
    "%matplotlib inline\n",
    "import matplotlib.pyplot as plt\n",
    "plt.style.use('fivethirtyeight')\n",
    "Table.interactive_plots()\n",
    "\n",
    "# These lines load the tests.\n",
    "import otter\n",
    "grader = otter.Notebook()"
   ]
  },
  {
   "cell_type": "markdown",
   "metadata": {},
   "source": [
    "## 1. Histogram Review\n",
    "\n",
    "Histograms show the distribution of a single quantitative variable, where the values of the variable are located on the x-axis and the density or count is placed on the y-axis. The width of each bar is defined by the size of the bins [A, B) where the value A is included in the bin but B is not. Given the properties of histograms, we cannot determine the distribution of data within a specific bin.\n",
    "\n",
    "Normally, we are used to using the count scale on the y-axis, which shows the number of values within a bin. However, the issue with this is that charts become misleading once bins have different widths, so we will use the *density* scale, measured in \"percent per unit\", which shows us the number of values within a bin. This allows us to meet the two defining characteristics of a histogram:\n",
    "\n",
    "1) Bins are drawn to scale and are contiguous, though some might be empty, because the values on the horizontal axis are numerical\n",
    "\n",
    "and \n",
    "\n",
    "2) The **area** of each bar is proportional to the number of entries in the bin. So, assuming we add all of the bars in a histogram together, the total area is 100%, or in terms of proportions, the areas of all of the bars will sum to 1. \n",
    "\n",
    "Therefore, under those properties, the **area of a bar = percent of entries in bin = height of bar * width of bin.**\n",
    "\n",
    "Doing some algebra, we find that **height of the bar = area of bar / width of bin = percent of entries in bin / width of bin** which gives us the density.\n",
    "\n",
    "For the following section, use the histogram below using national parks data.\n",
    "\n",
    "![](national_parks_histogram.JPG)"
   ]
  },
  {
   "cell_type": "markdown",
   "metadata": {},
   "source": [
    "#### Question 0\n",
    "\n",
    "For each quantity listed below, either calculate its value using the histograms, or write *Unknown* if it is not possible to calculate the value numerically given the information we have.\n",
    "1. The **percentage** of parks that are less than 100 thousand acres in size.\n",
    "2. The **percentage** of parks that are between 200 and up to (but not including) 400 thousand acres in size.\n",
    "3. The **percentage** of parks that are less than 150 acres in size.\n",
    "4. The **percentage** of parks that are at least 1200 thousand acres in size."
   ]
  },
  {
   "cell_type": "markdown",
   "metadata": {},
   "source": [
    "*Write your answer here, replacing this text.*\n",
    "\n",
    "1.\n",
    "\n",
    "2.\n",
    "\n",
    "3.\n",
    "\n",
    "4.\n"
   ]
  },
  {
   "cell_type": "markdown",
   "metadata": {},
   "source": [
    "## 2. Modifying Tables\n",
    "\n",
    "Tables are very useful for storing data, as each row represents an individual and each column represents an attribute or characteristic about all of the individuals in the dataset. However, sometimes, we may have too much data or data unnecessary for our analysis in a single dataset - therefore, we need to select what data we want, which is especially important given the limits of computing power (in our case: 1024 mb, as seen in the kernel in the top right corner).  \n",
    "\n",
    "We can use the `select` method to select what columns we want. `tbl.select(\"label1\", \"label2\", ...)` takes the labels of columns we want in our table as inputs and outputs a table with those specific columns. \n",
    "\n",
    "For this next section, the `farmers_markets` table has a lot of data. "
   ]
  },
  {
   "cell_type": "code",
   "execution_count": null,
   "metadata": {
    "collapsed": true,
    "scrolled": true
   },
   "outputs": [],
   "source": [
    "## Run this cell.\n",
    "farmers_markets = Table.read_table(\"farmers_markets.csv\")\n",
    "farmers_markets.show(5) ## This shows 5 rows in the table. "
   ]
  },
  {
   "cell_type": "markdown",
   "metadata": {},
   "source": [
    "For example: if I only want to see whether a farmer's market has tofu, pet food, and grains, I can do that by using `select`:"
   ]
  },
  {
   "cell_type": "code",
   "execution_count": null,
   "metadata": {
    "collapsed": true
   },
   "outputs": [],
   "source": [
    "farmers_markets.select(\"Tofu\", \"PetFood\", \"Grains\")"
   ]
  },
  {
   "cell_type": "markdown",
   "metadata": {},
   "source": [
    "** Question 1. ** Suppose that we have a table of data about hate crimes among the 50 states, and we think that there is a possible correlation between levels of education and crimes of this type. In this analysis, we will compare the number of hate crimes versus the population in that state that has a high school degree. \n",
    "\n",
    "This dataset from FiveThirtyEight includes information about crime in areas from the Southern Poverty Law Center and FBI on a state level.\n",
    "\n",
    "The dataset is called `hate_crimes.csv` and it is located in your lab directory with the notebook. Using the `Table.read_table()` function, which takes in the name of the file as a string (including the `.csv`), assign the name `hate_crimes` to a table containing the dataset. "
   ]
  },
  {
   "cell_type": "code",
   "execution_count": null,
   "metadata": {
    "collapsed": true,
    "scrolled": true
   },
   "outputs": [],
   "source": [
    "hate_crimes = Table.read_table(...)\n",
    "hate_crimes.show(10)"
   ]
  },
  {
   "cell_type": "markdown",
   "metadata": {},
   "source": [
    "#### Question 2\n",
    "Create a new table using `hate_crimes` that includes four columns: `share_population_with_high_school_degree`, `gini_index`, `hate_crimes_per_100k_splc`, and `avg_hatecrimes_per_100k_fbi` in that order. Do this with `select` function and make sure you type the column names correctly! \n",
    "\n",
    "(You might have to explore the table a bit to see what columns to select.)\n",
    "\n",
    "**Note:** The Gini Index is a measure of income inequality. Higher values of the Gini coefficient imply more inequality within that area. "
   ]
  },
  {
   "cell_type": "code",
   "execution_count": null,
   "metadata": {
    "collapsed": true,
    "scrolled": true
   },
   "outputs": [],
   "source": [
    "hsdegree_vs_hcrimes = \n",
    "hsdegree_vs_hcrimes"
   ]
  },
  {
   "cell_type": "code",
   "execution_count": null,
   "metadata": {
    "collapsed": true
   },
   "outputs": [],
   "source": [
    "grader.check(\"q2\")"
   ]
  },
  {
   "cell_type": "markdown",
   "metadata": {},
   "source": [
    "You may have noticed that that the titles of these columns have a lot of underscores. Lets change that! \n",
    "\n",
    "We can use the `tbl.relabel(\"old_label\", \"new_label\")` function, which takes in two arguments - one that specifies which column we're trying to relabel and another one that specifies the new name. `Relabel` is nice in that it modifies the original table, so you do not need to reassign it to a new variable each time unlike with `tbl.select()`."
   ]
  },
  {
   "cell_type": "markdown",
   "metadata": {},
   "source": [
    "#### Question 3\n",
    "Let's relabel the first column to  `Population Share with a high school degree`, the second column to `Gini index`, the third column to `Hate Crimes per 100k, SPLC`, and the fourth column to `Hate Crimes per 100k, FBI`. Make sure the name of the table, `hsdegree_vs_hcrimes`, remains the same."
   ]
  },
  {
   "cell_type": "code",
   "execution_count": null,
   "metadata": {
    "collapsed": true,
    "for_assignment_type": "student"
   },
   "outputs": [],
   "source": [
    "#Relabel the columns here!\n",
    "...\n",
    "...\n",
    "...\n",
    "..."
   ]
  },
  {
   "cell_type": "code",
   "execution_count": null,
   "metadata": {
    "collapsed": true
   },
   "outputs": [],
   "source": [
    "grader.check(\"q3\")"
   ]
  },
  {
   "cell_type": "markdown",
   "metadata": {},
   "source": [
    "#### Question 4: Dropping Columns\n",
    "\n",
    "In order to get rid of columns we can use the `tbl.drop` method. `tbl.drop(\"column1_to_drop, \"column2_to_drop\", ...)` takes column names as inputs and removes them from the specified table. \n",
    "\n",
    "Graph four scatter plots using `tbl.scatter(\"x\", \"y\")`: the population share with a high school degree versus the SPLC data on hate crimes, population share versus FBI data, gini index versus SPLC data, and gini index versus FBI data. Do this by dropping the columns we do not want to use from `hsdegree_vs_hcrimes` and assigning the new table to the appropriate table name. \n",
    "\n",
    "What associations or patterns do you see? Discuss in the Markdown cell below and with your classmates or a TA.\n",
    "\n",
    "*Note:* If your notebook is struggling to make the graphs, try to make them in separate cells or run each separately by commenting out the other graphs with #."
   ]
  },
  {
   "cell_type": "code",
   "execution_count": null,
   "metadata": {
    "collapsed": true
   },
   "outputs": [],
   "source": [
    "#Make the tables here:\n",
    "pop_versus_splc = ...\n",
    "pop_versus_fbi = ...\n",
    "gini_versus_splc = ...\n",
    "gini_versus_fbi = ...\n",
    "\n",
    "# Make the scatter plots here!\n",
    "...\n",
    "...\n",
    "...\n",
    "..."
   ]
  },
  {
   "cell_type": "markdown",
   "metadata": {},
   "source": [
    "*What do you see? Discuss your answers here.*"
   ]
  },
  {
   "cell_type": "markdown",
   "metadata": {},
   "source": [
    "## 3. Filtering Tables\n",
    "\n",
    "We explored the entirety of the previous data set. But what if we wanted to explore a smaller portion of a larger set of data? We can use the `tbl.where(\"column\", are...())` method, which takes two arguments, the column label to filter and the method/predicate to filter the values with. If we do not specify a predicate, it will default to `are.equal_to`. It will return a table with the same columns and containing only the rows that meet the condition we specified.\n",
    "\n",
    "We used this in the previous lab, but we will go more in depth here."
   ]
  },
  {
   "cell_type": "markdown",
   "metadata": {},
   "source": [
    "For example, if we remember the farmer's markets from part 1, suppose that we only want to see the farmer's markets that sell wine:"
   ]
  },
  {
   "cell_type": "code",
   "execution_count": null,
   "metadata": {
    "collapsed": true
   },
   "outputs": [],
   "source": [
    "farmers_markets.where(\"Wine\", are.equal_to(\"Y\"))"
   ]
  },
  {
   "cell_type": "markdown",
   "metadata": {},
   "source": [
    "The `are` predicate is used to pick and choose rows. The `.equal_to` are method selects rows that equal a certain value, which in our case was the string Y. \n",
    "\n",
    "Other `are` methods include: `are.below` which selects rows that are below some value, `are.above`, which selects rows that are above some values, `are.above_or_equal_to`, `are.below_or_equal_to`, `are.between`, and `are.not_above`, etc. "
   ]
  },
  {
   "cell_type": "markdown",
   "metadata": {},
   "source": [
    "The US National Oceanic and Atmospheric Administration (NOAA) operates thousands of climate observation stations (mostly in the US) that collect information about local climate.  Among other things, each station records the highest and lowest observed temperature each day.  These data, called \"Quality Controlled Local Climatological Data,\" are publicly available [here](http://www.ncdc.noaa.gov/orders/qclcd/) and described [here](https://www.ncdc.noaa.gov/data-access/land-based-station-data/land-based-datasets/quality-controlled-local-climatological-data-qclcd).\n",
    "\n",
    "We've provided you with an excerpt of that dataset.  All the readings are from 2015 and from California stations.\n"
   ]
  },
  {
   "cell_type": "code",
   "execution_count": null,
   "metadata": {
    "collapsed": true,
    "scrolled": true
   },
   "outputs": [],
   "source": [
    "temperatures = Table.read_table(\"temperatures.csv\")\n",
    "temperatures"
   ]
  },
  {
   "cell_type": "markdown",
   "metadata": {},
   "source": [
    "**Question 5.** Each station is named for the city in which it resides.  Is there a station in Berkeley?  Write code to help you answer the question in the next cell. Then, in the Markdown cell after that, answer if there is a station in Berkeley along with **an explanation in words** of what your code does.\n",
    "\n",
    "*Hint:* Use the Table method `.where`. Which column should you filter? Explore the table!"
   ]
  },
  {
   "cell_type": "code",
   "execution_count": null,
   "metadata": {
    "collapsed": true
   },
   "outputs": [],
   "source": [
    "berkeley_readings = ...\n",
    "berkeley_readings"
   ]
  },
  {
   "cell_type": "markdown",
   "metadata": {},
   "source": [
    "*Write your answer here, replacing this text.*"
   ]
  },
  {
   "cell_type": "markdown",
   "metadata": {},
   "source": [
    "Let's find the station closest to the UC Berkeley campus.  The campus is located roughly at latitude 37.871746 and longitude -122.259030.  We'll break this down into a few steps.\n",
    "\n",
    "**Question 6.** Create a table called `with_degree_differences` that's the same as `temperatures`, but with 2 extra columns:\n",
    "\n",
    "1. \"Latitude difference\": The difference between the latitude of the row's station and the latitude of UC Berkeley.\n",
    "2. \"Longitude difference\": The difference between the longitude of the row's station and the longitude of UC Berkeley.\n",
    "\n",
    "*Hint:* We can add columns to an existing table by using the method `tbl.with_columns(\"column_name1\", array1, \"column_name2\", array2, ...)`. However, the arrays added must be the same length as the columns in the table (i.e. the array length is equal to the number of rows), or else it will give you an error. Try using array arithmetic for this question!"
   ]
  },
  {
   "cell_type": "code",
   "execution_count": null,
   "metadata": {
    "collapsed": true,
    "scrolled": false
   },
   "outputs": [],
   "source": [
    "# We've provided the lat/long of UC Berkeley so you don't have to retype them:\n",
    "BERKELEY_LATITUDE = 37.871746\n",
    "BERKELEY_LONGITUDE = -122.259030\n",
    "\n",
    "with_degree_differences = ...\n",
    "    ...\n",
    "    ...\n",
    "with_degree_differences"
   ]
  },
  {
   "cell_type": "code",
   "execution_count": null,
   "metadata": {
    "collapsed": true
   },
   "outputs": [],
   "source": [
    "grader.check('q6')"
   ]
  },
  {
   "cell_type": "markdown",
   "metadata": {},
   "source": [
    "**Question 7.**  Degrees latitude and longitude don't correspond directly to distances, because the Earth is a sphere.  Near Berkeley, one degree latitude is around 69 miles and one degree longitude is around 54.6 miles, according to the USGS. Compute a table called `with_mile_differences` that's the same as `with_degree_differences` but with 2 extra columns:\n",
    "\n",
    "1. \"North-South difference\": The difference in miles between UC Berkeley and the row's station along the North-South axis.  This is the difference in latitude times 69.\n",
    "2. \"East-West difference\": The difference in miles between UC Berkeley and the row's station along the East-West axis.  This is the difference in latitude times 54.6."
   ]
  },
  {
   "cell_type": "code",
   "execution_count": null,
   "metadata": {
    "collapsed": true,
    "scrolled": true
   },
   "outputs": [],
   "source": [
    "MILES_PER_DEGREE_LATITUDE = 69\n",
    "MILES_PER_DEGREE_LONGITUDE = 54.6\n",
    "with_mile_differences = ...\n",
    "    ...\n",
    "    ...\n",
    "with_mile_differences"
   ]
  },
  {
   "cell_type": "code",
   "execution_count": null,
   "metadata": {
    "collapsed": true
   },
   "outputs": [],
   "source": [
    "grader.check('q7')"
   ]
  },
  {
   "cell_type": "markdown",
   "metadata": {},
   "source": [
    "**Question 8.** Compute the distance from UC Berkeley to each row's station.  By the Pythagorean theorem, the distance is:\n",
    "$$\\sqrt{(\\text{North-South difference (miles)})^2 + (\\text{East-West difference (miles)})^2}$$\n",
    "\n",
    "Create a table called `with_distances` that's the same as `with_mile_differences`, but with an extra column called \"Distance to UC Berkeley\" containing these distances.\n",
    "\n",
    "*Hint:* Use elementwise arithmetic operations to square each difference, add them, and square-root them."
   ]
  },
  {
   "cell_type": "code",
   "execution_count": null,
   "metadata": {
    "collapsed": true,
    "scrolled": true
   },
   "outputs": [],
   "source": [
    "with_distances = ...\n",
    "with_distances"
   ]
  },
  {
   "cell_type": "code",
   "execution_count": null,
   "metadata": {
    "collapsed": true
   },
   "outputs": [],
   "source": [
    "grader.check('q8')"
   ]
  },
  {
   "cell_type": "markdown",
   "metadata": {},
   "source": [
    "**Question 9.** Sort the table by distance to find the station that's closest to Berkeley.  Find the name of the station and assign it to `closest_station_name`.\n",
    "\n",
    "To sort a table, we can use the function `tbl.sort(\"column_to_sort\", descending = True/False)`, which takes in the name of the column you would like to sort by and an optional argument `descending` which defines the direction of the sort. (You'll need to do more than sort to answer this question, however!)"
   ]
  },
  {
   "cell_type": "code",
   "execution_count": null,
   "metadata": {
    "collapsed": true,
    "scrolled": true
   },
   "outputs": [],
   "source": [
    "closest_station_name = ...\n",
    "closest_station_name"
   ]
  },
  {
   "cell_type": "code",
   "execution_count": null,
   "metadata": {
    "collapsed": true
   },
   "outputs": [],
   "source": [
    "grader.check('q9') "
   ]
  },
  {
   "cell_type": "markdown",
   "metadata": {},
   "source": [
    "**Question 10.** Make a table called `closest_station_readings`.  It should be a table like the original `temperatures` table, except it should contain only the rows from the station closest to Berkeley you found in the previous question. Sort it in increasing order by date. \n",
    "\n",
    "*Hint:* What table methods do you need to answer this question? What order do they need to be in?"
   ]
  },
  {
   "cell_type": "code",
   "execution_count": null,
   "metadata": {
    "collapsed": true,
    "scrolled": true
   },
   "outputs": [],
   "source": [
    "closest_station_readings = ...\n",
    "\n",
    "# This prints out your whole table (with unnecessary columns removed).\n",
    "closest_station_readings.select(2, 1, 0).show()\n",
    "# This code makes a plot of the highs and lows over time in your table,\n",
    "# which is easier to read than the raw numbers.  You don't need to modify\n",
    "# this.\n",
    "closest_station_readings.scatter(2, make_array(0, 1))"
   ]
  },
  {
   "cell_type": "code",
   "execution_count": null,
   "metadata": {
    "collapsed": true
   },
   "outputs": [],
   "source": [
    "grader.check('q10')"
   ]
  },
  {
   "cell_type": "markdown",
   "metadata": {},
   "source": [
    "**Question 11.** From the graph, can you figure out the hottest and coldest months in 2015, in terms of the average minimum temperature?  (If it looks like there's a tie, name all the months that might qualify.  If you can't answer the question from these data, explain why.)"
   ]
  },
  {
   "cell_type": "markdown",
   "metadata": {},
   "source": [
    "*Write your answer here, replacing this text.*"
   ]
  },
  {
   "cell_type": "markdown",
   "metadata": {},
   "source": [
    "## 4. Review\n",
    "\n",
    "For your reference, here's a table of the functions and methods we saw in this lab and some additional ones that you might find useful.\n",
    "\n",
    "|Name|Example|Purpose|\n",
    "|-|-|-|\n",
    "|`sort`|`tbl.sort(\"N\")`|Create a copy of a table sorted by the values in a column|\n",
    "|`where`|`tbl.where(\"N\", are.above(2))`|Create a copy of a table with only the rows that match some *predicate*|\n",
    "|`are.above`| `...are.above(2)`| Predicate: Creates a table with rows that are above some value for a certain column|\n",
    "|`are.below`| `...are.below(2)`| Predicate: Creates a table with rows that are below some value for a certain column|\n",
    "|`are.above_or_equal_to`| `...are.above_or_equal_to(2)`| Predicate: Greater than or equal to some value|\n",
    "|`are.below_or_equal_to`| `...are.below_or_equal_to(2)`| Predicate: less than or equal to some value|\n",
    "|`are.between`| `...are.between(2, 3)`| Predicate: Greater than or equal to first number and less than or equal to second| \n",
    "|`are.not_equal_to`|`...are.not_equal_to(2)`| Predicate: Not equal to some value|\n",
    "|`select`|`tbl.select(\"N\")`|Create a copy of a table with only some of the columns|\n",
    "|`drop`|`tbl.drop(\"2*N\")`|Create a copy of a table without some of the columns|\n",
    "|`take`|`tbl.take(np.arange(0, 6, 2))`|Create a copy of the table with only the rows whose indices are in the given array|\n",
    "|`barh`|`tbl.barh('vehicles')`|Create a bar chart with the specified column as the categories|\n",
    "|`scatter`|`tbl.scatter(\"pop\",\"splc\")`|Create a scatter plot with the first column as the X axis and the second column as the y axis\n",
    "\n",
    "<br/>\n"
   ]
  },
  {
   "cell_type": "markdown",
   "metadata": {},
   "source": [
    "## Submission\n",
    "You're done with this lab!\n",
    "\n",
    "To submit this notebook, please download your notebook as a .ipynb file and submit to Gradescope. You can do so by navigating to the toolbar at the top of this page, clicking File > Download as... > Notebook (.ipynb). Then, go to our class's Gradescope page [here](https://www.gradescope.com/courses/136698) and upload your file under \"Lab 9.\" \n",
    "\n",
    "To check your work for all autograded questions, run the cell below. \n",
    "\n",
    "It's fine to submit multiple times, but we will only grade the final notebook you submit for each assignment. Make sure you pass all tests to receive credit."
   ]
  },
  {
   "cell_type": "code",
   "execution_count": null,
   "metadata": {
    "collapsed": true,
    "scrolled": true
   },
   "outputs": [],
   "source": [
    "# For your convenience, you can run this cell to run all the tests at once!\n",
    "grader.check_all()"
   ]
  }
 ],
 "metadata": {
  "anaconda-cloud": {},
  "kernelspec": {
   "display_name": "Python 3",
   "language": "python",
   "name": "python3"
  },
  "language_info": {
   "codemirror_mode": {
    "name": "ipython",
    "version": 3
   },
   "file_extension": ".py",
   "mimetype": "text/x-python",
   "name": "python",
   "nbconvert_exporter": "python",
   "pygments_lexer": "ipython3",
   "version": "3.6.1"
  }
 },
 "nbformat": 4,
 "nbformat_minor": 4
}
