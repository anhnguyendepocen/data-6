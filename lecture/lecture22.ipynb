{
 "cells": [
  {
   "cell_type": "code",
   "execution_count": null,
   "metadata": {},
   "outputs": [],
   "source": [
    "from datascience import *\n",
    "import numpy as np\n",
    "\n",
    "%matplotlib inline\n",
    "import matplotlib.pyplot as plots\n",
    "plots.style.use('fivethirtyeight')\n",
    "\n",
    "Table.interactive_plots()"
   ]
  },
  {
   "cell_type": "markdown",
   "metadata": {},
   "source": [
    "## The bootstrap"
   ]
  },
  {
   "cell_type": "code",
   "execution_count": null,
   "metadata": {},
   "outputs": [],
   "source": [
    "comma_data = Table().read_table(\"comma-survey-data.csv\")\n",
    "comma_data.show(5)"
   ]
  },
  {
   "cell_type": "code",
   "execution_count": null,
   "metadata": {},
   "outputs": [],
   "source": [
    "## What is the true proportion of people who think data is plural?\n",
    "## We can't tell, because we only have a sample (below)\n",
    "our_sample = comma_data.group(4) # the first row uses data as plural, the second row uses data as singular\n",
    "our_sample_prop = our_sample.column(\"count\").item(0) / comma_data.num_rows\n",
    "our_sample_prop"
   ]
  },
  {
   "cell_type": "code",
   "execution_count": null,
   "metadata": {},
   "outputs": [],
   "source": [
    "## Let's try estimating the population proportion by bootstrapping.\n",
    "\n",
    "num_resamples = 500\n",
    "sample_size = comma_data.num_rows\n",
    "resample_props = make_array()\n",
    "\n",
    "for i in np.arange(num_resamples):\n",
    "    one_resample = comma_data.sample(sample_size, with_replacement = True)\n",
    "    one_resample_prop = one_resample.group(4).column(\"count\").item(0) / sample_size\n",
    "    resample_props = np.append(resample_props, one_resample_prop)\n",
    "\n",
    "resample_props"
   ]
  },
  {
   "cell_type": "code",
   "execution_count": null,
   "metadata": {},
   "outputs": [],
   "source": [
    "## the histogram:\n",
    "Table().with_column(\"Resampled Proportions\", resample_props).hist(0, bins = np.arange(0.1, 0.3, 0.01))"
   ]
  },
  {
   "cell_type": "code",
   "execution_count": null,
   "metadata": {},
   "outputs": [],
   "source": [
    "## So how do we estimate the population proportion from this data? by using a confidence interval!"
   ]
  },
  {
   "cell_type": "markdown",
   "metadata": {},
   "source": [
    "## Percentiles"
   ]
  },
  {
   "cell_type": "code",
   "execution_count": null,
   "metadata": {},
   "outputs": [],
   "source": [
    "scores = make_array(98, 88, 54, 67, 72, 90, 84)\n",
    "len(scores)"
   ]
  },
  {
   "cell_type": "code",
   "execution_count": null,
   "metadata": {},
   "outputs": [],
   "source": [
    "## What is the 70th percentile for scores? Try to calculate this before using the percentile function\n"
   ]
  },
  {
   "cell_type": "markdown",
   "metadata": {},
   "source": [
    "## Confidence intervals"
   ]
  },
  {
   "cell_type": "code",
   "execution_count": null,
   "metadata": {},
   "outputs": [],
   "source": [
    "## going back to the comma data, what were all of our estimates?\n",
    "resample_props"
   ]
  },
  {
   "cell_type": "code",
   "execution_count": null,
   "metadata": {},
   "outputs": [],
   "source": [
    "## Let's make some estimates. Create a 95% confidence interval.\n",
    "lower_bound_95 = \n",
    "upper_bound_95 = \n",
    "\n",
    "print(\"The true population proportion is anywhere from \" + str(lower_bound_95) + \" to \" + str(upper_bound_95) + \".\")"
   ]
  },
  {
   "cell_type": "code",
   "execution_count": null,
   "metadata": {},
   "outputs": [],
   "source": [
    "## Create an 80% confidence interval.\n",
    "lower_bound_80 = \n",
    "upper_bound_80 = \n",
    "\n",
    "print(\"The true population proportion is anywhere from \" + str(lower_bound_80) + \" to \" + str(upper_bound_80) + \".\")"
   ]
  },
  {
   "cell_type": "code",
   "execution_count": null,
   "metadata": {},
   "outputs": [],
   "source": [
    "## Is it accurate to say this statement?\n",
    "print(\"There is an 80% chance that the true proportion of people who think that data is plural is between \" + str(lower_bound_80) + \" and \" + str(upper_bound_80) + \".\")"
   ]
  }
 ],
 "metadata": {
  "kernelspec": {
   "display_name": "Python 3",
   "language": "python",
   "name": "python3"
  },
  "language_info": {
   "codemirror_mode": {
    "name": "ipython",
    "version": 3
   },
   "file_extension": ".py",
   "mimetype": "text/x-python",
   "name": "python",
   "nbconvert_exporter": "python",
   "pygments_lexer": "ipython3",
   "version": "3.8.1"
  }
 },
 "nbformat": 4,
 "nbformat_minor": 4
}
