{
 "cells": [
  {
   "cell_type": "code",
   "execution_count": null,
   "metadata": {},
   "outputs": [],
   "source": [
    "from datascience import *\n",
    "import numpy as np\n",
    "\n",
    "import matplotlib\n",
    "matplotlib.use('Agg', warn=False)\n",
    "%matplotlib inline\n",
    "import matplotlib.pyplot as plots\n",
    "plots.style.use('fivethirtyeight')\n",
    "Table.interactive_plots()"
   ]
  },
  {
   "cell_type": "markdown",
   "metadata": {},
   "source": [
    "## Some cursory analysis & data cleaning"
   ]
  },
  {
   "cell_type": "code",
   "execution_count": null,
   "metadata": {},
   "outputs": [],
   "source": [
    "## Load the table and learn more about it: num_rows, num_columns, labels\n",
    "bechdel = Table().read_table(\"bechdel.csv\")\n",
    "bechdel"
   ]
  },
  {
   "cell_type": "code",
   "execution_count": null,
   "metadata": {},
   "outputs": [],
   "source": [
    "## Clean up the table. We only want the columns \"year\", \"title\", \"clean_test\", \"binary\"\n",
    "clean_bechdel = ..."
   ]
  },
  {
   "cell_type": "code",
   "execution_count": null,
   "metadata": {},
   "outputs": [],
   "source": [
    "# Relabel the \"clean_test\" column to \"test\" and \"binary\" to \"result\"\n",
    "clean_bechdel.relabel(...)"
   ]
  },
  {
   "cell_type": "code",
   "execution_count": null,
   "metadata": {},
   "outputs": [],
   "source": [
    "## Let's focus on a single year. How many movies passed or failed the test? What was the breakdown of the test?\n",
    "clean_bechdel..."
   ]
  },
  {
   "cell_type": "code",
   "execution_count": null,
   "metadata": {},
   "outputs": [],
   "source": [
    "## This code will clean up the table so we can do some comparisons. You don't need to know this! \n",
    "# it's a complicated application of for loops using tables. \n",
    "results_by_year = clean_bechdel.pivot(\"result\", \"year\")\n",
    "pass_prop = make_array()\n",
    "fail_prop = make_array()\n",
    "\n",
    "for i in np.arange(results_by_year.num_rows):\n",
    "    total_for_year = (results_by_year.row(i)[1] + results_by_year.row(i)[2])\n",
    "    pass_prop = np.append(pass_prop, results_by_year.row(i)[1] / total_for_year)\n",
    "    fail_prop = np.append(fail_prop, results_by_year.row(i)[2] / total_for_year)\n",
    "    \n",
    "results_by_year_prop = Table().with_columns(\"Year\", results_by_year.column(\"year\"),\n",
    "                                           \"Pass Prop\", pass_prop,\n",
    "                                           \"Fail Prop\", fail_prop)\n",
    "results_by_year_prop"
   ]
  },
  {
   "cell_type": "code",
   "execution_count": null,
   "metadata": {},
   "outputs": [],
   "source": [
    "## There's a bit too many years. Let's create a bar chart of the years between 2000 and 2010. \n",
    "..."
   ]
  },
  {
   "cell_type": "markdown",
   "metadata": {},
   "source": [
    "## Discussion Questions"
   ]
  },
  {
   "cell_type": "code",
   "execution_count": null,
   "metadata": {},
   "outputs": [],
   "source": [
    "bechdel.show(5)"
   ]
  },
  {
   "cell_type": "code",
   "execution_count": null,
   "metadata": {},
   "outputs": [],
   "source": [
    "## How do I find the rows for the movies that passed the Bechdel test, using the bechdel table?\n"
   ]
  },
  {
   "cell_type": "code",
   "execution_count": null,
   "metadata": {},
   "outputs": [],
   "source": [
    "## How do I find the 2 movies with the highest budgets in terms of 2013 dollars?  \n"
   ]
  },
  {
   "cell_type": "code",
   "execution_count": null,
   "metadata": {},
   "outputs": [],
   "source": [
    "## How do I find an array of the 2 most common results for the \"test\" column?\n"
   ]
  },
  {
   "cell_type": "markdown",
   "metadata": {},
   "source": [
    "## Line and scatter plots"
   ]
  },
  {
   "cell_type": "code",
   "execution_count": null,
   "metadata": {},
   "outputs": [],
   "source": [
    "## Is there a correlation between the budget of a movie and its domestic gross? \n",
    "bechdel.scatter(\"budget\", \"domgross\")"
   ]
  },
  {
   "cell_type": "code",
   "execution_count": null,
   "metadata": {},
   "outputs": [],
   "source": [
    "## What's the trend of movies failing/passing the Bechdel test over time?\n",
    "# Is Hollywood becoming more sexist?\n",
    "\n",
    "results_by_year_prop.plot(\"Year\", \"Pass Prop\")"
   ]
  },
  {
   "cell_type": "code",
   "execution_count": null,
   "metadata": {},
   "outputs": [],
   "source": []
  },
  {
   "cell_type": "code",
   "execution_count": null,
   "metadata": {},
   "outputs": [],
   "source": []
  }
 ],
 "metadata": {
  "kernelspec": {
   "display_name": "Python 3",
   "language": "python",
   "name": "python3"
  },
  "language_info": {
   "codemirror_mode": {
    "name": "ipython",
    "version": 3
   },
   "file_extension": ".py",
   "mimetype": "text/x-python",
   "name": "python",
   "nbconvert_exporter": "python",
   "pygments_lexer": "ipython3",
   "version": "3.8.1"
  }
 },
 "nbformat": 4,
 "nbformat_minor": 4
}
