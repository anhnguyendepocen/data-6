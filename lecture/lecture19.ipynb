{
 "cells": [
  {
   "cell_type": "code",
   "execution_count": null,
   "metadata": {},
   "outputs": [],
   "source": [
    "from datascience import *\n",
    "from datascience.predicates import are\n",
    "import numpy as np\n",
    "import matplotlib\n",
    "matplotlib.use('Agg', warn=False)\n",
    "%matplotlib inline\n",
    "import matplotlib.pyplot as plots\n",
    "plots.style.use('fivethirtyeight')\n",
    "\n",
    "Table.interactive_plots()"
   ]
  },
  {
   "cell_type": "code",
   "execution_count": null,
   "metadata": {},
   "outputs": [],
   "source": [
    "## From the lab: this 100-row table with proportions of each ethnic group corresponding to the county population\n",
    "# we will use this as our null model\n",
    "eligible_jurors = Table().read_table(\"alameda_county.csv\")\n",
    "\n",
    "## This 100 row table has proportions of each ethnic group corresponding to how\n",
    "# they actually served on juries (the observed!)\n",
    "felony_juries = Table().read_table(\"felony_juries.csv\")"
   ]
  },
  {
   "cell_type": "code",
   "execution_count": null,
   "metadata": {},
   "outputs": [],
   "source": [
    "## Step 1 - Define hypotheses\n",
    "\n",
    "## Null hypothesis: ???\n",
    "\n",
    "## Alternative hypothesis: ???"
   ]
  },
  {
   "cell_type": "code",
   "execution_count": null,
   "metadata": {},
   "outputs": [],
   "source": [
    "## Step 2 - Define test statistic\n",
    "\n",
    "## Test statistic: ???\n",
    "\n",
    "def test_statistic(table):\n",
    "    \"\"\"Given a table, calculate the test statistic above.\"\"\"\n",
    "    return ..."
   ]
  },
  {
   "cell_type": "code",
   "execution_count": null,
   "metadata": {},
   "outputs": [],
   "source": [
    "## Find the observed test statistic (e.g. what did the actual data collected show?)\n",
    "observed = ...\n",
    "observed"
   ]
  },
  {
   "cell_type": "code",
   "execution_count": null,
   "metadata": {},
   "outputs": [],
   "source": [
    "# Step 3: Simulate taking samples many times under the null hypothesis\n",
    "statistics = ...\n",
    "num_trials = ...\n",
    "sample_size = 1453\n",
    "\n",
    "for i in np.arange(num_trials):\n",
    "    sample = ...\n",
    "    sample_stat = ...\n",
    "    statistics = ...\n",
    "\n",
    "statistics"
   ]
  },
  {
   "cell_type": "code",
   "execution_count": null,
   "metadata": {},
   "outputs": [],
   "source": [
    "# Step 3 cont.: Make a histogram of the simulated statistics\n",
    "bins = np.arange(0.05, 0.25, 0.01)\n"
   ]
  },
  {
   "cell_type": "code",
   "execution_count": null,
   "metadata": {},
   "outputs": [],
   "source": [
    "## Step 4: making a decision\n",
    "# What was our observed statistic?\n",
    "# Is it likely to occur under the null model?  "
   ]
  },
  {
   "cell_type": "code",
   "execution_count": null,
   "metadata": {},
   "outputs": [],
   "source": [
    "fail_to_reject_h0 = True/False"
   ]
  }
 ],
 "metadata": {
  "kernelspec": {
   "display_name": "Python 3",
   "language": "python",
   "name": "python3"
  },
  "language_info": {
   "codemirror_mode": {
    "name": "ipython",
    "version": 3
   },
   "file_extension": ".py",
   "mimetype": "text/x-python",
   "name": "python",
   "nbconvert_exporter": "python",
   "pygments_lexer": "ipython3",
   "version": "3.8.1"
  }
 },
 "nbformat": 4,
 "nbformat_minor": 4
}
