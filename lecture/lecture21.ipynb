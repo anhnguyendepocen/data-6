{
 "cells": [
  {
   "cell_type": "code",
   "execution_count": null,
   "metadata": {},
   "outputs": [],
   "source": [
    "from datascience import *\n",
    "import numpy as np\n",
    "\n",
    "%matplotlib inline\n",
    "import matplotlib.pyplot as plots\n",
    "plots.style.use('fivethirtyeight')\n",
    "\n",
    "Table.interactive_plots()"
   ]
  },
  {
   "cell_type": "markdown",
   "metadata": {},
   "source": [
    "## Review"
   ]
  },
  {
   "cell_type": "code",
   "execution_count": null,
   "metadata": {},
   "outputs": [],
   "source": [
    "## Array arithmetic\n",
    "array1 = np.arange(10, 40, 10)\n",
    "array2 = np.arange(3)\n",
    "\n",
    "data = Table.read_table(\"scores_by_section.csv\")\n",
    "#data.column(\"Midterm\")"
   ]
  },
  {
   "cell_type": "code",
   "execution_count": null,
   "metadata": {},
   "outputs": [],
   "source": [
    "## Hypothesis test (in short)\n",
    "# I obtained 8 sixes when I rolled a die 30 times. Is the die fair?\n",
    "\n",
    "null_model = Table().with_column(\"Side\", np.arange(1, 7, 1)) ## We assume the die is fair; \n",
    "#how many sixes should we expect? Notice how we have to code this in\n",
    "observed = 8 ## got 8 sixes\n",
    "\n",
    "def num_sixes(tbl):\n",
    "    \"\"\"Given a 1 column table of various rolls, find the number of sixes\"\"\"\n",
    "    sixes = tbl.column(0) == 6\n",
    "    return sum(sixes) ## Why do we take a sum? \n",
    "\n",
    "num_trials = 5000\n",
    "sample_size = 30 ## 30 rolls\n",
    "results = make_array()\n",
    "\n",
    "for i in np.arange(num_trials):\n",
    "    sim_sample = null_model.sample(sample_size)\n",
    "    sim_stat = num_sixes(sim_sample)\n",
    "    results = np.append(results, sim_stat)\n",
    "\n",
    "## Making a histogram of results\n",
    "Table().with_column(\"Simulated Statistics\", results).hist(0, bins = np.arange(0, 14, 1))\n",
    "\n",
    "## Do we reject or fail to reject the null? "
   ]
  },
  {
   "cell_type": "markdown",
   "metadata": {},
   "source": [
    "## Estimation"
   ]
  },
  {
   "cell_type": "code",
   "execution_count": null,
   "metadata": {},
   "outputs": [],
   "source": [
    "sf_salary_data = Table().read_table(\"sf_salary_data_2020.csv\")\n",
    "sf_salary_data.show(5)\n",
    "\n",
    "pop_mean = np.mean(sf_salary_data.column(\"Total Compensation\"))\n",
    "pop_mean"
   ]
  },
  {
   "cell_type": "code",
   "execution_count": null,
   "metadata": {},
   "outputs": [],
   "source": [
    "sample = sf_salary_data.sample(100, with_replacement = False)\n",
    "np.mean(sample.column(\"Total Compensation\"))\n",
    "## Notice the variation between each sample"
   ]
  },
  {
   "cell_type": "code",
   "execution_count": null,
   "metadata": {},
   "outputs": [],
   "source": [
    "## Now what if we only just had 1 single large sample (without access to the population data)\n",
    "our_one_sample = sf_salary_data.sample(300, with_replacement = False)\n",
    "np.mean(our_one_sample.column(\"Total Compensation\"))"
   ]
  },
  {
   "cell_type": "code",
   "execution_count": null,
   "metadata": {},
   "outputs": [],
   "source": [
    "## The Bootstrap: or, random sampling with replacement; or, how to \"magically\" generate new samples\n",
    "\n",
    "num_resamples = 1000\n",
    "resampled_means = make_array()\n",
    "sample_size = our_one_sample.num_rows\n",
    "\n",
    "for i in np.arange(num_resamples):\n",
    "    one_resample = our_one_sample.sample(sample_size, with_replacement = True)\n",
    "    one_resample_mean = np.mean(one_resample.column(\"Total Compensation\"))\n",
    "    resampled_means = np.append(resampled_means, one_resample_mean)\n",
    "\n",
    "    "
   ]
  },
  {
   "cell_type": "code",
   "execution_count": null,
   "metadata": {},
   "outputs": [],
   "source": [
    "Table().with_column(\"Resampled Means\", resampled_means).hist(0)\n",
    "## Based on this histogram, how do we conclude what the "
   ]
  },
  {
   "cell_type": "code",
   "execution_count": null,
   "metadata": {},
   "outputs": [],
   "source": [
    "## Confidence intervals! More on this tomorrow\n",
    "lower_bound = percentile(2.5, resampled_means)\n",
    "upper_bound = percentile(97.5, resampled_means)\n",
    "\n",
    "print(\"The true population mean is anywhere from \" + str(lower_bound) + \" to \" + str(upper_bound) + \" dollars.\")"
   ]
  },
  {
   "cell_type": "code",
   "execution_count": null,
   "metadata": {},
   "outputs": [],
   "source": [
    "## is that statement above true?\n",
    "pop_mean"
   ]
  },
  {
   "cell_type": "code",
   "execution_count": null,
   "metadata": {},
   "outputs": [],
   "source": []
  }
 ],
 "metadata": {
  "kernelspec": {
   "display_name": "Python 3",
   "language": "python",
   "name": "python3"
  },
  "language_info": {
   "codemirror_mode": {
    "name": "ipython",
    "version": 3
   },
   "file_extension": ".py",
   "mimetype": "text/x-python",
   "name": "python",
   "nbconvert_exporter": "python",
   "pygments_lexer": "ipython3",
   "version": "3.8.1"
  }
 },
 "nbformat": 4,
 "nbformat_minor": 4
}
