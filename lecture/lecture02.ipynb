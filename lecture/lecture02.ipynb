{
 "cells": [
  {
   "cell_type": "code",
   "execution_count": null,
   "metadata": {
    "collapsed": true
   },
   "outputs": [],
   "source": [
    "# Boilerplate: just run this cell\n",
    "from datascience import *\n",
    "from datascience.predicates import are\n",
    "import numpy as np\n",
    "import matplotlib\n",
    "matplotlib.use('Agg', warn=False)\n",
    "%matplotlib inline\n",
    "import matplotlib.pyplot as plots\n",
    "plots.style.use('fivethirtyeight')"
   ]
  },
  {
   "cell_type": "markdown",
   "metadata": {},
   "source": [
    "## Are sociology PhDs deadly?"
   ]
  },
  {
   "cell_type": "code",
   "execution_count": null,
   "metadata": {
    "collapsed": true
   },
   "outputs": [],
   "source": [
    "# The raw data\n",
    "sociology = Table().with_columns(\n",
    "  \"Year\", [1999, 2000, 2001, 2002, 2003, 2004, 2005, 2006, 2007, 2008, 2009],\n",
    "  \"Sociology doctorates awarded (US)\", [572, 617, 566, 547, 597, 580, 536, 579, 576, 601, 664],\n",
    "  \"Deaths caused by anticoagulants (US)\", [17, 39, 39, 27, 44, 46, 29, 42, 47, 52, 78])"
   ]
  },
  {
   "cell_type": "code",
   "execution_count": null,
   "metadata": {},
   "outputs": [],
   "source": [
    "# Let's look at the data as a table.\n"
   ]
  },
  {
   "cell_type": "code",
   "execution_count": null,
   "metadata": {},
   "outputs": [],
   "source": [
    "# Let's plot doctorates and anticoagulant deaths as a function of the year.\n"
   ]
  },
  {
   "cell_type": "markdown",
   "metadata": {},
   "source": [
    "### More complicated plots take some tuning to get right. \n",
    "\n",
    "This is a bit more complicated than we will learn in this course, but you can learn how to do this in the documentation for matplotlib. You can find the documentation [here](https://matplotlib.org/contents.html). \n"
   ]
  },
  {
   "cell_type": "code",
   "execution_count": null,
   "metadata": {},
   "outputs": [],
   "source": [
    "fig, ax1 = plots.subplots()\n",
    "ax1.plot(sociology.column(0), sociology.column(1), 'b-')\n",
    "ax1.set_xlabel('Year')\n",
    "ax1.set_ylabel('Doctorates', color='b')\n",
    "ax1.tick_params('y', colors='b')\n",
    "ax1.grid(False, axis='y')\n",
    "\n",
    "ax2 = ax1.twinx()\n",
    "ax2.plot(sociology.column(0), sociology.column(2), 'r-')\n",
    "ax2.set_ylabel('Anticoagulant deaths', color='r')\n",
    "ax2.tick_params('y', colors='r')\n",
    "ax2.grid(False, axis='y')\n",
    "\n",
    "fig.tight_layout()\n",
    "plots.show()"
   ]
  },
  {
   "cell_type": "markdown",
   "metadata": {},
   "source": [
    "### Is there an association? What pattern does this graph show? "
   ]
  },
  {
   "cell_type": "code",
   "execution_count": null,
   "metadata": {},
   "outputs": [],
   "source": [
    "## How do we compare the relationship between 2 variables? "
   ]
  },
  {
   "cell_type": "markdown",
   "metadata": {},
   "source": [
    "## Grade weights"
   ]
  },
  {
   "cell_type": "code",
   "execution_count": null,
   "metadata": {},
   "outputs": [],
   "source": [
    "proportions = Table().with_columns(\n",
    "  \"Assignment type\", [\"Labs\", \"HW\", \"Vitamin\", \"Midterm\", \"Final\", \"Exploration\"],\n",
    "  \"Weight\",          [.2,     .25,   0.1,      0.15,       0.2,        0.1])\n",
    "proportions.set_format(\"Weight\", PercentFormatter(0))"
   ]
  },
  {
   "cell_type": "code",
   "execution_count": null,
   "metadata": {
    "collapsed": true
   },
   "outputs": [],
   "source": [
    "# Let's recreate the bar chart from the slide.\n"
   ]
  }
 ],
 "metadata": {
  "kernelspec": {
   "display_name": "Python 3",
   "language": "python",
   "name": "python3"
  },
  "language_info": {
   "codemirror_mode": {
    "name": "ipython",
    "version": 3
   },
   "file_extension": ".py",
   "mimetype": "text/x-python",
   "name": "python",
   "nbconvert_exporter": "python",
   "pygments_lexer": "ipython3",
   "version": "3.6.1"
  }
 },
 "nbformat": 4,
 "nbformat_minor": 1
}
