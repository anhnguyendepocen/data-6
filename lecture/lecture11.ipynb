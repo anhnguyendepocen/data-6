{
 "cells": [
  {
   "cell_type": "code",
   "execution_count": null,
   "metadata": {},
   "outputs": [],
   "source": [
    "from datascience import *\n",
    "import numpy as np\n",
    "\n",
    "import matplotlib\n",
    "matplotlib.use('Agg', warn=False)\n",
    "%matplotlib inline\n",
    "import matplotlib.pyplot as plots\n",
    "plots.style.use('fivethirtyeight')\n",
    "Table.interactive_plots()"
   ]
  },
  {
   "cell_type": "markdown",
   "metadata": {},
   "source": [
    "## Tables and bar charts"
   ]
  },
  {
   "cell_type": "code",
   "execution_count": null,
   "metadata": {},
   "outputs": [],
   "source": [
    "## Making a table of the CA population\n",
    "ca = make_array(1490000, 2406000, 3554000, 5711000, 6950000, 10677000)\n",
    "years = np.arange(1900, 1950+10, 10)\n",
    "ca_population = Table().with_columns(\n",
    "    \"Year\", years,\n",
    "    \"Population\", ca)\n",
    "\n",
    "#Find the average population of CA in this time period? \n",
    "ca_population"
   ]
  },
  {
   "cell_type": "code",
   "execution_count": null,
   "metadata": {},
   "outputs": [],
   "source": [
    "# Making a bar chart\n",
    "ca_population.barh(...)"
   ]
  },
  {
   "cell_type": "code",
   "execution_count": null,
   "metadata": {},
   "outputs": [],
   "source": [
    "# NBA players in the 2015-2016 season\n",
    "nba_2015 = Table.read_table(\"nba_salaries.csv\")\n",
    "nba_2015"
   ]
  },
  {
   "cell_type": "code",
   "execution_count": null,
   "metadata": {},
   "outputs": [],
   "source": [
    "# How many players play in each position?\n",
    "nba_2015..."
   ]
  },
  {
   "cell_type": "code",
   "execution_count": null,
   "metadata": {},
   "outputs": [],
   "source": [
    "# What is the average salary (in millions) of NBA players in each position?\n",
    "nba_2015..."
   ]
  },
  {
   "cell_type": "code",
   "execution_count": null,
   "metadata": {},
   "outputs": [],
   "source": [
    "## Making bar charts of the count and frequency distribution for each team & players represented\n",
    "nba_2015.group(\"TEAM\").barh(\"TEAM\")"
   ]
  },
  {
   "cell_type": "code",
   "execution_count": null,
   "metadata": {},
   "outputs": [],
   "source": [
    "# It's a bit chaotic. How do we order this? with sort!\n",
    "nba_2015.group(\"TEAM\").sort(\"count\", descending = True).barh(\"TEAM\")"
   ]
  },
  {
   "cell_type": "markdown",
   "metadata": {},
   "source": [
    "## Histograms"
   ]
  },
  {
   "cell_type": "code",
   "execution_count": null,
   "metadata": {},
   "outputs": [],
   "source": [
    "movies_gross = Table.read_table(\"https://raw.githubusercontent.com/data-8r/textbook/gh-pages/notebooks/top_movies.csv\")\n",
    "movies_gross"
   ]
  },
  {
   "cell_type": "code",
   "execution_count": null,
   "metadata": {},
   "outputs": [],
   "source": [
    "movies_gross.bin(\"Year\", bins= np.arange(1920, 2030, 10))"
   ]
  },
  {
   "cell_type": "code",
   "execution_count": null,
   "metadata": {},
   "outputs": [],
   "source": [
    "# When did the most movies come out?\n",
    "movies_gross.hist(\"Year\", bins = np.arange(1920, 2030, 10))"
   ]
  },
  {
   "cell_type": "code",
   "execution_count": null,
   "metadata": {},
   "outputs": [],
   "source": [
    "## What's the distribution of adjusted gross sales?\n",
    "min_gross = min(movies_gross.column(\"Gross (Adjusted)\"))\n",
    "max_gross = max(movies_gross.column(\"Gross (Adjusted)\"))\n",
    "movies_gross.hist(\"Gross (Adjusted)\", bins = np.arange(min_gross, max_gross + 1000000, 50000000), density = False)"
   ]
  },
  {
   "cell_type": "code",
   "execution_count": null,
   "metadata": {},
   "outputs": [],
   "source": []
  }
 ],
 "metadata": {
  "anaconda-cloud": {},
  "kernelspec": {
   "display_name": "Python 3",
   "language": "python",
   "name": "python3"
  },
  "language_info": {
   "codemirror_mode": {
    "name": "ipython",
    "version": 3
   },
   "file_extension": ".py",
   "mimetype": "text/x-python",
   "name": "python",
   "nbconvert_exporter": "python",
   "pygments_lexer": "ipython3",
   "version": "3.8.1"
  }
 },
 "nbformat": 4,
 "nbformat_minor": 4
}
