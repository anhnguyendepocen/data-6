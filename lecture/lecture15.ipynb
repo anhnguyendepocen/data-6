{
 "cells": [
  {
   "cell_type": "code",
   "execution_count": null,
   "metadata": {},
   "outputs": [],
   "source": [
    "from datascience import *\n",
    "import numpy as np\n",
    "\n",
    "import matplotlib\n",
    "matplotlib.use('Agg', warn=False)\n",
    "%matplotlib inline\n",
    "import matplotlib.pyplot as plots\n",
    "plots.style.use('fivethirtyeight')\n",
    "\n",
    "Table.interactive_plots()"
   ]
  },
  {
   "cell_type": "markdown",
   "metadata": {},
   "source": [
    "## Functions review"
   ]
  },
  {
   "cell_type": "code",
   "execution_count": null,
   "metadata": {
    "collapsed": true
   },
   "outputs": [],
   "source": [
    "def middle(a, b, c):\n",
    "    \"\"\"The second largest of numbers a, b, c\"\"\"\n",
    "    total = a + b + c\n",
    "    return total - max(a, b, c) - min(a, b, c)"
   ]
  },
  {
   "cell_type": "code",
   "execution_count": null,
   "metadata": {
    "collapsed": true
   },
   "outputs": [],
   "source": [
    "def f_to_kelvin(t):\n",
    "    \"\"\"Convert a fahrenheit temperature float to Kelvin as a float\"\"\"\n",
    "    return (t-32) * (5/9) + 273.15\n",
    "\n",
    "def f_to_kelvin_string(t):\n",
    "    \"\"\"Convert a fahrenheit temperature string to Kelvin as a float\"\"\"\n",
    "    return (float(t) - 32) * (5/9) + 273.15"
   ]
  },
  {
   "cell_type": "code",
   "execution_count": null,
   "metadata": {
    "collapsed": true
   },
   "outputs": [],
   "source": [
    "## Printing vs returning\n",
    "\n",
    "def inclusive_range(start, stop, step):\n",
    "    return np.arange(start, stop+step, step)"
   ]
  },
  {
   "cell_type": "markdown",
   "metadata": {},
   "source": [
    "## Functions with tables"
   ]
  },
  {
   "cell_type": "code",
   "execution_count": null,
   "metadata": {},
   "outputs": [],
   "source": [
    "# https://www.bls.gov/news.release/atus.t01.htm#tus_tu_nr1.f.1 ; Bureau of Labor Stats data\n",
    "time_use = Table.read_table(\"time_use.csv\")\n",
    "time_use.show()"
   ]
  },
  {
   "cell_type": "code",
   "execution_count": null,
   "metadata": {},
   "outputs": [],
   "source": [
    "## Creating a bar chart of the average hours per day for each activity subtotal, females only\n",
    "fem_subtotal = time_use.where(\"Gender\", are.equal_to(\"Female\")).where(\"Type\", are.equal_to(\"Subtotal\"))\n",
    "fem_subtotal\n",
    "#fem_subtotal.barh(\"Activity\", \"Average hours per day\")"
   ]
  },
  {
   "cell_type": "code",
   "execution_count": null,
   "metadata": {},
   "outputs": [],
   "source": [
    "## Use the data above to find the percentages - kind of annoying to replace data all the time\n",
    "time_use.column(\"Average hours per day\") / sum(time_use.column(\"Average hours per day\")) * 100"
   ]
  },
  {
   "cell_type": "code",
   "execution_count": null,
   "metadata": {
    "collapsed": true
   },
   "outputs": [],
   "source": [
    "## A function will create the table for us!\n",
    "\n",
    "def with_percents(tbl, column_for_counts):\n",
    "    percents = 100 * tbl.column(column_for_counts) / sum(tbl.column(column_for_counts))\n",
    "    percent_label = \"Percent of \" + column_for_counts\n",
    "    return tbl.with_columns(percent_label, percents)\n",
    "\n",
    "# We can include functions within other functions\n",
    "\n",
    "def barh_percents(tbl, column_for_labels, column_for_counts):\n",
    "    with_percents(tbl, column_for_counts).barh(column_for_labels, \"Percent of \" + column_for_counts)"
   ]
  },
  {
   "cell_type": "code",
   "execution_count": null,
   "metadata": {},
   "outputs": [],
   "source": [
    "with_percents(fem_subtotal, \"Average hours per day\")\n",
    "barh_percents(fem_subtotal, \"Activity\", \"Average hours per day\")"
   ]
  },
  {
   "cell_type": "code",
   "execution_count": null,
   "metadata": {
    "collapsed": true
   },
   "outputs": [],
   "source": [
    "## Functions as values\n",
    "\n",
    "def f(s):\n",
    "    return np.round(s / sum(s) * 100, 2)\n",
    "\n",
    "#f(make_array(5, 10, 15))\n",
    "#f\n",
    "#str(f)"
   ]
  },
  {
   "cell_type": "markdown",
   "metadata": {},
   "source": [
    "## Applying functions to columns"
   ]
  },
  {
   "cell_type": "code",
   "execution_count": null,
   "metadata": {},
   "outputs": [],
   "source": [
    "words = Table.read_table(\"words.csv\")#, encoding='iso8859')\n",
    "words"
   ]
  },
  {
   "cell_type": "code",
   "execution_count": null,
   "metadata": {
    "collapsed": true
   },
   "outputs": [],
   "source": [
    "# https://en.wikipedia.org/wiki/Grimm%27s_law\n",
    "def consonant_shift(text):\n",
    "    # Just a few ways in which consonants shifted from Proto-Indo-European\n",
    "    # to early Germanic (which then came into English).\n",
    "    # Examples:  Pater -> Father, Pod -> Foot, Tres -> Three, Decem -> Ten, Qod -> What\n",
    "    return text.replace(\"t\", \"th\").replace(\"p\", \"f\").replace(\"d\", \"t\").replace(\"qo\", \"who\")"
   ]
  },
  {
   "cell_type": "code",
   "execution_count": null,
   "metadata": {},
   "outputs": [],
   "source": [
    "## Using apply:\n",
    "shifted = words.apply(consonant_shift, \"Proto Indo-European\")\n",
    "shifted"
   ]
  },
  {
   "cell_type": "code",
   "execution_count": null,
   "metadata": {
    "collapsed": true
   },
   "outputs": [],
   "source": [
    "with_shift = words.with_columns(\"Consonant-shifted\", shifted)\n",
    "with_shift"
   ]
  },
  {
   "cell_type": "code",
   "execution_count": null,
   "metadata": {},
   "outputs": [],
   "source": [
    "## How did some words shift from \"p\" to \"f\"? \n",
    "with_shift.where(\"Proto Indo-European\", are.containing(\"pat\"))"
   ]
  },
  {
   "cell_type": "code",
   "execution_count": null,
   "metadata": {},
   "outputs": [],
   "source": [
    "# Note the shift sometimes (often) doesn't match:\n",
    "#   In qatwrpods, t -> d happened, not t -> th\n",
    "with_shift.where(\"Proto Indo-European\", are.containing(\"pod\"))"
   ]
  },
  {
   "cell_type": "code",
   "execution_count": null,
   "metadata": {},
   "outputs": [],
   "source": [
    "with_shift.where(\"Proto Indo-European\", are.equal_to(\"ad\"))"
   ]
  },
  {
   "cell_type": "markdown",
   "metadata": {},
   "source": [
    "## `group`"
   ]
  },
  {
   "cell_type": "code",
   "execution_count": null,
   "metadata": {},
   "outputs": [],
   "source": [
    "## From the DOJ/FBI Crime Reporting Stats\n",
    "crime = Table.read_table(\"us_crime.csv\")\n",
    "crime"
   ]
  },
  {
   "cell_type": "code",
   "execution_count": null,
   "metadata": {},
   "outputs": [],
   "source": [
    "## Let's look at some of the table. What areas had the highest population?\n",
    "crime.sort(\"Population\", descending=True)"
   ]
  },
  {
   "cell_type": "code",
   "execution_count": null,
   "metadata": {},
   "outputs": [],
   "source": [
    "## We want to analyze states only. Let's do some cleaning.\n",
    "states = crime.where(\"State\", are.not_equal_to(\"United States-Total\"))\n",
    "states"
   ]
  },
  {
   "cell_type": "code",
   "execution_count": null,
   "metadata": {},
   "outputs": [],
   "source": [
    "## What we're used to: How many entries do we have for each year? For each state?\n",
    "states.group(\"Year\")"
   ]
  },
  {
   "cell_type": "code",
   "execution_count": null,
   "metadata": {},
   "outputs": [],
   "source": [
    "## Now: let's get the total number of crimes for each state in the dataset\n",
    "states.group(\"State\", sum)"
   ]
  },
  {
   "cell_type": "code",
   "execution_count": null,
   "metadata": {},
   "outputs": [],
   "source": [
    "## Notice the empty \"State sum\" column\n",
    "states.group(\"Year\", sum)"
   ]
  },
  {
   "cell_type": "code",
   "execution_count": null,
   "metadata": {},
   "outputs": [],
   "source": [
    "## Graph violent crime per capita, over time\n",
    "by_year = states.group(\"Year\", sum)\n",
    "by_year = by_year.with_columns(\"Violent crime per capita\", by_year.column(3) / by_year.column(2))\n",
    "by_year"
   ]
  },
  {
   "cell_type": "code",
   "execution_count": null,
   "metadata": {},
   "outputs": [],
   "source": [
    "by_year.plot(\"Year\", \"Violent crime total sum\")"
   ]
  },
  {
   "cell_type": "code",
   "execution_count": null,
   "metadata": {},
   "outputs": [],
   "source": [
    "by_year.plot(\"Year\", \"Violent crime per capita\")"
   ]
  },
  {
   "cell_type": "code",
   "execution_count": null,
   "metadata": {
    "collapsed": true
   },
   "outputs": [],
   "source": []
  }
 ],
 "metadata": {
  "anaconda-cloud": {},
  "kernelspec": {
   "display_name": "Python 3",
   "language": "python",
   "name": "python3"
  },
  "language_info": {
   "codemirror_mode": {
    "name": "ipython",
    "version": 3
   },
   "file_extension": ".py",
   "mimetype": "text/x-python",
   "name": "python",
   "nbconvert_exporter": "python",
   "pygments_lexer": "ipython3",
   "version": "3.6.1"
  }
 },
 "nbformat": 4,
 "nbformat_minor": 4
}
