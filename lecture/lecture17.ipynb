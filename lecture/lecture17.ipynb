{
 "cells": [
  {
   "cell_type": "code",
   "execution_count": null,
   "metadata": {},
   "outputs": [],
   "source": [
    " #Boilerplate: just run this cell\n",
    "from datascience import *\n",
    "from datascience.predicates import are\n",
    "import numpy as np\n",
    "import matplotlib\n",
    "matplotlib.use('Agg', warn=False)\n",
    "%matplotlib inline\n",
    "import matplotlib.pyplot as plots\n",
    "plots.style.use('fivethirtyeight')\n",
    "\n",
    "Table.interactive_plots()"
   ]
  },
  {
   "cell_type": "code",
   "execution_count": null,
   "metadata": {},
   "outputs": [],
   "source": [
    "array_of_numbers = make_array(1,2,3,4,5,6)\n",
    "probability_distribution = Table().with_column(\"Dice\", x)\n",
    "#probability_distribution\n",
    "probability_distribution.hist(\"Dice\", bins = make_array(0.5,1.5,2.5,3.5,4.5,5.5,6.5))"
   ]
  },
  {
   "cell_type": "code",
   "execution_count": null,
   "metadata": {},
   "outputs": [],
   "source": [
    "array_of_numbers = make_array(1,2,3,4,5,6)\n",
    "random_array = np.random.choice(x, 1000000)\n",
    "empirical_distribution = Table().with_column(\"Dice\", random_array)\n",
    "empirical_distribution.hist(\"Dice\", bins = make_array(0.5,1.5,2.5,3.5,4.5,5.5,6.5))"
   ]
  },
  {
   "cell_type": "code",
   "execution_count": null,
   "metadata": {},
   "outputs": [],
   "source": [
    "array_of_numbers = make_array(1,2,3,4,5,6)\n",
    "table_of_numbers = Table().with_column(\"Numbers\", array_of_numbers)\n",
    "random_array = table_of_numbers.sample(100).column(0)\n",
    "empirical_distribution = Table().with_column(\"Dice\", random_array)\n",
    "empirical_distribution.hist(\"Dice\", bins =  make_array(0.5,1.5,2.5,3.5,4.5,5.5,6.5))"
   ]
  },
  {
   "cell_type": "code",
   "execution_count": null,
   "metadata": {},
   "outputs": [],
   "source": []
  }
 ],
 "metadata": {
  "kernelspec": {
   "display_name": "Python 3",
   "language": "python",
   "name": "python3"
  },
  "language_info": {
   "codemirror_mode": {
    "name": "ipython",
    "version": 3
   },
   "file_extension": ".py",
   "mimetype": "text/x-python",
   "name": "python",
   "nbconvert_exporter": "python",
   "pygments_lexer": "ipython3",
   "version": "3.8.1"
  }
 },
 "nbformat": 4,
 "nbformat_minor": 4
}
