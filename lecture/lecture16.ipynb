{
 "cells": [
  {
   "cell_type": "code",
   "execution_count": null,
   "metadata": {},
   "outputs": [],
   "source": [
    "from datascience import *\n",
    "import numpy as np\n",
    "\n",
    "import matplotlib\n",
    "matplotlib.use('Agg', warn=False)\n",
    "%matplotlib inline\n",
    "import matplotlib.pyplot as plots\n",
    "plots.style.use('fivethirtyeight')\n",
    "\n",
    "Table.interactive_plots()\n",
    "\n",
    "import scipy.stats"
   ]
  },
  {
   "cell_type": "markdown",
   "metadata": {},
   "source": [
    "## Review: for table methods reference, look at the Data 8 sheet here - http://data8.org/su20/python-reference.html"
   ]
  },
  {
   "cell_type": "code",
   "execution_count": null,
   "metadata": {},
   "outputs": [],
   "source": [
    "calenviroscreen = Table.read_table(\"clean_ces.csv\")\n",
    "calenviroscreen.show(5)"
   ]
  },
  {
   "cell_type": "code",
   "execution_count": null,
   "metadata": {},
   "outputs": [],
   "source": [
    "## Challenge Question 1: Find the tract with the lowest level of poverty in Alameda County \n",
    "# and return the tract ID as a float.\n",
    "# Note: you will need to use the string \"Alameda \" (with a space at the end) - \"Alameda\" will give you an error.\n",
    "\n",
    "..."
   ]
  },
  {
   "cell_type": "code",
   "execution_count": null,
   "metadata": {},
   "outputs": [],
   "source": [
    "## Challenge Question 2: Return a 2 column table containing the top 10 counties with the highest\n",
    "# average ces pollution scores in the state (in order)\n",
    "\n"
   ]
  },
  {
   "cell_type": "code",
   "execution_count": null,
   "metadata": {},
   "outputs": [],
   "source": [
    "## Challenge Question 3: Write a function that finds a census tract's score for \"Sensitive Population Indicator\"\n",
    "# This is the average of the percentile scores for \"asthma\", \"cardiovascular_disease\", and \"low_birth_weight\"\n",
    "# Hint: scipy.stats.percentileofscore(array, value) will return the percentile of a value for an array\n",
    "\n",
    "def spi_score(census_tract):\n",
    "    \"\"\"Using a census tract ID, find that tract's values for asthma, cardiovascular disease, and low birth rate; \n",
    "    find its percentile compared to the whole dataset for each trait; return the average of the 3 perentiles\"\"\"\n",
    "    tract = ...\n",
    "    asthma = ...\n",
    "    cvd = ...\n",
    "    lbw = ...\n",
    "    return ...\n",
    "\n",
    "\n",
    "## This will test if your code works.\n",
    "spi_score(6019001100.0)"
   ]
  },
  {
   "cell_type": "code",
   "execution_count": null,
   "metadata": {},
   "outputs": [],
   "source": [
    "## Challenge Question 4: Using your function from above, apply it to the small_ces dataset, add the data as a column,\n",
    "# and find the county (as a string) that has the tract with the lowest SPI score\n",
    "# Note: this will take a few seconds to run \n",
    "\n",
    "small_ces = calenviroscreen.take(100) ## This is to make sure your code actually runs in a timely manner\n",
    "\n",
    "...\n"
   ]
  },
  {
   "cell_type": "markdown",
   "metadata": {},
   "source": [
    "## Maps - John Snow"
   ]
  },
  {
   "cell_type": "code",
   "execution_count": null,
   "metadata": {},
   "outputs": [],
   "source": [
    "cholera = Table().read_table(\"snow_cholera.csv\").relabel(\"X coordinate\", \"latitude\").relabel(\"Y coordinate\", \"longitude\")\n",
    "cholera"
   ]
  },
  {
   "cell_type": "code",
   "execution_count": null,
   "metadata": {},
   "outputs": [],
   "source": [
    "## Let's map the data now. Notice how the columns need to be in a specific order, so we can reorder it with select.\n",
    "Circle.map_table(..., color = \"red\")"
   ]
  },
  {
   "cell_type": "code",
   "execution_count": null,
   "metadata": {},
   "outputs": [],
   "source": [
    "## Let's learn more about the deaths\n",
    "cholera"
   ]
  },
  {
   "cell_type": "code",
   "execution_count": null,
   "metadata": {},
   "outputs": [],
   "source": [
    "## Let's see the households where it was most severe (greater than 3 deaths)\n",
    "severe_cases = ...\n",
    "Circle.map_table(severe_cases.select(\"latitude\", \"longitude\"), color = \"red\")"
   ]
  },
  {
   "cell_type": "code",
   "execution_count": null,
   "metadata": {},
   "outputs": [],
   "source": [
    "## Let's clean up the table a bit.\n",
    "# First, let's add labels to our data so we can get info when we click on the points.\n",
    "labels = make_array()\n",
    "\n",
    "for i in cholera.column(\"Number of deaths\"):\n",
    "    labels = np.append(labels, \"Number of deaths: \" + str(i))\n",
    "\n",
    "labels"
   ]
  },
  {
   "cell_type": "code",
   "execution_count": null,
   "metadata": {},
   "outputs": [],
   "source": [
    "## Now: reorder the columns and attach the array to the table as \"labels\"\n",
    "new_cholera1 = ...\n",
    "new_cholera1"
   ]
  },
  {
   "cell_type": "code",
   "execution_count": null,
   "metadata": {},
   "outputs": [],
   "source": [
    "## And add a \"color scale\" using the number of deaths (to estimate severity)\n",
    "new_cholera2 = new_cholera1.with_column(\"color_scale\", cholera.column(\"Number of deaths\"))\n",
    "new_cholera2"
   ]
  },
  {
   "cell_type": "code",
   "execution_count": null,
   "metadata": {},
   "outputs": [],
   "source": [
    "## In this case, let's use the Marker feature so we can better see the color scale\n",
    "Marker.map_table(new_cholera2)"
   ]
  },
  {
   "cell_type": "code",
   "execution_count": null,
   "metadata": {},
   "outputs": [],
   "source": [
    "## But there's way too many points! Let's only look at houses with 2 or more deaths. \n",
    "\n",
    "Marker.map_table(new_cholera2.where(\"color_scale\", are.above(2)))"
   ]
  },
  {
   "cell_type": "code",
   "execution_count": null,
   "metadata": {},
   "outputs": [],
   "source": []
  }
 ],
 "metadata": {
  "kernelspec": {
   "display_name": "Python 3",
   "language": "python",
   "name": "python3"
  },
  "language_info": {
   "codemirror_mode": {
    "name": "ipython",
    "version": 3
   },
   "file_extension": ".py",
   "mimetype": "text/x-python",
   "name": "python",
   "nbconvert_exporter": "python",
   "pygments_lexer": "ipython3",
   "version": "3.8.1"
  }
 },
 "nbformat": 4,
 "nbformat_minor": 4
}
