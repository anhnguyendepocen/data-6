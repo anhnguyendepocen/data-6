{
 "cells": [
  {
   "cell_type": "markdown",
   "metadata": {},
   "source": [
    "# Homework 2: Arrays and Bar Charts\n",
    "\n",
    "Please complete this notebook by filling in the cells provided. Before you begin, execute the following cell to load the provided tests."
   ]
  },
  {
   "cell_type": "code",
   "execution_count": null,
   "metadata": {
    "collapsed": true
   },
   "outputs": [],
   "source": [
    "# Don't change this cell; just run it. \n",
    "from datascience import *\n",
    "import numpy as np\n",
    "\n",
    "%matplotlib inline\n",
    "import matplotlib.pyplot as plots\n",
    "plots.style.use('fivethirtyeight')\n",
    "\n",
    "import otter\n",
    "grader = otter.Notebook()"
   ]
  },
  {
   "cell_type": "markdown",
   "metadata": {},
   "source": [
    "Reading:\n",
    "- Textbook chapter [4](https://data-8r.gitbooks.io/textbook/chapters/04/data-types.html)\n",
    "\n",
    "Deadline:\n",
    "\n",
    "This assignment is due **Wednesday, July 22 at 11:59PM** on Gradescope. You will receive an early submission bonus point if you turn in your final submission by **Tuesday, July 21 at 11:59 PM**. Late work will not be accepted unless you have made special arrangements with your (u)GSI or the instructor.\n",
    "\n",
    "Directly sharing answers is not okay, but discussing problems with the course staff or with other students is encouraged. \n",
    "\n",
    "You should start early so that you have time to get help if you're stuck. Drop-in office hours will be held at various times in the week; check the bCourses page for the latest schedule."
   ]
  },
  {
   "cell_type": "markdown",
   "metadata": {},
   "source": [
    "## 1. Ninety-Nine Bottles\n"
   ]
  },
  {
   "cell_type": "markdown",
   "metadata": {},
   "source": [
    "Bored of singing the \"ninety-nine bottles\" song on a long car trip, Patrick tries to find as many Python expressions as he can that evaluate to 99. He doesn't have a laptop, and his Python is a little rusty. He first defines `x` as 10:"
   ]
  },
  {
   "cell_type": "code",
   "execution_count": null,
   "metadata": {
    "collapsed": true
   },
   "outputs": [],
   "source": [
    "x = 10"
   ]
  },
  {
   "cell_type": "markdown",
   "metadata": {},
   "source": [
    "For each cell below, write `#CORRECT` next to the expression in the cell if it evaluates to 99.  Otherwise, rewrite the expression so that it does evaluate to 99.  To fix expressions, **you can only add operators, commas, and parentheses**.\n",
    "\n",
    "To get the most out of this exercise, try to fix the expressions before running them."
   ]
  },
  {
   "cell_type": "code",
   "execution_count": null,
   "metadata": {
    "collapsed": true
   },
   "outputs": [],
   "source": [
    "10 x - 1"
   ]
  },
  {
   "cell_type": "code",
   "execution_count": null,
   "metadata": {
    "collapsed": true
   },
   "outputs": [],
   "source": [
    "(x) (x) - 1"
   ]
  },
  {
   "cell_type": "code",
   "execution_count": null,
   "metadata": {
    "collapsed": true
   },
   "outputs": [],
   "source": [
    "11 * x - x + 1"
   ]
  },
  {
   "cell_type": "code",
   "execution_count": null,
   "metadata": {
    "collapsed": true
   },
   "outputs": [],
   "source": [
    "abs(x * x) - abs(9 - x) "
   ]
  },
  {
   "cell_type": "code",
   "execution_count": null,
   "metadata": {
    "collapsed": true
   },
   "outputs": [],
   "source": [
    "abs -99"
   ]
  },
  {
   "cell_type": "code",
   "execution_count": null,
   "metadata": {
    "collapsed": true
   },
   "outputs": [],
   "source": [
    "pow(x 2) - 1"
   ]
  },
  {
   "cell_type": "markdown",
   "metadata": {},
   "source": [
    "## 2. Differences between Universities\n"
   ]
  },
  {
   "cell_type": "markdown",
   "metadata": {},
   "source": [
    "**Question 1.** Suppose you'd like to *quantify* how *dissimilar* two universities are, using three quantitative characteristics.  The US Department of Education data on [UW](https://collegescorecard.ed.gov/school/?236948-University-of-Washington-Seattle-Campus) and [Cal](https://collegescorecard.ed.gov/school/?110635-University-of-California-Berkeley) describes the following three traits (among many others):\n",
    "\n",
    "| Trait                                | UW     | Cal    |\n",
    "|--------------------------------------|--------|--------|\n",
    "| Average annual cost to attend ($)    | 12,001 | 14,846 |\n",
    "| Graduation rate (percentage)         | 83     | 93     |\n",
    "| Socioeconomic Diversity (percentage) | 21     | 19     |\n",
    "\n",
    "You decide to define the dissimilarity between two universities as the **maximum of the absolute values of the following 3 differences in their respective trait values**.\n",
    "\n",
    "Using this method, compute the dissimilarity between UW and Cal.  Name the result `dissimilarity`.  Use a single expression (a single line of code) to compute the answer.  Let Python perform all the arithmetic (like subtracting 91 from 83) rather than simplifying the expression yourself. The built-in `abs` function takes absolute values."
   ]
  },
  {
   "cell_type": "code",
   "execution_count": null,
   "metadata": {
    "collapsed": true
   },
   "outputs": [],
   "source": [
    "dissimilarity = ...\n",
    "dissimilarity"
   ]
  },
  {
   "cell_type": "markdown",
   "metadata": {},
   "source": [
    "Check your work by running the cell below."
   ]
  },
  {
   "cell_type": "code",
   "execution_count": null,
   "metadata": {
    "collapsed": true
   },
   "outputs": [],
   "source": [
    "grader.check('q2_1')"
   ]
  },
  {
   "cell_type": "markdown",
   "metadata": {},
   "source": [
    "**Question 2.** The national average annual cost of attending a public, 4-year institution in-state is $21,950.00. If the average annual cost of UW and Cal were measured as a **percentage** of the national average rather than a dollar amount, what would be the approximate dissimilarity between these two universities, using the same calculation from above, rounded to an integer? Feel free to use the cell below to recalculate the dissimilarity, but **do not reassign `dissimilarity` from above**. Assign either 1, 2, 3, or 4 corresponding to the correct answer to the name `universities_q2` below.\n",
    "\n",
    "1. 0\n",
    "2. 2\n",
    "3. 12\n",
    "4. 2845"
   ]
  },
  {
   "cell_type": "code",
   "execution_count": null,
   "metadata": {
    "collapsed": true
   },
   "outputs": [],
   "source": [
    "universities_q2 = "
   ]
  },
  {
   "cell_type": "markdown",
   "metadata": {},
   "source": [
    "Check that your answer is in the correct format. This test *does not* check that you answered correctly, only that you assigned a number successfully to `universities_q2`."
   ]
  },
  {
   "cell_type": "code",
   "execution_count": null,
   "metadata": {
    "collapsed": true
   },
   "outputs": [],
   "source": [
    "grader.check('q2_2')"
   ]
  },
  {
   "cell_type": "markdown",
   "metadata": {},
   "source": [
    "## 3. Creating Lists & Arrays\n"
   ]
  },
  {
   "cell_type": "markdown",
   "metadata": {},
   "source": [
    "**Question 1.** Make a **list** called `numbers` containing the following numbers (in the given order):\n",
    "\n",
    "1. -8\n",
    "2. the cosine of 4.2\n",
    "3. pi\n",
    "4. 9 to the power of the sine of 0.3\n",
    "\n",
    "*Hint:* The `math` module should be helpful here. Remember that `sin` and `cos` are functions, while `pi` is a constant in the module. If you're still stuck, check out the `math` documentation [here](https://docs.python.org/3/library/math.html).\n",
    "\n",
    "*Note:* Python lists are different (and therefore behave differently) than numpy arrays. We create lists by using [brackets], but we create arrays using a function. We will primarily use arrays throughout the term in Data 6, but knowing how to use and navigate lists is an important skill in Python."
   ]
  },
  {
   "cell_type": "code",
   "execution_count": null,
   "metadata": {
    "collapsed": true
   },
   "outputs": [],
   "source": [
    "# Our solution involved one extra line of code before creating numbers.\n",
    "\n",
    "numbers = ...\n",
    "numbers"
   ]
  },
  {
   "cell_type": "code",
   "execution_count": null,
   "metadata": {
    "collapsed": true
   },
   "outputs": [],
   "source": [
    "grader.check('q3_1')"
   ]
  },
  {
   "cell_type": "markdown",
   "metadata": {},
   "source": [
    "**Question 2.** Uh oh, we made too many numbers! We only want to include the values that we need the `math` module to create. **Use a list splice** to create a new list, containing only the cosine of 4.2, pi, and 9 to the power of the sin of 0.3, and assign it to `math_module_numbers.` Do **not** just make a new list using brackets.\n",
    "\n",
    "*Hint:* You can access values in a list by using the name of the list, followed by brackets: ex. `your_list[...]`."
   ]
  },
  {
   "cell_type": "code",
   "execution_count": null,
   "metadata": {
    "collapsed": true
   },
   "outputs": [],
   "source": [
    "math_module_numbers = ...\n",
    "math_module_numbers"
   ]
  },
  {
   "cell_type": "markdown",
   "metadata": {},
   "source": [
    "**Question 3.** Now, make an array called `go_bears` containing the following three strings: \"Go\", \"Bears\", and \"Beat Stanford!\". You'll need to use a function here."
   ]
  },
  {
   "cell_type": "code",
   "execution_count": null,
   "metadata": {
    "collapsed": true
   },
   "outputs": [],
   "source": [
    "go_bears = \n",
    "go_bears"
   ]
  },
  {
   "cell_type": "code",
   "execution_count": null,
   "metadata": {
    "collapsed": true
   },
   "outputs": [],
   "source": [
    "grader.check('q3_3')"
   ]
  },
  {
   "cell_type": "markdown",
   "metadata": {},
   "source": [
    "**Question 4.** Now, let's practice accessing values in an array. As stated before, arrays are slightly different than lists - one example is the process of extracting values from an array. We can't actually take values from an array in the same fashion as a list (try it out!).\n",
    "\n",
    "However, we can take values from an array by using `array.item()` where the argument is the index of the value we want to extract from the array. Using `array.item()` and your `go_bears` array, assign the value \"Go Bears!\" to the variable `big_game`. You'll need to use a list concatenation (i.e. \"string1\" + string2\") as well as accessing the values using array.item(). Similar to Question 2, do **not** just assign the variable to the string itself.\n",
    "\n",
    "*Note:* Extracting multiple values from a single array involves slightly more code and a separate function. If you're interested in this, ask in office hours!"
   ]
  },
  {
   "cell_type": "code",
   "execution_count": null,
   "metadata": {
    "collapsed": true
   },
   "outputs": [],
   "source": [
    "big_game =\n",
    "big_game"
   ]
  },
  {
   "cell_type": "code",
   "execution_count": null,
   "metadata": {
    "collapsed": true
   },
   "outputs": [],
   "source": [
    "grader.check('q3_4')"
   ]
  },
  {
   "cell_type": "markdown",
   "metadata": {},
   "source": [
    "Strings have a method called `join`.  `join` takes one argument, an array of strings.  It returns a single string.  Specifically, the value of `a_string.join(an_array)` is a single string that's the [concatenation](https://en.wikipedia.org/wiki/Concatenation) (\"putting together\") of all the strings in `an_array`, **except** `a_string` is inserted in between each string.\n",
    "\n",
    "In computational biology, concatenation is the process of \"attaching\" two DNA sequences to create a longer sequence. This is generally done with the sequences of multiple DNA fragments or proteins during sequence alignment to help find the relationships between organisms in creating a phylogenetic (i.e. evolutionary) tree. It is especially useful when there are missing sequences or only partial sequences available.\n",
    "\n",
    "**Question 5.** Use the array `DNA` and the method `join` to make two strings:\n",
    "\n",
    "1. \"CCATGTTATGTATGCACAAGGCGAGTTAGTACGTAGCGTGGT\" (call this one `concatenated`)\n",
    "2. \"CCATGTTATGTATGCACAAGG, CGAGTTAGTACGTAGCGTGGT\" (call this one `comma_separated`)\n",
    "\n",
    "*Hint:* If you're not sure what `join` does, first try just calling, for example,  `\"Berkeley\".join(go_bears)` ."
   ]
  },
  {
   "cell_type": "code",
   "execution_count": null,
   "metadata": {
    "collapsed": true
   },
   "outputs": [],
   "source": [
    "DNA = make_array(\"CCATGTTATGTATGCACAAGG\", \"CGAGTTAGTACGTAGCGTGGT\")\n",
    "concatenated = ...\n",
    "comma_separated = ...\n",
    "\n",
    "# These lines are provided just to print out your answers.\n",
    "print('Concatenated:', concatenated)\n",
    "print('Comma Separated:', comma_separated)"
   ]
  },
  {
   "cell_type": "code",
   "execution_count": null,
   "metadata": {
    "collapsed": true
   },
   "outputs": [],
   "source": [
    "grader.check('q3_5')"
   ]
  },
  {
   "cell_type": "markdown",
   "metadata": {},
   "source": [
    "## 4. Basic Array Arithmetic\n"
   ]
  },
  {
   "cell_type": "markdown",
   "metadata": {},
   "source": [
    "**Question 1.** Multiply the numbers 20, 2020, 202020, and -20 by 36.  For this question, **do not** use arrays."
   ]
  },
  {
   "cell_type": "code",
   "execution_count": null,
   "metadata": {
    "collapsed": true
   },
   "outputs": [],
   "source": [
    "first_product = \n",
    "second_product = \n",
    "third_product = \n",
    "fourth_product = \n",
    "print(first_product, second_product, third_product, fourth_product)"
   ]
  },
  {
   "cell_type": "code",
   "execution_count": null,
   "metadata": {
    "collapsed": true
   },
   "outputs": [],
   "source": [
    "grader.check('q4_1')"
   ]
  },
  {
   "cell_type": "markdown",
   "metadata": {},
   "source": [
    "**Question 2.** Now, do the same calculation, but using an array called `twenties` and only a single multiplication (`*`) operator.  Store the 4 results in an array named `products`."
   ]
  },
  {
   "cell_type": "code",
   "execution_count": null,
   "metadata": {
    "collapsed": true
   },
   "outputs": [],
   "source": [
    "twenties = \n",
    "products = \n",
    "products"
   ]
  },
  {
   "cell_type": "code",
   "execution_count": null,
   "metadata": {
    "collapsed": true
   },
   "outputs": [],
   "source": [
    "grader.check('q4_2')"
   ]
  },
  {
   "cell_type": "markdown",
   "metadata": {},
   "source": [
    "**Question 3.** Oops, we made a typo!  Instead of 36, we wanted to multiply each number by 365.  Compute the fixed products in the cell below using array arithmetic. Notice that your job is really easy if you previously defined an array containing the 4 numbers."
   ]
  },
  {
   "cell_type": "code",
   "execution_count": null,
   "metadata": {
    "collapsed": true
   },
   "outputs": [],
   "source": [
    "fixed_products = \n",
    "fixed_products"
   ]
  },
  {
   "cell_type": "code",
   "execution_count": null,
   "metadata": {
    "collapsed": true
   },
   "outputs": [],
   "source": [
    "grader.check('q4_3')"
   ]
  },
  {
   "cell_type": "markdown",
   "metadata": {},
   "source": [
    "**Question 4.** We've loaded an array of prices in the next cell. Each number is the actual, hourly price of electricity in Euros/Megawatt Hour in Spain for the first week in 2015. In 2015, the average conversion price of the Euro to the US Dollar was 1 Euro to 1.11 USD. Convert them all to USD by multiplying by 1.11, and then round each result to the nearest integer using the `np.round` function."
   ]
  },
  {
   "cell_type": "code",
   "execution_count": null,
   "metadata": {
    "collapsed": true
   },
   "outputs": [],
   "source": [
    "actual_prices = Table.read_table(\"spain_energy.csv\").column(\"price actual\")\n",
    "\n",
    "usd_actual_prices = \n",
    "usd_actual_prices"
   ]
  },
  {
   "cell_type": "code",
   "execution_count": null,
   "metadata": {
    "collapsed": true
   },
   "outputs": [],
   "source": [
    "grader.check('q4_4')"
   ]
  },
  {
   "cell_type": "markdown",
   "metadata": {},
   "source": [
    "**Question 5.** The cell below loads all of the predicted prices of electricity for each hour in euros. Assign price_difference to an array containing the errors in prediction - i.e. the difference between each value in the observed (`actual_prices`) and predicted (`predicted_prices`). We will calculate the error by using the observed minus the predicted values. \n",
    "\n",
    "You should follow these steps: compute the difference between `actual_prices` and `predicted_prices` for each hour, convert to USD, and then round all values using np.round.  **Make sure you do not use the rounded values from Q4.4, and that your answer is in USD!**"
   ]
  },
  {
   "cell_type": "code",
   "execution_count": null,
   "metadata": {
    "collapsed": true
   },
   "outputs": [],
   "source": [
    "predicted_prices = Table.read_table(\"spain_energy.csv\").column(\"forecasted price\")\n",
    "\n",
    "price_difference = \n",
    "\n",
    "## For your interest, this will show you the largest error in the prediction. \n",
    "# By how many dollars was the prediction off? \n",
    "print(max(price_difference))"
   ]
  },
  {
   "cell_type": "code",
   "execution_count": null,
   "metadata": {
    "collapsed": true
   },
   "outputs": [],
   "source": [
    "grader.check('q4_5')"
   ]
  },
  {
   "cell_type": "markdown",
   "metadata": {},
   "source": [
    "**Question 6.** Suppose we want to find the first 32 powers of 2, starting at 2 to the power of 1. Using the `twos` array, which is an array containing 32 twos, assign `powers_of_2` to an array containing the first 32 powers of two. For example:\n",
    "\n",
    "(2, 4, 8, 16, 32, 64, ..., 4294967296)\n",
    "\n",
    "*Hint*: Use the np.arange() function and array arithmetic between 2 arrays. You can find the power of a value by using the `**` operator (e.g. x to the power of 5 is x ** 5)."
   ]
  },
  {
   "cell_type": "code",
   "execution_count": null,
   "metadata": {
    "collapsed": true
   },
   "outputs": [],
   "source": [
    "twos = np.ones(32) * 2\n",
    "powers_of_2 = \n",
    "powers_of_2"
   ]
  },
  {
   "cell_type": "code",
   "execution_count": null,
   "metadata": {
    "collapsed": true
   },
   "outputs": [],
   "source": [
    "grader.check('q4_6')"
   ]
  },
  {
   "cell_type": "markdown",
   "metadata": {},
   "source": [
    "## 5. Unemployment\n"
   ]
  },
  {
   "cell_type": "markdown",
   "metadata": {},
   "source": [
    "The Federal Reserve Bank of St. Louis publishes data about jobs in the US.  Below, we've loaded data on the proportion of people who are considered able to work but can't find jobs. For the sake of this exercise, we will call them \"unemployed,\" though that's an oversimplification. Generally, the Bureau of Labor Statistics considers someone unemployed if that person does not have a job, has actively looked for work in the prior 4 weeks, and are currently available for work.\n",
    "\n",
    "The source of the data is [here](https://fred.stlouisfed.org/series/NEIPTERM156SFRBRIC)."
   ]
  },
  {
   "cell_type": "code",
   "execution_count": null,
   "metadata": {
    "collapsed": true
   },
   "outputs": [],
   "source": [
    "# Run this cell to load the data.  You don't need to read it.\n",
    "unemployment = Table.read_table(\"unemployment.csv\").column(\"rate\")\n",
    "unemployment"
   ]
  },
  {
   "cell_type": "markdown",
   "metadata": {},
   "source": [
    "Each number in the array `unemployment` is the unemployment rate at the start of one quarter (a 3-month period) of a year.  The first element is the unemployment rate at the start of the first quarter of 1994.\n",
    "\n",
    "**Question 1.** Let's label each number with its date.  We'll say that the first quarter of 1994 is 1994.0, the second quarter is 1994.25, the third quarter is 1994.5, and so on.  Create an array called `measurement_dates` with the dates for each number in `unemployment`.\n",
    "\n",
    "*Hint:* How long is the `unemployment` array? How many quarters are there in a year?"
   ]
  },
  {
   "cell_type": "code",
   "execution_count": null,
   "metadata": {
    "collapsed": true
   },
   "outputs": [],
   "source": [
    "measurement_dates = \n",
    "measurement_dates"
   ]
  },
  {
   "cell_type": "code",
   "execution_count": null,
   "metadata": {
    "collapsed": true
   },
   "outputs": [],
   "source": [
    "grader.check('q5_1')"
   ]
  },
  {
   "cell_type": "markdown",
   "metadata": {},
   "source": [
    "**Question 2.** What are the year and quarter of the last measurement, according to `measurement_dates`?"
   ]
  },
  {
   "cell_type": "markdown",
   "metadata": {
    "collapsed": true
   },
   "source": [
    "*Type your answer here.*"
   ]
  },
  {
   "cell_type": "markdown",
   "metadata": {},
   "source": [
    "The following cells will visualize the data and help you answer the following questions. You do not need to change anything, but you should run them."
   ]
  },
  {
   "cell_type": "code",
   "execution_count": null,
   "metadata": {
    "collapsed": true
   },
   "outputs": [],
   "source": [
    "## This graph shows unemployment rates over time. Just run this cell. \n",
    "Table.read_table(\"unemployment.csv\").with_column(\"DATE\", measurement_dates).iplot(\"DATE\", \"rate\")"
   ]
  },
  {
   "cell_type": "code",
   "execution_count": null,
   "metadata": {
    "collapsed": true
   },
   "outputs": [],
   "source": [
    "## This graph shows the change in unemployment rates over time. Just run this cell.\n",
    "Table.read_table(\"unemployment.csv\").with_column(\"DATE\", measurement_dates).exclude(0).with_column(\"differences\", np.diff(unemployment)).iplot(\"DATE\", \"differences\")"
   ]
  },
  {
   "cell_type": "markdown",
   "metadata": {},
   "source": [
    "**Question 3.** What was the biggest increase in the unemployment rate from one quarter to the next?  Calculate the answer using Python code, *not* by looking at the data yourself.  \n",
    "\n",
    "*Hint:* An increase means that if we are finding the difference between elements 1 and 2 of an array, element 2 is greater than element 1. Therefore, the difference will be positive."
   ]
  },
  {
   "cell_type": "code",
   "execution_count": null,
   "metadata": {
    "collapsed": true
   },
   "outputs": [],
   "source": [
    "biggest_increase = \n",
    "biggest_increase"
   ]
  },
  {
   "cell_type": "code",
   "execution_count": null,
   "metadata": {
    "collapsed": true
   },
   "outputs": [],
   "source": [
    "grader.check('q5_3')"
   ]
  },
  {
   "cell_type": "markdown",
   "metadata": {},
   "source": [
    "**Question 4.** In what year and quarter did that increase happen?  For this question, it's okay to look at the data yourself.  You may still want to run some code, and the cell below is provided for that.\n",
    "\n",
    "*Hint:* The function, np.argmax, takes an array of values as its argument and will return the index of the largest item."
   ]
  },
  {
   "cell_type": "markdown",
   "metadata": {},
   "source": [
    "*Type your answer here.*"
   ]
  },
  {
   "cell_type": "code",
   "execution_count": null,
   "metadata": {
    "collapsed": true,
    "for_assignment_type": "student"
   },
   "outputs": [],
   "source": [
    "### This cell is provided for your exploration. It will not be graded.\n"
   ]
  },
  {
   "cell_type": "markdown",
   "metadata": {},
   "source": [
    "**Question 5.** What was the biggest *decrease* in unemployment, and when did it happen (year and quarter)?\n",
    "\n",
    "*Hint:* What does np.argmin do? Check the numpy documentation [here](https://numpy.org/doc/stable/reference/generated/numpy.argmin.html). "
   ]
  },
  {
   "cell_type": "markdown",
   "metadata": {},
   "source": [
    "*Type your answer here.*"
   ]
  },
  {
   "cell_type": "code",
   "execution_count": null,
   "metadata": {
    "collapsed": true,
    "for_assignment_type": "student"
   },
   "outputs": [],
   "source": [
    "### This cell is provided for your exploration. It will not be graded.\n"
   ]
  },
  {
   "cell_type": "markdown",
   "metadata": {},
   "source": [
    "## 6. Differences between Universities, Part II\n"
   ]
  },
  {
   "cell_type": "markdown",
   "metadata": {},
   "source": [
    "**Question 1.** Suppose you're helping someone choose a university to attend, and again you'd like to *quantify* how *dissimilar* any two universities are.  Now that you know how to work with arrays, you decide on a very detailed list of 1000 traits, and you measure all of them!  Concretely, here are some examples of traits you could probably find data about (though the identities of the traits don't matter for this exercise):\n",
    "\n",
    "* The cost to attend (per year)\n",
    "* The average Yelp review of nearby Thai restaurants\n",
    "* The USA Today ranking of the Medical school\n",
    "* The USA Today ranking of the Engineering school\n",
    "\n",
    "With all these traits, you decide to define the dissimilarity between two universities as the *total* of the differences in their traits.  That is, this notion of dissimilarity is:\n",
    "\n",
    "* the **sum** of\n",
    "* the absolute values of\n",
    "* the 1000 differences in their trait values.\n",
    "\n",
    "In the next cell, we've loaded arrays containing the 1000 trait values for Stanford and Berkeley.  Compute the dissimilarity (according to the above method) between Stanford and Berkeley.  Call your answer `dissimilarity`.  Use a single line of code to compute the answer.\n",
    "\n",
    "*Note:* The data we're using aren't real -- we made them up for this exercise, except for the cost-of-attendance numbers, which we estimated for a student from a median-income family living in California."
   ]
  },
  {
   "cell_type": "code",
   "execution_count": null,
   "metadata": {
    "collapsed": true
   },
   "outputs": [],
   "source": [
    "stanford = Table.read_table(\"stanford.csv\").column(\"Trait value\")\n",
    "berkeley = Table.read_table(\"berkeley.csv\").column(\"Trait value\")\n",
    "\n",
    "dissimilarity = \n",
    "dissimilarity"
   ]
  },
  {
   "cell_type": "code",
   "execution_count": null,
   "metadata": {
    "collapsed": true
   },
   "outputs": [],
   "source": [
    "grader.check('q6_1')"
   ]
  },
  {
   "cell_type": "markdown",
   "metadata": {},
   "source": [
    "**Question 2.** Identify all the subexpressions in your answer to the previous question, excluding the whole expression itself.  Write each on its own line.  Before each one, write a one-line comment describing the value of the subexpression, including what type of value it is.  We've written the first one for you.  (It should appear somewhere in your answer to the previous question!)"
   ]
  },
  {
   "cell_type": "code",
   "execution_count": null,
   "metadata": {
    "collapsed": true,
    "for_assignment_type": "student"
   },
   "outputs": [],
   "source": [
    "# An array of 1000 numbers, each a different measured trait of Stanford University.\n",
    "stanford\n",
    "..."
   ]
  },
  {
   "cell_type": "markdown",
   "metadata": {},
   "source": [
    "**Question 3.** Why do we sum up the *absolute values* of the differences in trait values, rather than just summing up the differences?"
   ]
  },
  {
   "cell_type": "markdown",
   "metadata": {
    "manual_grade": true,
    "manual_problem_id": "more_universities_3"
   },
   "source": [
    "*Type your answer here.*"
   ]
  },
  {
   "cell_type": "markdown",
   "metadata": {},
   "source": [
    "##### Weighing the traits\n",
    "After computing dissimilarities between several schools, you notice a problem with your method: the scale of the traits matters a lot.\n",
    "\n",
    "Since schools cost tens of thousands of dollars to attend, the cost-to-attend trait is always a much bigger *number* than most other traits.  That makes it affect the dissimilarity a lot more than other traits.  Two schools that differ in cost-to-attend by \\$900, but are otherwise identical, get a dissimilarity of 900.  But two schools that differ in graduation rate by .9 (a huge difference!), but are otherwise identical1, get a dissimilarity of only .9.\n",
    "\n",
    "One way to fix this problem is to assign different \"weights\" to different traits.  For example, we could fix the problem above by multiplying the difference in the cost-to-attend traits by .001, so that a difference of 900 dollars in cost-to-attend results in a dissimilarity of 900 dollars times .001, or $.9$.\n",
    "\n",
    "Here's a revised method that does that for every trait:\n",
    "\n",
    "1. For each trait, subtract the two schools' trait values.\n",
    "2. Then take the absolute value of that difference.\n",
    "3. *Now multiply that absolute value by a trait-specific number, like .001 or 2.*\n",
    "4. Now sum the 1000 resulting numbers.\n",
    "\n",
    "**Question 4.** We have created an array containing a weight for each trait.  These are loaded into an array called `weights` in the cell below.  `weights.item(0)` is the weight for the first trait, `weights.item(1)` is the weight for the second trait, and so on.  Use the revised method to compute a revised dissimilarity between Berkeley and Stanford.\n",
    "\n",
    "*Hint:* Using array arithmetic, your answer should be almost as short as in question 1, with a slight change."
   ]
  },
  {
   "cell_type": "code",
   "execution_count": null,
   "metadata": {
    "collapsed": true
   },
   "outputs": [],
   "source": [
    "weights = Table.read_table(\"weights.csv\").column(\"Weight\")\n",
    "\n",
    "revised_dissimilarity = ...\n",
    "revised_dissimilarity"
   ]
  },
  {
   "cell_type": "code",
   "execution_count": null,
   "metadata": {
    "collapsed": true,
    "scrolled": true
   },
   "outputs": [],
   "source": [
    "grader.check('q6_4')"
   ]
  },
  {
   "cell_type": "markdown",
   "metadata": {},
   "source": [
    "# 7. Data Cleaning\n",
    "\n",
    "Let's practice using iteration and conditionals in the context of data cleaning. One potential issue that you may run into is incorrect data types in your dataset. For example, strings may be used instead of floats/integers or that values are in the wrong format. Before we conduct any analysis, we need to make sure our data is in a workable format before we continue. For this exercise, we've created some fake data for you to play with."
   ]
  },
  {
   "cell_type": "code",
   "execution_count": null,
   "metadata": {
    "collapsed": true
   },
   "outputs": [],
   "source": [
    "## Do NOT change this cell. Just run it.\n",
    "unclean_temps = Table().read_table(\"fake_temps.csv\")\n",
    "unclean_temps_array = unclean_temps.column(0)\n",
    "unclean_temps"
   ]
  },
  {
   "cell_type": "markdown",
   "metadata": {},
   "source": [
    "**Question 7.1** What is the data type of the values in the array? We've created the array for you, called `unclean_temps_array`. Complete the following if/else statement so we can learn what type of data the values are! Make sure to use `first_temp` to check the data types of the items. \n",
    "\n",
    "*Hint:* To Python, float, int, and str refer to the data types themselves. You can use this to confirm the type of a value. \n",
    "\n",
    "*Note:* We can use the first value to check the data types because values in an array are all the same datatype.  "
   ]
  },
  {
   "cell_type": "code",
   "execution_count": null,
   "metadata": {
    "collapsed": true
   },
   "outputs": [],
   "source": [
    "first_temp = unclean_temps_array.item(0)\n",
    "\n",
    "if ... == str:\n",
    "    print(\"The data are strings. We need to clean the data!\")\n",
    "\n",
    "elif ...:\n",
    "    print(\"The data are integers. We're okay!\")\n",
    "\n",
    "elif ...:\n",
    "    print(\"The data are floats. We're okay!\")"
   ]
  },
  {
   "cell_type": "markdown",
   "metadata": {},
   "source": [
    "**Question 7.2** It's a problem that the data are strings for our analysis, since we can't do math on the array. Let's convert the values into floats by using `float()` and a for loop. Complete the code for the for loop, using `unclean_temps_array` and `np.append` to store the new values in the array `cleaned_temps`. \n",
    "\n",
    "*Hint:* To remove a character in a string, we can use `str.replace(old_character, new_character)` where `str` is a string and `old_character` is the character we want to replace and `new_character` is the character we want to replace it with. To remove a character, we should replace it with an empty string, i.e. `\"\"`."
   ]
  },
  {
   "cell_type": "code",
   "execution_count": null,
   "metadata": {
    "collapsed": true
   },
   "outputs": [],
   "source": [
    "cleaned_temps = make_array()\n",
    "\n",
    "for ... in ...:\n",
    "    temp_no_f = ...\n",
    "    float_temp = ...\n",
    "    cleaned_temps = np.append(..., ...)\n",
    "\n",
    "cleaned_temps"
   ]
  },
  {
   "cell_type": "code",
   "execution_count": null,
   "metadata": {
    "collapsed": true
   },
   "outputs": [],
   "source": [
    "grader.check('q7_2')"
   ]
  },
  {
   "cell_type": "markdown",
   "metadata": {},
   "source": [
    "Congratulations! You've done some introductory data cleaning, converting temperature strings to floats. "
   ]
  },
  {
   "cell_type": "markdown",
   "metadata": {},
   "source": [
    "## 8. What's wrong with these bars?\n",
    "\n",
    "Below is a bar chart from a book attempting to represent race in the U.S. There are many ways in which this bar chart could be better. How would you change this this visualization if you were to remake it?\n",
    "\n",
    "Answer these questions in the cell below:\n",
    "\n",
    "1. What problems do you see with the bar chart?\n",
    "2. How do you think these problems change how the reader interprets the data being presented?\n",
    "2. What would you do to fix the chart?\n",
    "\n",
    "<img src=\"us_pop.jpg\">"
   ]
  },
  {
   "cell_type": "markdown",
   "metadata": {},
   "source": [
    "*Type your answer here, replacing this text.*\n",
    "\n",
    "\n",
    "1.\n",
    "\n",
    "2.\n",
    "\n",
    "3."
   ]
  },
  {
   "cell_type": "markdown",
   "metadata": {},
   "source": [
    "## 8. Submission\n",
    "\n",
    "To submit your homework, please download your notebook as a .ipynb file and submit to Gradescope. You can do so by navigating to the toolbar at the top of this page, clicking File > Download as... > Notebook (.ipynb). Then, go to our class's Gradescope page [here](https://www.gradescope.com/courses/136698) and upload your file under \"Homework 2\". \n",
    "\n",
    "To check your work, you may run the cell below. Remember that for homework assignments, passing the tests does not necessarily mean your answer is correct."
   ]
  },
  {
   "cell_type": "code",
   "execution_count": null,
   "metadata": {
    "collapsed": true
   },
   "outputs": [],
   "source": [
    "grader.check_all()"
   ]
  },
  {
   "cell_type": "markdown",
   "metadata": {},
   "source": [
    "## 9. OPTIONAL SECTION: Making Sounds\n"
   ]
  },
  {
   "cell_type": "markdown",
   "metadata": {},
   "source": [
    "Let's use arrays (and your computer's speakers) to generate sounds! This section will not be graded, but is an interesting application of arrays.\n",
    "\n",
    "##### Brief background on sound\n",
    "Sound happens when an object moves back-and-forth very quickly (hundreds or thousands of times per second), pushing the air around it and creating rapidly oscillating increases and decreases in that air's pressure.  These patterned disturbances in the air move outward in all directions from the object (at the \"speed of sound\").\n",
    "\n",
    "When a disturbance in the air reaches your ear, your ear detects the air pressure changing at a certain rate, and you hear a particular sound.  Which sound you hear depends on how quickly the pressure goes up and down.  Simple, repeated oscillations sound like single musical *notes* to humans.  If the pressure goes up and down 220 times per second, you hear a note musicians call \"A below middle C\".\n",
    "\n",
    "Note that the changes in air pressure that your brain interprets as sound are very *small* and *fast* relative to the kinds of pressure you can feel, say, on your skin.  Ears are sensitive, specialized instruments for detecting small, fast oscillations in pressure."
   ]
  },
  {
   "cell_type": "markdown",
   "metadata": {},
   "source": [
    "##### Simulating the pressure pattern of a sound\n",
    "Let's generate A below middle C for 3 seconds.\n",
    "\n",
    "To generate a sound, then, we have to simulate patterns of pressure levels that would cause you to hear that sound.  Computer speakers take instructions like \"make the pressure X at time Y,\" so we will to calculate those pressures.\n",
    "\n",
    "First, notice that we can't calculate the pressure at every point in time, because there are infinitely many points in time!\n",
    "\n",
    "Instead, we'll just pick a bunch of points in time, and find out the pressure on your ear at those snapshots in time.  These snapshots are called *frames*.  In a video, a sequence of still pictures creates the illusion of continuous movement.  In the same way, your brain interprets a quick sequence of different pressures as a continuous sound.\n",
    "\n",
    "Let's say we'll use 44100 of these frames (points in time where we figure out the pressure) per second.  First we'll compute all the times where we need a frame.\n",
    "\n",
    "**Question 1.** Create an array called `frame_times`.  It should contain the frame times for the 3-second period.  That is, it should start with 0, then $1/44100$, then $2/44100$, and so on, ending just before $3$."
   ]
  },
  {
   "cell_type": "code",
   "execution_count": null,
   "metadata": {
    "collapsed": true
   },
   "outputs": [],
   "source": [
    "# You'll find these names useful.\n",
    "FRAMES_PER_SECOND = 44100\n",
    "SOUND_DURATION = 3\n",
    "\n",
    "frame_times = \n",
    "frame_times"
   ]
  },
  {
   "cell_type": "code",
   "execution_count": null,
   "metadata": {
    "collapsed": true
   },
   "outputs": [],
   "source": [
    "grader.check('q9_1')"
   ]
  },
  {
   "cell_type": "markdown",
   "metadata": {},
   "source": [
    "Now we need a way to synthesize air pressure numbers that go up and down 220 times per second.  It's customary to use the `sine` function to do that, since it's a nice function that oscillates.  For a sound that oscillates 220 times per second, the pressure at time $t$ is:\n",
    "\n",
    "$$\\text{Pressure at time }t = \\texttt{sin}(2 \\times \\pi \\times 220 \\times t)$$\n",
    "\n",
    "The function `np.sin` takes as its argument an array of times and returns an array that's the `sine` of each of those times.  For example,\n",
    "\n",
    "    np.sin(make_array(0, 1, 2))\n",
    "\n",
    "is the same as\n",
    "    \n",
    "    make_array(math.sin(0), math.sin(1), math.sin(2))\n",
    "\n",
    "**Question 2.** Use `np.sin`, array arithmetic, and the `frame_times` array you generated above to generate the pressure on your ear at each frame."
   ]
  },
  {
   "cell_type": "code",
   "execution_count": null,
   "metadata": {
    "collapsed": true
   },
   "outputs": [],
   "source": [
    "A_FREQUENCY = 220\n",
    "a_pressures = \n",
    "a_pressures"
   ]
  },
  {
   "cell_type": "code",
   "execution_count": null,
   "metadata": {
    "collapsed": true
   },
   "outputs": [],
   "source": [
    "grader.check('q9_2')"
   ]
  },
  {
   "cell_type": "markdown",
   "metadata": {},
   "source": [
    "Here's a graph of 1000 frames of the data you generated, lasting around .025 seconds:"
   ]
  },
  {
   "cell_type": "code",
   "execution_count": null,
   "metadata": {
    "collapsed": true
   },
   "outputs": [],
   "source": [
    "# Just run this cell.  It uses some programming concepts you'll see in the next few weeks.\n",
    "\n",
    "%matplotlib inline\n",
    "import matplotlib.pyplot as plt\n",
    "plt.style.use('fivethirtyeight')\n",
    "\n",
    "Table().with_columns(\"Frame time (s)\", frame_times, \"Pressure on ear\", a_pressures).take(range(1000)).plot(0)\n",
    "plt.ylim(-1.2, 1.2)\n",
    "_ = plt.title(\"Pressure on ear over time (A below middle C)\")"
   ]
  },
  {
   "cell_type": "markdown",
   "metadata": {},
   "source": [
    "The peaks represent points in time when the pressure on your ear was high, and the troughs represent points in time when it was low.\n",
    "\n",
    "##### Turning it into sounds\n",
    "The function `Audio` (in the `IPython.display` module) takes pressure data and passes it to your computer's speakers to produce.  The speakers move rapidly (220 times per second, in this case), producing pressure changes in the air, and your ears interpret these as sound.\n",
    "\n",
    "`Audio` takes two arguments.  The first is an array containing the pressures you want to generate, like your `a_pressures` array.  The second is the number of frames per second the data were taken at.  This argument is a *named* argument, which means you have to write `rate=` before it, like this:\n",
    "\n",
    "    Audio(make_array(0, 1, 2), rate=120)\n",
    "\n",
    "`Audio` returns an object that represents the sound it will play.  If it's the value of the last line in a cell, it will play when you run that cell.\n",
    "\n",
    "**Question 3.** Import and call `Audio` to make a sound from your data.  Call it `a_below_middle_c`."
   ]
  },
  {
   "cell_type": "code",
   "execution_count": null,
   "metadata": {
    "collapsed": true
   },
   "outputs": [],
   "source": [
    "# Warning: When you fill out this cell correctly, running it will cause a sound to play!\n",
    "\n",
    "a_below_middle_c = \n",
    "a_below_middle_c"
   ]
  },
  {
   "cell_type": "code",
   "execution_count": null,
   "metadata": {
    "collapsed": true
   },
   "outputs": [],
   "source": [
    "grader.check('q9_3')"
   ]
  },
  {
   "cell_type": "markdown",
   "metadata": {},
   "source": [
    "##### Richer sounds\n",
    "When two things make sounds at once, the pressures they put on your ear just add together.  So to play two sounds at once, we just *add their pressure values* at each frame.\n",
    "\n",
    "**Question 4.** Create the pressure data for a sound that oscillates 277 times per second, calling it `c_sharp_pressures`, and a sound that oscillates 330 times per second, calling it `e_pressures`.  Add both of those arrays to `a_pressures`, producing an array called `chord_pressures`.  Then create a sound from that data, called `chord_sound`, and play it.  It's called an A-major chord."
   ]
  },
  {
   "cell_type": "code",
   "execution_count": null,
   "metadata": {
    "collapsed": true
   },
   "outputs": [],
   "source": [
    "C_SHARP_FREQUENCY = 277\n",
    "c_sharp_pressures = \n",
    "E_FREQUENCY = 330\n",
    "e_pressures = \n",
    "chord_pressures = \n",
    "chord_sound = \n",
    "chord_sound"
   ]
  },
  {
   "cell_type": "code",
   "execution_count": null,
   "metadata": {
    "collapsed": true
   },
   "outputs": [],
   "source": [
    "grader.check('q9_4')"
   ]
  },
  {
   "cell_type": "markdown",
   "metadata": {},
   "source": [
    "For a challenge, try changing the amount of pressure over time so you hear the volume increase over the 3-second period.  You can also change the rate of oscillations over time to change the notes you hear.  Real-world sounds, like human speech, are just combinations of many pitches that change very quickly."
   ]
  }
 ],
 "metadata": {
  "kernelspec": {
   "display_name": "Python 3",
   "language": "python",
   "name": "python3"
  },
  "language_info": {
   "codemirror_mode": {
    "name": "ipython",
    "version": 3
   },
   "file_extension": ".py",
   "mimetype": "text/x-python",
   "name": "python",
   "nbconvert_exporter": "python",
   "pygments_lexer": "ipython3",
   "version": "3.6.1"
  }
 },
 "nbformat": 4,
 "nbformat_minor": 4
}
