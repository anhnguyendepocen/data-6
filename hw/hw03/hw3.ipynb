{
 "cells": [
  {
   "cell_type": "markdown",
   "metadata": {},
   "source": [
    "# Homework 3: Distributions and Tables"
   ]
  },
  {
   "cell_type": "markdown",
   "metadata": {},
   "source": [
    "Please complete this notebook by filling in the cells provided. Before you begin, execute the following provided tests."
   ]
  },
  {
   "cell_type": "code",
   "execution_count": null,
   "metadata": {
    "collapsed": true
   },
   "outputs": [],
   "source": [
    "# Don't change this cell; just run it.\n",
    "from datascience import *\n",
    "import numpy as np\n",
    "import pandas as pd\n",
    "\n",
    "%matplotlib inline\n",
    "import matplotlib.pyplot as plt\n",
    "plt.style.use('fivethirtyeight')\n",
    "Table.interactive_plots()\n",
    "\n",
    "import otter\n",
    "grader = otter.Notebook()"
   ]
  },
  {
   "cell_type": "markdown",
   "metadata": {},
   "source": [
    "**Reading:** \n",
    "- Textbook chapter [5](https://data-8r.gitbooks.io/textbook/chapters/05/visualizing-distributions.html)\n",
    "\n",
    "Deadline:\n",
    "\n",
    "This assignment is due **Wednesday, July 29 at 11:59PM** on Gradescope. You will receive an early submission bonus point if you turn in your final submission by **Tuesday, July 28 at 11:59 PM**. Late work will not be accepted unless you have made special arrangements with your (u)GSI or the instructor.\n",
    "\n",
    "Directly sharing answers is not okay, but discussing problems with the course staff or with other students is encouraged. \n",
    "\n",
    "You should start early so that you have time to get help if you're stuck. Drop-in office hours will be held at various times in the week; check the bCourses page for the latest schedule."
   ]
  },
  {
   "cell_type": "markdown",
   "metadata": {},
   "source": [
    "## 1. Political Campaigning"
   ]
  },
  {
   "cell_type": "markdown",
   "metadata": {},
   "source": [
    "The modern political campaign is built on data, such as voter histories and geographic and demographic information. Campaign managers tend to base their strategies on past elections; save for a few exceptions, an area's past voting history is generally a strong predictor for how that area will vote in a future election. Using a data-based strategy is especially important when a campaign decides how to allocate its resources: staffing, advertising dollars, get-out-the-vote efforts, and more.\n",
    "\n",
    "The Commonwealth of Pennsylvania was considered a \"Blue Wall\" state from 1992 to 2012, meaning that the state consistently voted for Democrats for President. This changed in 2016, when the Republican candidate, Donald Trump, won the state by a narrow margin. With this change, Pennsylvania is now considered a significant swing state for the 2020 election. If you ran a campaign in this state, where would you focus your efforts based on the data?\n",
    "\n",
    "*Note:* To analyze the state of Pennsylvania, we will be using Media Markets to determine geographic locations instead of counties or other regions. This is because Media Markets are how broadcast television and media are distributed within a state, which makes it easier for us to target larger audiences. If you are interested, there are ways to target smaller groups (called \"microtargeting\") via social media which involves much more complex data science techniques that you may learn in the future."
   ]
  },
  {
   "cell_type": "code",
   "execution_count": null,
   "metadata": {
    "collapsed": true
   },
   "outputs": [],
   "source": [
    "### The following table contains voting data by media market for the 2012 and 2016 Presidential elections\n",
    "## in the Commonwealth of Pennsylvania, using data from the state.\n",
    "# You only need to run the next three cells; do not change any code.\n",
    "pa_votes = Table().read_table(\"pa_voting.csv\")\n",
    "pa_votes.show(5)"
   ]
  },
  {
   "cell_type": "code",
   "execution_count": null,
   "metadata": {
    "collapsed": true
   },
   "outputs": [],
   "source": [
    "### This cell will print the graph for the 2012 Presidential campaign with Barack Obama (D) versus Mitt Romney (R).\n",
    "pa_votes.where(\"Election\", \"2012 Presidential\").select(0, 2, 3).barh(\"Media Market\")"
   ]
  },
  {
   "cell_type": "code",
   "execution_count": null,
   "metadata": {
    "collapsed": true
   },
   "outputs": [],
   "source": [
    "### This cell will print the graph for the 2016 Presidential campaign with Hillary Clinton (D) versus Donald Trump (R).\n",
    "pa_votes.where(\"Election\", \"2016 Presidential\").select(0, 2, 3).barh(\"Media Market\")"
   ]
  },
  {
   "cell_type": "markdown",
   "metadata": {},
   "source": [
    "**Question 1**: What Media Market did the Democratic Party win with the largest proportion in both elections? What Media Market did the Republican Party win in both elections with the largest proportion?"
   ]
  },
  {
   "cell_type": "markdown",
   "metadata": {},
   "source": [
    "**Type your answer here.**"
   ]
  },
  {
   "cell_type": "markdown",
   "metadata": {},
   "source": [
    "**Question 2:** What Media Market has had the tightest race (i.e. smallest difference in proportions between the Republican and Democratic candidates) for both 2012 and 2016?"
   ]
  },
  {
   "cell_type": "markdown",
   "metadata": {},
   "source": [
    "**Type your answer here.**"
   ]
  },
  {
   "cell_type": "markdown",
   "metadata": {},
   "source": [
    "**Question 3:** One Media Market \"flipped\" (voted for different parties) in the 2012 and 2016 elections. What Media Market did so? Describe a possible reason why voters in this market changed their minds. \n",
    "\n",
    "*Hint*: If you're struggling trying to find a possible reason why, read [this article](https://www.nytimes.com/2016/11/13/us/politics/pennsylvania-trump-votes.html) by the New York Times. "
   ]
  },
  {
   "cell_type": "markdown",
   "metadata": {},
   "source": [
    "**Type your answer here.**"
   ]
  },
  {
   "cell_type": "markdown",
   "metadata": {},
   "source": [
    "**Question 4:** Imagine you are now a campaign media manager for a political party (Democrat or Republican) in the State of Pennsylvania. Given the data in these graphs, what Media Market would you allocate the most resources to? Why?"
   ]
  },
  {
   "cell_type": "markdown",
   "metadata": {},
   "source": [
    "**Type your answer here.**"
   ]
  },
  {
   "cell_type": "markdown",
   "metadata": {},
   "source": [
    "## 2. Presidential Tables I: California Votes"
   ]
  },
  {
   "cell_type": "markdown",
   "metadata": {},
   "source": [
    "*Note:* If you ever need to reference the documentation for a method or function we use in this course, check out the Data 8 Python Reference Sheet [here](http://data8.org/su20/python-reference.html). We will not use all of the tools listed on the page this term, but we will use many of them."
   ]
  },
  {
   "cell_type": "markdown",
   "metadata": {},
   "source": [
    "**Question 1.** In 2016, there were 5 main Presidential candidates:  Donald Trump, Hillary Clinton, Jill Stein, Gloria La Riva, and Gary Johnson. In California, Trump received 4483810 votes, Clinton received 8753788 votes, Stein received 278657 votes, La Riva received 66101 votes, and Johnson received 478500 votes.\n",
    "\n",
    "Create a table using `datascience` that contains all of this information. It should have two columns: \"candidates\" and \"votes\" with the name `ca_presidential` and look like this table (but with the candidates from above in the same order).\n",
    "\n",
    "| candidates       | votes       |\n",
    "| -----------     | ----------- |\n",
    "| donald trump    | 4483810       |\n",
    "| hillary clinton | 8753788        |\n",
    "\n",
    "**Note:** Use lower-case for the name for each candidate, like \"hillary clinton.\""
   ]
  },
  {
   "cell_type": "code",
   "execution_count": null,
   "metadata": {
    "collapsed": true,
    "scrolled": true
   },
   "outputs": [],
   "source": [
    "ca_presidential = \n",
    "ca_presidential"
   ]
  },
  {
   "cell_type": "code",
   "execution_count": null,
   "metadata": {
    "collapsed": true
   },
   "outputs": [],
   "source": [
    "grader.check('q2_1')"
   ]
  },
  {
   "cell_type": "markdown",
   "metadata": {},
   "source": [
    "**Question 2.** Using table methods and the `ca_presidential` table, create a new table named `ca_candidates`. This new table should contain only the top 3 candidates who received the most votes in California (Trump, Clinton, and Johnson in that order).\n",
    "\n",
    "*Hint:* You may need to use a method that references these rows by their index or filters a table by a certain condition."
   ]
  },
  {
   "cell_type": "code",
   "execution_count": null,
   "metadata": {
    "collapsed": true
   },
   "outputs": [],
   "source": [
    "ca_candidates = \n",
    "ca_candidates"
   ]
  },
  {
   "cell_type": "code",
   "execution_count": null,
   "metadata": {
    "collapsed": true
   },
   "outputs": [],
   "source": [
    "grader.check('q2_2')"
   ]
  },
  {
   "cell_type": "markdown",
   "metadata": {},
   "source": [
    "**Question 3.** Let's do a bit more reformatting to make the table more readable. Using `ca_candidates,` create a table called `ca_candidates_final` that renames the \"candidates\" column to \"Electoral Candidates\" and \"votes\" column to \"Total Votes.\""
   ]
  },
  {
   "cell_type": "code",
   "execution_count": null,
   "metadata": {
    "collapsed": true
   },
   "outputs": [],
   "source": [
    "ca_candidates_final = \n",
    "ca_candidates_final"
   ]
  },
  {
   "cell_type": "code",
   "execution_count": null,
   "metadata": {
    "collapsed": true
   },
   "outputs": [],
   "source": [
    "grader.check('q2_3')"
   ]
  },
  {
   "cell_type": "markdown",
   "metadata": {},
   "source": [
    "## 3. Presidential Tables II: 1976-2016"
   ]
  },
  {
   "cell_type": "markdown",
   "metadata": {},
   "source": [
    "**Question 1.** The file `1976-2016-president.csv` contains information about the presidential candidates from 1976 to 2016.  Load it as a table named `president`. \n",
    "\n",
    "Confused about some of the column names or values within the table? Read the data dictionary/codebook [here](https://drive.google.com/file/d/1zXKyX_LT4O3w6SpsiPMVPcruahXw8il7/view?usp=sharing)."
   ]
  },
  {
   "cell_type": "code",
   "execution_count": null,
   "metadata": {
    "collapsed": true
   },
   "outputs": [],
   "source": [
    "president = \n",
    "president.show(10)"
   ]
  },
  {
   "cell_type": "markdown",
   "metadata": {},
   "source": [
    "**Question 2.** Does each row contain a different candidate? Set `all_different` to the boolean value True if each row contains a different candidate or to False if multiple rows contain the same candidate."
   ]
  },
  {
   "cell_type": "code",
   "execution_count": null,
   "metadata": {
    "collapsed": true
   },
   "outputs": [],
   "source": [
    "all_different = "
   ]
  },
  {
   "cell_type": "code",
   "execution_count": null,
   "metadata": {
    "collapsed": true
   },
   "outputs": [],
   "source": [
    "grader.check('q3_2')"
   ]
  },
  {
   "cell_type": "markdown",
   "metadata": {},
   "source": [
    "**Question 3.** There is a column called \"state_cen\" that contains some cryptic numbers. What do these values represent, according to the [codebook](https://drive.google.com/file/d/1zXKyX_LT4O3w6SpsiPMVPcruahXw8il7/view?usp=sharing)?\n",
    "\n",
    "*Note:* Whenever you begin analysis on a dataset, it's always good practice to read the documentation associated with the dataset to confirm what each column and value represents."
   ]
  },
  {
   "cell_type": "markdown",
   "metadata": {},
   "source": [
    "**Type your answer here.**"
   ]
  },
  {
   "cell_type": "markdown",
   "metadata": {},
   "source": [
    "**Question 4.** Using the `president` table you created in Question 2, make a new table called `hrc_votes` that only contains rows for the candidate \"Clinton, Hillary.\"\n",
    "\n",
    "*Hint:* What `tbl.where` predicate (are.___ ) should you use?"
   ]
  },
  {
   "cell_type": "code",
   "execution_count": null,
   "metadata": {
    "collapsed": true,
    "scrolled": true
   },
   "outputs": [],
   "source": [
    "hrc_votes = \n",
    "hrc_votes"
   ]
  },
  {
   "cell_type": "code",
   "execution_count": null,
   "metadata": {
    "collapsed": true
   },
   "outputs": [],
   "source": [
    "grader.check('q3_4')"
   ]
  },
  {
   "cell_type": "markdown",
   "metadata": {},
   "source": [
    "**Question 5.** How many votes did Hillary Clinton receive, from all states, in total? Set `votes_for_clinton` to an integer corresponding to the total amount of votes Hillary Clinton received. \n",
    "\n",
    "*Hint:* Your answer should involve an array calculation."
   ]
  },
  {
   "cell_type": "code",
   "execution_count": null,
   "metadata": {
    "collapsed": true
   },
   "outputs": [],
   "source": [
    "votes_for_clinton = \n",
    "votes_for_clinton"
   ]
  },
  {
   "cell_type": "code",
   "execution_count": null,
   "metadata": {
    "collapsed": true
   },
   "outputs": [],
   "source": [
    "grader.check('q3_5')"
   ]
  },
  {
   "cell_type": "markdown",
   "metadata": {},
   "source": [
    "**Question 6.** What is the proportion of votes Hillary Clinton received as a candidate over the total number of votes in each specific state and territory? Set `prop_votes` to an array of proportions."
   ]
  },
  {
   "cell_type": "code",
   "execution_count": null,
   "metadata": {
    "collapsed": true,
    "scrolled": true
   },
   "outputs": [],
   "source": [
    "prop_votes = \n",
    "prop_votes"
   ]
  },
  {
   "cell_type": "markdown",
   "metadata": {},
   "source": [
    "Notice that the the proportions of votes have several numbers to the right side of the decimal. They are currently in scientific notation (e-01 means x10^-1, so move one decimal point to the left). To make values more readable, we will round the proportions to integer values. The following function, `np.round,` will go through each element of `prop_votes` array and round the value to the decimal values specified, which in this case, goes to the hundredths.\n",
    "\n",
    "Just run the cell below."
   ]
  },
  {
   "cell_type": "code",
   "execution_count": null,
   "metadata": {
    "collapsed": true
   },
   "outputs": [],
   "source": [
    "## Just run this cell. \n",
    "prop_votes_rounded = np.round(prop_votes, 2)\n",
    "prop_votes_rounded"
   ]
  },
  {
   "cell_type": "code",
   "execution_count": null,
   "metadata": {
    "collapsed": true
   },
   "outputs": [],
   "source": [
    "grader.check('q3_6')"
   ]
  },
  {
   "cell_type": "markdown",
   "metadata": {},
   "source": [
    "**Question 7.** Now, let's learn more about the dataset as a whole. You may have noticed that each state varies in the number of candidates the residents have voted for. \n",
    "\n",
    "How many total candidates did each state vote for in the elections between 1976 to 2016? Using the `president` table, make a new table called `cand_per_state` with one row per state and 2 columns: \"state\" and \"number of candidates,\" which contain the state name and the number of candidates the state voted for from 1976 to 2016, respectively.\n"
   ]
  },
  {
   "cell_type": "code",
   "execution_count": null,
   "metadata": {
    "collapsed": true
   },
   "outputs": [],
   "source": [
    "cand_per_state = \n",
    "cand_per_state"
   ]
  },
  {
   "cell_type": "code",
   "execution_count": null,
   "metadata": {
    "collapsed": true
   },
   "outputs": [],
   "source": [
    "grader.check('q3_7')"
   ]
  },
  {
   "cell_type": "markdown",
   "metadata": {},
   "source": [
    "**Question 8.** Using `cand_per_state`, make a bar chart comparing each state and the number of presidential candidates who received votes from that state. Sort the bars from shortest to longest.\n",
    "\n",
    "Since we are graphing 50 states + DC, the resulting chart will be large and may take a second to load."
   ]
  },
  {
   "cell_type": "code",
   "execution_count": null,
   "metadata": {
    "collapsed": true
   },
   "outputs": [],
   "source": [
    "..."
   ]
  },
  {
   "cell_type": "markdown",
   "metadata": {},
   "source": [
    "## 4. Presidential Tables III: Political Parties"
   ]
  },
  {
   "cell_type": "markdown",
   "metadata": {},
   "source": [
    "In this section, we will continue to use the data from the 1976-2016 presidential elections (the `president` table). We will use it in this section to learn more about the political parties."
   ]
  },
  {
   "cell_type": "markdown",
   "metadata": {},
   "source": [
    "**Question 1.** Make a table of all unique political parties that presidential candidates associate with. Call it `parties`. It should have one row per party and 2 columns: \"party\" (the name of the political party) and \"# of times\" (the number of times a that party is associated with a unique candidate)."
   ]
  },
  {
   "cell_type": "code",
   "execution_count": null,
   "metadata": {
    "collapsed": true
   },
   "outputs": [],
   "source": [
    "parties = \n",
    "parties"
   ]
  },
  {
   "cell_type": "code",
   "execution_count": null,
   "metadata": {
    "collapsed": true
   },
   "outputs": [],
   "source": [
    "grader.check('q4_1')"
   ]
  },
  {
   "cell_type": "markdown",
   "metadata": {},
   "source": [
    "**Question 2:** It wouldn't be a good idea to make a bar chart of that data (don't try it!). Why would this not make a good visualization, given the data we have now?"
   ]
  },
  {
   "cell_type": "markdown",
   "metadata": {},
   "source": [
    "**Type your answer here.**"
   ]
  },
  {
   "cell_type": "markdown",
   "metadata": {},
   "source": [
    "**Question 3:** Let's improve the table to make it a bit better to visualize. Make a bar chart of only the top 10 parties that were associated with a unique candidate from 1976 to 2016 the most. \n",
    "\n",
    "*Hint:* This is a multi-step problem. What steps do we need to take, and in what order, to create this visualization?\n",
    "\n",
    "*Note:* The \"nan\" value refers to \"Not a Number.\" This is generally a placeholder for individuals that do not have a value in the dataset. This is also known as a null value."
   ]
  },
  {
   "cell_type": "code",
   "execution_count": null,
   "metadata": {
    "collapsed": true
   },
   "outputs": [],
   "source": [
    "..."
   ]
  },
  {
   "cell_type": "markdown",
   "metadata": {},
   "source": [
    "**Question 4:** The following line plot is generated using the `president` table. We've left it intentionally vague. You don't need to understand all of the code in the cell below, but you should be able to understand what is being shown based on the information provided. If you're having trouble, try to break the table down into its separate methods and view the table before it is plotted.\n",
    "\n",
    "Write an appropriate title and labels for the axes, based on the information being shown."
   ]
  },
  {
   "cell_type": "code",
   "execution_count": null,
   "metadata": {
    "collapsed": true
   },
   "outputs": [],
   "source": [
    "## Just run this cell.\n",
    "president.pivot(\"party\", \"year\", \"candidatevotes\", sum).select(\"republican\", \"democrat\")\\\n",
    ".with_column(\"Year\", np.arange(1976, 2020, 4)).plot(\"Year\")"
   ]
  },
  {
   "cell_type": "markdown",
   "metadata": {},
   "source": [
    "**Title:** ...\n",
    "\n",
    "**X-Axis:** ...\n",
    "\n",
    "**Y-Axis:** ..."
   ]
  },
  {
   "cell_type": "markdown",
   "metadata": {},
   "source": [
    "## 5. Ages of Congress"
   ]
  },
  {
   "cell_type": "markdown",
   "metadata": {},
   "source": [
    "For the following section, we will analyze the ages of all of the members of Congress from 1977 to 2014. The dataset comes from [FiveThirtyEight](https://datahub.io/five-thirty-eight/congress-age).\n",
    "\n",
    "One current hypothesis is that age is becoming increasingly related to party affiliation; younger voters, especially millenials tend to lean much more towards the Democratic party, than the Republican party. However, is this trend reflected in Congress? We'll use histograms to find out. "
   ]
  },
  {
   "cell_type": "code",
   "execution_count": null,
   "metadata": {
    "collapsed": true
   },
   "outputs": [],
   "source": [
    "## Just run this cell.\n",
    "congress_ages = Table().read_table(\"congress-age.csv\")\n",
    "congress_ages"
   ]
  },
  {
   "cell_type": "code",
   "execution_count": null,
   "metadata": {
    "collapsed": true
   },
   "outputs": [],
   "source": [
    "## Just run this cell.\n",
    "print(\"The average age of a Democratic Member of Congress is\", np.mean(congress_ages.where(\"party\", \"d\").column(\"age\")), \"years.\")\n",
    "congress_ages.where(\"party\", \"d\").hist(\"age\", bins = np.arange(25, 100, 5))"
   ]
  },
  {
   "cell_type": "code",
   "execution_count": null,
   "metadata": {
    "collapsed": true
   },
   "outputs": [],
   "source": [
    "## Just run this cell. \n",
    "print(\"The average age of a Republican Member of Congress is\", np.mean(congress_ages.where(\"party\", \"r\").column(\"age\")), \"years.\")\n",
    "congress_ages.where(\"party\", \"r\").hist(\"age\", bins = np.arange(25, 100, 5))"
   ]
  },
  {
   "cell_type": "markdown",
   "metadata": {},
   "source": [
    "**Question 1.** Do these charts use frequency (count) scale or density scales? How do you know?"
   ]
  },
  {
   "cell_type": "markdown",
   "metadata": {},
   "source": [
    "**Type your answer here.**"
   ]
  },
  {
   "cell_type": "markdown",
   "metadata": {},
   "source": [
    "For the next set of questions, the bins are in sets of 5, starting at 20 and ending at 100. For example, the first bin is [20 - 25), [25 - 30), and so forth.\n",
    "\n",
    "There are also 5568 Democratic members of Congress and 4763 Republican members of Congress represented in this dataset. \n",
    "\n",
    "You should estimate the height of the bars to the closest tenth of a decimal place (e.g. 1, 1.5, 2)."
   ]
  },
  {
   "cell_type": "markdown",
   "metadata": {},
   "source": [
    "**Question 2.** What percent of Democratic members of Congress in this dataset are aged between 45 and 50 years old? Show your work, and if there is not enough information to answer this question, explain why below. "
   ]
  },
  {
   "cell_type": "markdown",
   "metadata": {},
   "source": [
    "**Type your answer here.**"
   ]
  },
  {
   "cell_type": "markdown",
   "metadata": {},
   "source": [
    "**Question 3.** How many Republican members of Congress are aged 60 to 70 years old? Show your work, and if there is not enough information to answer this question, explain why below. "
   ]
  },
  {
   "cell_type": "markdown",
   "metadata": {},
   "source": [
    "**Type your answer here.**"
   ]
  },
  {
   "cell_type": "markdown",
   "metadata": {},
   "source": [
    "**Question 4.** What percent of Republican members of Congress are aged 50 to 54 years old? Show your work, and if there is not enough information to answer this question, explain why below. "
   ]
  },
  {
   "cell_type": "markdown",
   "metadata": {},
   "source": [
    "**Type your answer here.**"
   ]
  },
  {
   "cell_type": "markdown",
   "metadata": {},
   "source": [
    "## 6. Submission\n",
    "\n",
    "To submit your homework, please download your notebook as a .ipynb file and submit to Gradescope. You can do so by navigating to the toolbar at the top of this page, clicking File > Download as... > Notebook (.ipynb). Then, go to our class's Gradescope page [here](https://www.gradescope.com/courses/136698) and upload your file under \"Homework 3\". \n",
    "\n",
    "To check your work, you may run the cell below. Remember that for homework assignments, passing the tests does not necessarily mean your answer is correct."
   ]
  },
  {
   "cell_type": "code",
   "execution_count": null,
   "metadata": {
    "collapsed": true
   },
   "outputs": [],
   "source": [
    "grader.check_all()"
   ]
  }
 ],
 "metadata": {
  "kernelspec": {
   "display_name": "Python 3",
   "language": "python",
   "name": "python3"
  },
  "language_info": {
   "codemirror_mode": {
    "name": "ipython",
    "version": 3
   },
   "file_extension": ".py",
   "mimetype": "text/x-python",
   "name": "python",
   "nbconvert_exporter": "python",
   "pygments_lexer": "ipython3",
   "version": "3.6.1"
  }
 },
 "nbformat": 4,
 "nbformat_minor": 4
}
