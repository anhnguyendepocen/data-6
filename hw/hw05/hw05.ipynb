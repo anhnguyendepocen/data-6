{
 "cells": [
  {
   "cell_type": "markdown",
   "metadata": {},
   "source": [
    "# Homework 5: Maps, Hypothesis Testing, and Sampling\n",
    "\n",
    "Welcome to the last homework assignment!\n",
    "\n",
    "Please complete this notebook by filling in the cells provided. Before you begin, execute the following cell to load the provided tests."
   ]
  },
  {
   "cell_type": "code",
   "execution_count": null,
   "metadata": {},
   "outputs": [],
   "source": [
    "# Don't change this cell; just run it. \n",
    "import datascience \n",
    "import pandas as pd \n",
    "import numpy as np\n",
    "from datascience import Table\n",
    "from datascience import *\n",
    "import matplotlib\n",
    "import matplotlib.pyplot as plots\n",
    "\n",
    "%matplotlib inline\n",
    "import matplotlib.pyplot as plt\n",
    "import numpy as np\n",
    "plt.style.use('fivethirtyeight')\n",
    "Table.interactive_plots()\n",
    "\n",
    "import otter\n",
    "grader = otter.Notebook()"
   ]
  },
  {
   "cell_type": "markdown",
   "metadata": {},
   "source": [
    "Reading:\n",
    "- Textbook section [7.3](https://data-8r.gitbooks.io/textbook/chapters/07/3/example-bike-sharing-in-the-bay-area.html) and chapter [8](https://data-8r.gitbooks.io/textbook/chapters/08/randomness.html)\n",
    "\n",
    "Deadline:\n",
    "\n",
    "This assignment is due **Wednesday, August 12 at 11:59PM**. You will receive an early submission bonus point if you turn in your final submission by **Tuesday, August 11 at 11:59PM**. Late work will not be accepted unless you have made special arrangements with your (u)GSI or the instructor.\n",
    "\n",
    "Directly sharing answers is not okay, but discussing problems with the course staff or with other students is encouraged. \n",
    "\n",
    "You should start early so that you have time to get help if you're stuck. Drop-in office hours will be held at various times in the week; check bCourses for the latest schedule."
   ]
  },
  {
   "cell_type": "markdown",
   "metadata": {},
   "source": [
    "## 1. Homelessness in Oakland"
   ]
  },
  {
   "cell_type": "markdown",
   "metadata": {},
   "source": [
    "In this exercise, you will get to practice your new skills using the `map_table` visualization tool.\n",
    "\n",
    "In the United States, homelessness is defined by the McKinney-Vento Homeless Assistance Act as the condition where people lack \"a fixed, regular, and adequate nighttime residence.\" This issue is a significant public health, economic, and moral problem, as many individuals without a home suffer from mental disorders, disabilities, lack of access to healthcare, addiction, poverty, and much more. In the Bay Area, homelessness is among the worst in the United States, exacerbated by the local economy and housing crisis. \n",
    "\n",
    "In this section, we will focus on the encampments within the City of Oakland. Encampments are makeshift dwellings, such as tent cities, that vary in size; these only make up a small proportion of the homeless population, but are important due to their unhealthy conditions and victimization of chronically homeless individuals. \n",
    "\n",
    "In 2019, the City of Oakland had a homelessness rate of 940 per 100,000 people. This [investigative piece](https://www.nytimes.com/interactive/2019/12/17/us/oakland-california-homeless-camp.html) by the New York Times about homeless encampments in Oakland shows the struggle and living conditions many homeless people face within the area. The data comes from the City of Oakland Public Works/Department of Transportation [here](https://data.oaklandnet.com/Infrastructure/Homeless-Encampment-service-requests-received-by-t/6mcd-dn3t). \n",
    "\n",
    "**Question 1.** The dataset is in a file called `encampments.csv`.  Load it into a table named `encampments` (it may take a second to load due to the large size of the dataset). "
   ]
  },
  {
   "cell_type": "code",
   "execution_count": null,
   "metadata": {},
   "outputs": [],
   "source": [
    "encampments = \n",
    "encampments"
   ]
  },
  {
   "cell_type": "code",
   "execution_count": null,
   "metadata": {},
   "outputs": [],
   "source": [
    "grader.check(\"q1_1\")"
   ]
  },
  {
   "cell_type": "markdown",
   "metadata": {},
   "source": [
    "Each row represents a service request for a homeless encampment submitted to the Oakland Call Center from 2013 to 2020. The columns show various information, including how and when the request was submitted, the category for the request (e.g. illegal dumping), and the location. \n",
    "\n",
    "**Question 2.** First, let's learn more about the distribution of the encampments across the City of Oakland. The city is split into 7 districts, with the City of Piedmont located within Oakland (Piedmont has sometimes been described as an \"island\"). \n",
    "\n",
    "![Oakland City Council Districts](oakland_districts.JPG)\n",
    "\n",
    "Using the `encampments` table, create a bar chart showing the **number of homeless encampment service requests** compared across the various **Council Districts.** Make sure to **sort the bars in descending order.**"
   ]
  },
  {
   "cell_type": "code",
   "execution_count": null,
   "metadata": {
    "scrolled": true
   },
   "outputs": [],
   "source": [
    "### Create your bar chart here. It may be helpful to define a table first.\n",
    "..."
   ]
  },
  {
   "cell_type": "markdown",
   "metadata": {},
   "source": [
    "As you can see, the majority of requests are in West Oakland; Piedmont has only 1 request. One possible reason for this is the income distribution across the area and its relation to the visibility and support of those without a home - West Oakland has an average home value of 688,000 dollars compared to 2.54 million dollars in Piedmont. \n",
    "\n",
    "**Question 3**: Now, let's see the distribution of types of requests. Assign `requests` to a table showing the *unique* request categories and the number of requests for each category. Again, sort it in descending order."
   ]
  },
  {
   "cell_type": "code",
   "execution_count": null,
   "metadata": {},
   "outputs": [],
   "source": [
    "requests = \n",
    "requests"
   ]
  },
  {
   "cell_type": "code",
   "execution_count": null,
   "metadata": {},
   "outputs": [],
   "source": [
    "grader.check(\"q1_3\")"
   ]
  },
  {
   "cell_type": "markdown",
   "metadata": {},
   "source": [
    "As you can see, the most frequent request is for HE_CLEAN, which refers to cleanup of a homeless encampment, followed by the second most frequent request, illegal dumping. If you don't see this, there may be an issue with your code.\n",
    "\n",
    "**Question 4:** Since we know that HE_CLEAN refers to direct cleaning of an encampment, we can use this as a direct proxy for the location of the camp. However, the dataset - `encampments` - is much too large. We've created a smaller dataset, consisting only of requests from February 2020, called `encampments_feb_2020.csv`. Load this smaller table as `feb20`, and using `Circle.map_table(...)`, map the locations of **HE_CLEAN requests only**.\n",
    "\n",
    "You may need to zoom in to Oakland for a better idea of how these requests are distributed.\n",
    "\n",
    "*Hint:* At the minimum, the `map_table` function takes in a table with latitude and longitude in that order. For now, you can also include an optional \"identifier\" column as the third column."
   ]
  },
  {
   "cell_type": "code",
   "execution_count": null,
   "metadata": {},
   "outputs": [],
   "source": [
    "feb20 = \n"
   ]
  },
  {
   "cell_type": "markdown",
   "metadata": {},
   "source": [
    "The interactive map is created using [OpenStreetMap](http://www.openstreetmap.org/#map=5/51.500/-0.100), which is an open online mapping system that you can use, just as you would use Google Maps or any other online map. If you included the REQUESTID or REQCATEGORY as identifier data, you can click on a marker to see which request it is."
   ]
  },
  {
   "cell_type": "markdown",
   "metadata": {},
   "source": [
    "Do you notice any patterns for where these requests are located? What if there was an association between the request category and the location? We can analyze that by using colors. For sake of our analysis, we will only focus on the top 3 request categories: HE_CLEAN, ILLDUMP, and PARKS.\n",
    "\n",
    "**Question 5.** Finish the following function, `assign_color`, which takes in the string of a request name such as \"HE_CLEAN\" and returns a string of a color, such as \"red'. We will want to assign \"red\" to \"HE_CLEAN\", \"blue\" to \"ILLDUMP\", and \"green\" to \"PARKS\"."
   ]
  },
  {
   "cell_type": "code",
   "execution_count": null,
   "metadata": {},
   "outputs": [],
   "source": [
    "def assign_color(request):\n",
    "    if request == \"HE_CLEAN\":\n",
    "        return ...\n",
    "    elif request == \"ILLDUMP\":\n",
    "        return ...\n",
    "    elif request == \"PARKS\":\n",
    "        return ...\n",
    "    \n",
    "assign_color(\"HE_CLEAN\")"
   ]
  },
  {
   "cell_type": "code",
   "execution_count": null,
   "metadata": {},
   "outputs": [],
   "source": [
    "grader.check(\"q1_5\")"
   ]
  },
  {
   "cell_type": "markdown",
   "metadata": {},
   "source": [
    "**Question 6.** Before we map and apply our `assign_color` function, we will need to find the requests that are \"HE_CLEAN\", \"ILLDUMP\", and \"PARKS\". Assign `top_3_reqs` to a table that is a version of `encampments` that contains only the top 3 request categories. (*Hint:* What table method allows us to filter data by a condition?)\n",
    "\n",
    "Then, using your `top_3_reqs` table, apply the `assign_color` function to the \"REQCATEGORY\" column, and then add the data back to the table as a new column called \"color\". Assign this new table (with the additional column) to the variable `camps_with_color`. "
   ]
  },
  {
   "cell_type": "code",
   "execution_count": null,
   "metadata": {},
   "outputs": [],
   "source": [
    "top_3_reqs = \n",
    "camps_with_color = \n",
    "camps_with_color"
   ]
  },
  {
   "cell_type": "code",
   "execution_count": null,
   "metadata": {},
   "outputs": [],
   "source": [
    "grader.check(\"q1_6\")"
   ]
  },
  {
   "cell_type": "markdown",
   "metadata": {},
   "source": [
    "**Question 7.** Before we map, there is one last problem: there are too many requests to visualize! We can fix this by randomly sampling requests from `camps_with_color` by using the table method `tbl.sample()`. `tbl.sample()` takes 1 argument, the number of rows we want to sample as an integer, and 1 optional argument: with_replacement = True/False, which samples with or without replacement.\n",
    "\n",
    "For example: `tbl.sample(50, with_replacement = True)` generates a 50 row table, with all 50 rows randomly selected from `tbl` with replacement.\n",
    "\n",
    "Using `tbl.sample()`, assign `small_camps_with_color` to a 100 row table, with all rows randomly selected **without replacement** from the `camps_with_color` table. \n",
    "\n",
    "Then, draw a map of where these requests are located, using `Marker.map_table` and incorporating the colors into the map. Recall that map_table operates on a table whose columns are (in order) latitude, longitude, an identifier for each point, and the color as a string for each point. \n",
    "\n",
    "Again, you may need to zoom in to see a better distribution of the requests."
   ]
  },
  {
   "cell_type": "code",
   "execution_count": null,
   "metadata": {
    "scrolled": true
   },
   "outputs": [],
   "source": [
    "small_camps_with_color = \n"
   ]
  },
  {
   "cell_type": "markdown",
   "metadata": {},
   "source": [
    "You have now visualized the distribution of homeless encampments in Oakland! There are many resources to become involved and support homeless communities in the Bay Area. If you are interested in being involved right on campus, you can volunteer with the [Berkeley Free Clinic](http://www.berkeleyfreeclinic.org/) and the [Suitcase Clinic](https://www.suitcaseclinic.org/), which are organizations aimed at providing free support to individuals without a home.\n",
    "\n",
    "**Question 8.** Based on the map you generated above, what did you notice? You can consider: Are there specific areas and features that reports tend to cluster around? Are certain categories only found in certain areas? How can city councilmembers use this data to support homeless communities? Write your thoughts in the Markdown cell below."
   ]
  },
  {
   "cell_type": "markdown",
   "metadata": {},
   "source": [
    "*Type your answer here, replacing this text.*"
   ]
  },
  {
   "cell_type": "markdown",
   "metadata": {},
   "source": [
    "## 2. Concepts in Hypothesis Testing: CS Tutoring at Berkeley"
   ]
  },
  {
   "cell_type": "markdown",
   "metadata": {},
   "source": [
    "If you are interested in continuing in data science and computer science at Berkeley, there are many opportunities to receive academic support. Group tutoring is free and widely available in the lower-division courses, such as Data 8 and Computer Science 61 (such as [Computer Science Mentors](https://csmentors.berkeley.edu/#/)). Other departments have tutoring, too - check out the [Student Learning Center](https://slc.berkeley.edu/)! Generally, however, tutoring sections in these departments are small-group sessions, where students work closely with a peer tutor on a worksheet to review key concepts.\n",
    "\n",
    "Suppose we want to find out about the effectiveness of these tutoring sections. We conduct an observational study comparing the 1st and 2nd midterm scores of students who receive tutoring, and find that students who receive tutoring tend to score higher on exams."
   ]
  },
  {
   "cell_type": "markdown",
   "metadata": {},
   "source": [
    "We forge ahead with performing a hypothesis test.  We decide to test the following null hypothesis:\n",
    "\n",
    "> *Null hypothesis:* Tutoring has no effect on a students' midterm scores; the average difference in scores between midterm 1 and midterm 2 for students who receive tutoring and students who did not is the same, and any difference is due to random chance."
   ]
  },
  {
   "cell_type": "markdown",
   "metadata": {},
   "source": [
    "**Question 1.** What is the appropriate alternative hypothesis, given that this is our null hypothesis?"
   ]
  },
  {
   "cell_type": "markdown",
   "metadata": {},
   "source": [
    "*Write your answer here, replacing this text.*\n"
   ]
  },
  {
   "cell_type": "markdown",
   "metadata": {},
   "source": [
    "The next cell will load the data into a table called `data`. The data is taken from the Computer Science 61A Fall 2017 class."
   ]
  },
  {
   "cell_type": "code",
   "execution_count": null,
   "metadata": {},
   "outputs": [],
   "source": [
    "data = Table.read_table(\"scores.csv\")\n",
    "data"
   ]
  },
  {
   "cell_type": "markdown",
   "metadata": {},
   "source": [
    "**Question 2.** What does each row in the table `data` represent? What information is shown?"
   ]
  },
  {
   "cell_type": "markdown",
   "metadata": {},
   "source": [
    "*Write your answer here, replacing this text.*\n",
    "\n"
   ]
  },
  {
   "cell_type": "markdown",
   "metadata": {},
   "source": [
    "Given the data, we decide to use the following test statistic:\n",
    "\n",
    "> Test Statistic: (Average % difference in midterm scores for all students who received tutoring) - (Average % difference in midterm scores for all students who did not receive tutoring)\n",
    "\n",
    "The following function, `tutor_test_statistic`, will calculate this value for you. Something to think about - what should the input be? \n",
    "\n",
    "*Note:* The difference has been calculated as the (score of MT2 - the score of MT1). Therefore, a positive difference means that the student did better, and a negative difference means the student did worse on MT2. What does a positive or negative test statistic mean?"
   ]
  },
  {
   "cell_type": "code",
   "execution_count": null,
   "metadata": {},
   "outputs": [],
   "source": [
    "## Just run this cell. \n",
    "def tutor_test_statistic(input):\n",
    "    \"\"\"Given a table in a similar format to data, calculate the test statistic\"\"\"\n",
    "    return np.mean(input.where(\"Mentored\", True).column(\"difference\")) - np.mean(input.where(\"Mentored\", False).column(\"difference\"))"
   ]
  },
  {
   "cell_type": "markdown",
   "metadata": {},
   "source": [
    "**Question 3.** Using the test statistic function and the data we have, compute the observed test statistic using `data`."
   ]
  },
  {
   "cell_type": "code",
   "execution_count": null,
   "metadata": {},
   "outputs": [],
   "source": [
    "observed_test_statistic = \n",
    "observed_test_statistic"
   ]
  },
  {
   "cell_type": "code",
   "execution_count": null,
   "metadata": {},
   "outputs": [],
   "source": [
    "grader.check(\"q2_3\")"
   ]
  },
  {
   "cell_type": "markdown",
   "metadata": {},
   "source": [
    "**Question 4.** The following function, `simulate_test_stat_under_null`, is supposed to simulate the process of sampling students and calculating the test statistic in a way consistent with the null hypothesis.\n",
    "\n",
    "Does it really do that? In the Markdown cell below, write **True** if the function is a reasonable way to simulate under the null or **False** if it is not reasonable. **Explain why in the Markdown cell below.** Assume the sample size is the same as the original sample."
   ]
  },
  {
   "cell_type": "code",
   "execution_count": null,
   "metadata": {},
   "outputs": [],
   "source": [
    "def simulate_test_stat_under_null(sample_size):\n",
    "    sample = data.sample(sample_size, with_replacement=False)\n",
    "    score_differences = sample.column(\"Difference\")\n",
    "    return tutor_test_statistic(score_differences)"
   ]
  },
  {
   "cell_type": "markdown",
   "metadata": {},
   "source": [
    "*Write your answer here, replacing this text.*\n"
   ]
  },
  {
   "cell_type": "markdown",
   "metadata": {},
   "source": [
    "The following histogram displays the distribution of test statistics from datasets simulated correctly under the null hypothesis. The red dot is the observed statistic.\n",
    "\n",
    "![Simulated test statistics histogram](scores_histogram.png)"
   ]
  },
  {
   "cell_type": "markdown",
   "metadata": {},
   "source": [
    "**Question 5.** Is the observed statistic consistent or inconsistent with the null hypothesis (in other words, do we reject or fail to reject the null hypothesis)? Why or why not?\n",
    "\n",
    "What does this mean about tutoring for students in CS61A? Can we say that tutoring would be helpful for students in a different course, such as Sociology 1, with these results? Type your answer in the Markdown cell below."
   ]
  },
  {
   "cell_type": "markdown",
   "metadata": {},
   "source": [
    "*Write your answer here, replacing this text.*\n"
   ]
  },
  {
   "cell_type": "markdown",
   "metadata": {},
   "source": [
    "## 3. Support for Black Lives Matter (BLM)\n"
   ]
  },
  {
   "cell_type": "markdown",
   "metadata": {},
   "source": [
    "In the United States, Black Americans suffer from violence and systemic racism, which leads to significantly disproportionate outcomes for Black communities in comparison to other groups. Beginning with the death of Trayvon Martin in 2012, the Black Lives Matter movement has pushed for reform against police brutality, police killings, racial profiling, and in general, racial inequities in the criminal justice system and the United States as a whole. The murder of George Floyd in Minneapolis, Ahmaud Arbery in Georgia, and Breonna Taylor in Kentucky in 2020 sparked global protests and made national headlines.\n",
    "\n",
    "Pollsters have tracked public support for the Black Lives Matter movement since its inception. 2020 saw massive increases in support for the movement; a [recent poll](https://civiqs.com/results/black_lives_matter) on June 10, 2020 by the polling group Civiqs found that a majority of Americans - 53% - now supported the movement across all age groups, education levels, genders, and races. The survey received 106,452 responses. The New York Times reported on this shift [here](https://www.nytimes.com/interactive/2020/06/10/upshot/black-lives-matter-attitudes.html).\n",
    "\n",
    "When the pollsters tried to figure out the popularity of BLM, they were trying to learn the *percentage of registered US voters* who would say that they approve of the movement.  They couldn't ask every registered voter in the United States (that's a lot of people!), so instead they asked a random sample of 106,452 people.\n",
    "\n",
    "In this exercise, we will simulate such random sampling to understand what happens.  How much random variability do we see in the proportion of sampled voters who approve of the movement?\n",
    "\n",
    "**As a thought experiment, we will imagine that Civiqs actually asked all registered voters in the United States about BCRA**, and that their survey truly represents the United States population. Unfortunately, it is incredibly difficult and expensive to obtain a true census and we cannot work with a dataset containing the over 200 million registered voters, since the servers might have a hard time handling it. \n",
    "\n",
    "The data, containing 106450 rows, is loaded in the following cell:"
   ]
  },
  {
   "cell_type": "code",
   "execution_count": null,
   "metadata": {},
   "outputs": [],
   "source": [
    "response_codes = Table.read_table(\"blm_population.csv\")\n",
    "response_codes.show(5)\n",
    "response_codes.group_barh(\"Response Code\")"
   ]
  },
  {
   "cell_type": "markdown",
   "metadata": {},
   "source": [
    "We encoded the responses as 0, 1, 2, or 3 to save space.  0 refers to \"Support\", 1 to \"Oppose\", 2 to \"Neither support nor oppose\", and 3 to \"Unsure\"."
   ]
  },
  {
   "cell_type": "markdown",
   "metadata": {},
   "source": [
    "**Question 1.** Write code to produce a new table called `population`.  It should have a single column called `\"Response\"`, and it should have the same amount of rows as `response_codes`.  However, instead of a response code such as 0, it should have the corresponding string such as `\"Support\"`.\n",
    "\n",
    "*Hint 1:* It should look something like this (the actual rows may be different):\n",
    "\n",
    "|Response|\n",
    "|-|\n",
    "|Support|\n",
    "|Neither support nor oppose|\n",
    "|Unsure|\n",
    "\n",
    "*Hint 2:* Define a function and use `apply`.  Your function can reference the `responses` array we've given you. "
   ]
  },
  {
   "cell_type": "code",
   "execution_count": null,
   "metadata": {
    "for_assignment_type": "student",
    "scrolled": true
   },
   "outputs": [],
   "source": [
    "# This array is provided for your convenience.\n",
    "responses = make_array(\n",
    "    \"Support\",\n",
    "    \"Oppose\",\n",
    "    \"Neither support nor oppose\",\n",
    "    \"Unsure\")\n",
    "\n",
    "def ...(...):\n",
    "    ...\n",
    "\n",
    "population = "
   ]
  },
  {
   "cell_type": "code",
   "execution_count": null,
   "metadata": {},
   "outputs": [],
   "source": [
    "grader.check(\"q3_1\")"
   ]
  },
  {
   "cell_type": "markdown",
   "metadata": {},
   "source": [
    "**Question 2.** Implement the function called `proportions`, according to the docstring given below."
   ]
  },
  {
   "cell_type": "code",
   "execution_count": null,
   "metadata": {
    "for_assignment_type": "student"
   },
   "outputs": [],
   "source": [
    "def proportions(tbl, col_name):\n",
    "    \"\"\"Computes the frequency distribution of column col_name in table tbl.\n",
    "    \n",
    "    Args:\n",
    "      - tbl (Table): Any table.\n",
    "      - col_name (str): The name of a column in tbl.\n",
    "    \n",
    "    Returns:\n",
    "      Table: A table containing the frequency distribution of column col_name\n",
    "        in table tbl.  It has two columns: col_name and \"Proportion\".  It has\n",
    "        one row for each unique value in the col_name column.\"\"\"\n",
    "    ...\n",
    "    return ...\n",
    "\n",
    "# These lines use your function to compute the frequency distribution\n",
    "# of the \"Response\" column in the population table, and make a bar\n",
    "# chart of that distribution. Do not change them. \n",
    "support_proportions = proportions(population, \"Response\")\n",
    "support_proportions.barh(\"Response\", \"Proportion\")"
   ]
  },
  {
   "cell_type": "markdown",
   "metadata": {},
   "source": [
    "**Question 3.** Sample **50** people from `population` **without** replacement, producing a table named `small_sample`.  **Then,** draw a bar chart of the frequency distribution of their responses."
   ]
  },
  {
   "cell_type": "code",
   "execution_count": null,
   "metadata": {},
   "outputs": [],
   "source": [
    "small_sample = "
   ]
  },
  {
   "cell_type": "markdown",
   "metadata": {},
   "source": [
    "**Question 4.** Compare the distribution of responses in your sample called `small_sample` and the distribution of responses in the `population`.  Are they the same?  If not, how do they differ? Write your answer in the Markdown cell below."
   ]
  },
  {
   "cell_type": "markdown",
   "metadata": {},
   "source": [
    "*Write your answer here, replacing this text.*"
   ]
  },
  {
   "cell_type": "markdown",
   "metadata": {},
   "source": [
    "**Question 5.** If you sampled again, would you see the same pattern, or a different pattern? If you're unsure, try running the cell in Question 3 again! Write your answer in the Markdown cell below."
   ]
  },
  {
   "cell_type": "markdown",
   "metadata": {},
   "source": [
    "*Write your answer here, replacing this text.*"
   ]
  },
  {
   "cell_type": "markdown",
   "metadata": {},
   "source": [
    "**Question 6.** Let's see what happens if we use a bigger sample. Using the same process as Questions 3 through 5, take a sample of **995** responses **without** replacement from `population` and create a bar chart in the coding cell below. Try running it a few times to see how the distribution changes. \n",
    "\n",
    "How is the distribution from the sample of 995 responses different from the distribution from the sample of 50 responses? How does it compare to the population?  Describe what you see in the Markdown cell below."
   ]
  },
  {
   "cell_type": "code",
   "execution_count": null,
   "metadata": {},
   "outputs": [],
   "source": [
    "# Use this cell to create your bar chart for you sample of size 995.\n",
    "large_sample = "
   ]
  },
  {
   "cell_type": "markdown",
   "metadata": {},
   "source": [
    "*Write your answer here, replacing this text.*"
   ]
  },
  {
   "cell_type": "markdown",
   "metadata": {},
   "source": [
    "**Question 7.** The following cell defines some code.  Read it, run it, and describe in the Markdown cell below:\n",
    "\n",
    "* what each function does,\n",
    "* how many people were sampled *in total* when the function is called,\n",
    "* what is displayed in the chart it produces, and\n",
    "* how many numbers are in the dataset whose distribution is represented in the histogram.\n",
    "\n",
    "*Note:* It may take about a minute to run the cell."
   ]
  },
  {
   "cell_type": "code",
   "execution_count": null,
   "metadata": {},
   "outputs": [],
   "source": [
    "## Just run this cell. \n",
    "\n",
    "def simulate_approval_proportion(sample_size):\n",
    "    the_sample = population.sample(sample_size, with_replacement=False)\n",
    "    return the_sample.where(\"Response\", are.equal_to(\"Support\")).num_rows / the_sample.num_rows\n",
    "\n",
    "def approval_distribution(sample_size, num_simulations):\n",
    "    simulation_sizes = Table().with_column(\"Sample size\", np.repeat(sample_size, num_simulations))\n",
    "    results = simulation_sizes.apply(simulate_approval_proportion, \"Sample size\")\n",
    "    simulation_sizes.with_column(\"Proportion supporting\", results).hist(\"Proportion supporting\", bins=np.arange(0, 1+.02, .02))\n",
    "\n",
    "approval_distribution(50, 2000)"
   ]
  },
  {
   "cell_type": "markdown",
   "metadata": {},
   "source": [
    "*Write your answer here, replacing this text.*\n",
    "\n",
    "1) simulate_approval_proportion:\n",
    "\n",
    "2) approval_distribution:"
   ]
  },
  {
   "cell_type": "markdown",
   "metadata": {},
   "source": [
    "**Question 8.** Run the next cell and compare the results with the previous histogram.  How many people were sampled in total when you ran the cell?  Describe how the *law of large numbers* can help explain the difference in the two histograms. \n",
    "\n",
    "Again, this may take a while to run the cell."
   ]
  },
  {
   "cell_type": "code",
   "execution_count": null,
   "metadata": {},
   "outputs": [],
   "source": [
    "## Just run this cell.\n",
    "approval_distribution(995, 2000)"
   ]
  },
  {
   "cell_type": "markdown",
   "metadata": {},
   "source": [
    "*Write your answer here, replacing this text.*\n"
   ]
  },
  {
   "cell_type": "markdown",
   "metadata": {},
   "source": [
    "## 4. Submission\n",
    "\n",
    "To submit your homework, please download your notebook as a .ipynb file and submit to Gradescope. You can do so by navigating to the toolbar at the top of this page, clicking File > Download as... > Notebook (.ipynb). Then, go to our class's Gradescope page [here](https://www.gradescope.com/courses/136698) and upload your file under \"Homework 5\". \n",
    "\n",
    "To check your work, you may run the cell below. Remember that for homework assignments, passing the tests does not necessarily mean your answer is correct."
   ]
  },
  {
   "cell_type": "code",
   "execution_count": null,
   "metadata": {},
   "outputs": [],
   "source": [
    "grader.check_all()"
   ]
  }
 ],
 "metadata": {
  "kernelspec": {
   "display_name": "Python 3",
   "language": "python",
   "name": "python3"
  },
  "language_info": {
   "codemirror_mode": {
    "name": "ipython",
    "version": 3
   },
   "file_extension": ".py",
   "mimetype": "text/x-python",
   "name": "python",
   "nbconvert_exporter": "python",
   "pygments_lexer": "ipython3",
   "version": "3.7.6"
  }
 },
 "nbformat": 4,
 "nbformat_minor": 1
}
