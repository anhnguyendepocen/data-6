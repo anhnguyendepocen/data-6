{
 "cells": [
  {
   "cell_type": "markdown",
   "metadata": {},
   "source": [
    "# Homework 1: Causality and Expressions\n",
    "\n",
    "Please complete this notebook by filling in the cells provided. Before you begin, execute the following cell to load the provided tests."
   ]
  },
  {
   "cell_type": "code",
   "execution_count": null,
   "metadata": {},
   "outputs": [],
   "source": [
    "# Don't change this cell; just run it. \n",
    "import otter\n",
    "grader = otter.Notebook()"
   ]
  },
  {
   "cell_type": "markdown",
   "metadata": {},
   "source": [
    "Reading:\n",
    "- Textbook chapters [1](https://data-8r.gitbooks.io/textbook/chapters/01/intro.html), [2](https://data-8r.gitbooks.io/textbook/chapters/02/causality-and-experiments.html), and [3](https://data-8r.gitbooks.io/textbook/chapters/03/programming-in-python.html)\n",
    "\n",
    "Deadline:\n",
    "\n",
    "This assignment is due **Wednesday, July 15 at 11:59 PM.** You will receive an early submission bonus point if you turn in your final submission by **Tuesday, July 14 at 11:59PM.** Late work will not be accepted unless you have made special arrangements with your (U)GSI or the instructor.\n",
    "\n",
    "Directly sharing answers is not okay, but discussing problems with the course staff or with other students is encouraged. \n",
    "\n",
    "You should start early so that you have time to get help if you're stuck. Drop-in office hours will be held at various times in the week; check the class bCourses page for the latest schedule."
   ]
  },
  {
   "cell_type": "markdown",
   "metadata": {},
   "source": [
    "## 1. Hydroxychloroquine Study\n"
   ]
  },
  {
   "cell_type": "markdown",
   "metadata": {},
   "source": [
    "As a treatment for COVID-19, the effectiveness of the drug hydroxychloroquine has been a major point of contention. On May 22, 2020, Mehra et al published a study in The Lancet (now retracted) that studied the relation between hydroxychloroquine use and patient outcomes in 671 hospitals in 6 continents. \n",
    "\n",
    "**Note:** The Lancet study was retracted due to problems in the independent peer review process. The reviewers could not obtain the full dataset due to client agreements and confidentiality issues, and so, an independent and private peer review could not be completed. "
   ]
  },
  {
   "cell_type": "markdown",
   "metadata": {},
   "source": [
    "**Question 1.** The data were gathered by the following procedure. Using a registry containing the data of “all patients hospitalised between Dec. 20, 2019, and April 14, 2020” at hospitals participating, the researchers found COVID-19 positive patients who received “chloroquine alone, chloroquine with a macrolide, hydroxychloroquine alone, or hydroxychloroquine with a macrolide.” Using those groups and patients who did not receive any of those treatments, the researchers looked at patient outcomes, including the occurrence of heart arrhythmias, length of stay in an ICU, and ventilation use. \n",
    "\n",
    "Was this study observational, or was it a controlled experiment? \n"
   ]
  },
  {
   "cell_type": "markdown",
   "metadata": {},
   "source": [
    "*Write your answer here, replacing this text.*"
   ]
  },
  {
   "cell_type": "markdown",
   "metadata": {},
   "source": [
    "**Question 2.** The study found that, out of the patients who did not receive the drug, 0.3% developed ventricular arrhythmia. Out of those who received a drug, 6.1% of patients who received hydroxychloroquine alone, 8.1% of those who received hydroxychloroquine with a macrolide, 4.3% of those who received chloroquine alone, and 6.5% of those who received chloroquine with a macrolide developed ventricular arrhythmia. \n",
    "\n",
    "The study concluded that “Each of the drug regimens[…] was associated with an increased hazard for clinically significant occurrence of ventricular arrhythmias.” \n",
    "\n",
    "Do the data support this statement? You may interpret “increased” in any reasonable qualitative way."
   ]
  },
  {
   "cell_type": "markdown",
   "metadata": {},
   "source": [
    "*Write your answer here, replacing this text.*"
   ]
  },
  {
   "cell_type": "markdown",
   "metadata": {},
   "source": [
    "**Question 3.** On June 2, 2020, The Economic Times reported that “Hydroxychloroquine can cause ‘serious’ heartbeat disturbances.’” Does the study support the conclusion that hydroxychloroquine causes irregular heartbeats (arrhythmias)?"
   ]
  },
  {
   "cell_type": "markdown",
   "metadata": {},
   "source": [
    "*Write your answer here, replacing this text.*"
   ]
  },
  {
   "cell_type": "markdown",
   "metadata": {},
   "source": [
    "**Question 4.** In response to reports of the drug's effectiveness, one potential issue that has been raised is that hydroxychloroquine and its analogues have often been prescribed to incredibly sick patients as a last resort treatment. \n",
    "\n",
    "In what way do you think this might have affected the data? "
   ]
  },
  {
   "cell_type": "markdown",
   "metadata": {},
   "source": [
    "*Write your answer here, replacing this text.*"
   ]
  },
  {
   "cell_type": "markdown",
   "metadata": {},
   "source": [
    "## 2. Drug Trials\n"
   ]
  },
  {
   "cell_type": "markdown",
   "metadata": {},
   "source": [
    "Ascendigen Pharmaceuticals is working on a new drug that boosts long-term memory. They perform a trial at UC Berkeley, gathering 100 Berkeley students as participants and randomly giving each participant either a sample of their new drug, or a placebo. Participants did not know which they were receiving. They then tested their memory retention over a period of a few months."
   ]
  },
  {
   "cell_type": "markdown",
   "metadata": {},
   "source": [
    "**Question 1.** Was this study observational, or was it a controlled experiment?"
   ]
  },
  {
   "cell_type": "markdown",
   "metadata": {},
   "source": [
    "*Write your answer here, replacing this text.*"
   ]
  },
  {
   "cell_type": "markdown",
   "metadata": {},
   "source": [
    "**Question 2.** Ascendigen finds that the drug causes significant improvement in long-term memory among the participants in their trial. They wish to market the drug to older people who are concerned about memory loss. Do the results of their trial indicate that the drug will cause significant improvements among this group? Why or why not?"
   ]
  },
  {
   "cell_type": "markdown",
   "metadata": {},
   "source": [
    "*Write your answer here, replacing this text.*"
   ]
  },
  {
   "cell_type": "markdown",
   "metadata": {},
   "source": [
    "## 3. Names and Assignment Statements\n"
   ]
  },
  {
   "cell_type": "markdown",
   "metadata": {},
   "source": [
    "**Question 1.** When you run the following cell, Python produces a cryptic error message."
   ]
  },
  {
   "cell_type": "code",
   "execution_count": null,
   "metadata": {},
   "outputs": [],
   "source": [
    "8 = 10 - 2"
   ]
  },
  {
   "cell_type": "markdown",
   "metadata": {},
   "source": [
    "Choose the best explanation of what's wrong with the code, and then assign the integer 1, 2, 3, or 4 to `names_q1` below to indicate your answer.\n",
    "\n",
    "1. Python already knows `8 = 10 - 2`.\n",
    "\n",
    "2. `8` is a number, and it doesn't make sense to make a number be a name for something else. In Python, \"`x = 10 - 2`\" means \"assign `x` as the name for the value of `10 - 2`.\"\n",
    "\n",
    "3. It should be `10 - 2 = 8`.\n",
    "\n",
    "4. I don't get an error message. This is a trick question."
   ]
  },
  {
   "cell_type": "code",
   "execution_count": null,
   "metadata": {},
   "outputs": [],
   "source": [
    "### Your answer should be in this format: names_q1 = 5\n",
    "names_q1 = "
   ]
  },
  {
   "cell_type": "code",
   "execution_count": null,
   "metadata": {},
   "outputs": [],
   "source": [
    "grader.check('q3_1')"
   ]
  },
  {
   "cell_type": "markdown",
   "metadata": {},
   "source": [
    "**Question 2.** When you run the following cell, Python will produce another cryptic error message."
   ]
  },
  {
   "cell_type": "code",
   "execution_count": null,
   "metadata": {},
   "outputs": [],
   "source": [
    "four = 3\n",
    "nine = four times four"
   ]
  },
  {
   "cell_type": "markdown",
   "metadata": {},
   "source": [
    "Choose the best explanation of what's wrong with the code and assign the integer 1, 2, 3, or 4 to `names_q2` below to indicate your answer.\n",
    "\n",
    "1. The `times` operation only applies to numbers, not the word `four`.\n",
    "\n",
    "2. The name `four` cannot be assigned to the number 3.\n",
    "\n",
    "3. four times four is sixteen, not nine.\n",
    "\n",
    "4. The name `four` cannot be followed directly by another name."
   ]
  },
  {
   "cell_type": "code",
   "execution_count": null,
   "metadata": {},
   "outputs": [],
   "source": [
    "names_q2 = "
   ]
  },
  {
   "cell_type": "markdown",
   "metadata": {},
   "source": [
    "Check that your answers are in the correct format. This test *does not* check that you answered correctly; only that you assigned a number successfully in each multiple-choice answer cell."
   ]
  },
  {
   "cell_type": "code",
   "execution_count": null,
   "metadata": {},
   "outputs": [],
   "source": [
    "grader.check('q3_2')"
   ]
  },
  {
   "cell_type": "markdown",
   "metadata": {},
   "source": [
    "## 4. Breaking Down Expressions\n"
   ]
  },
  {
   "cell_type": "markdown",
   "metadata": {},
   "source": [
    "The most important idea in Computer Science is that complicated, useful things can be built by putting together simple parts according to simple rules.  Python code is an important example of this principle.  Once you understand the basic rules, you can code with confidence.  These exercises are designed to give you some practice with those rules.\n",
    "\n",
    "First, a brief review of subexpressions.\n",
    "\n",
    "You can take any Python expression that has a value and combine it with other expressions.  For example, you can combine two number-valued expressions by putting a `+` between them to add their values together.  This forms a new, larger expression called a *compound expression*.  The expressions that were combined together are called *subexpressions*.\n",
    "\n",
    "You can tell if something is a subexpression by checking whether it would make sense to write it in a line by itself.  For example, in the expression `2 * 3`, `2` is a subexpression, but `2 *` isn't, because `2 *` isn't a valid expression.  (Try executing it!)"
   ]
  },
  {
   "cell_type": "markdown",
   "metadata": {},
   "source": [
    "**Question 1.** List all the subexpressions in order, from left to right, for the following expression:\n",
    "\n",
    "    2 + 3\n",
    "    \n",
    "Put each subexpression on its own line in the next cell."
   ]
  },
  {
   "cell_type": "code",
   "execution_count": null,
   "metadata": {},
   "outputs": [],
   "source": [
    "sub_expression_1 = \n",
    "sub_expression_2 = "
   ]
  },
  {
   "cell_type": "code",
   "execution_count": null,
   "metadata": {},
   "outputs": [],
   "source": [
    "grader.check('q4_1')"
   ]
  },
  {
   "cell_type": "markdown",
   "metadata": {},
   "source": [
    "**Question 2.** Consider the following expression:\n",
    "\n",
    "    (1 + 2) * ((3 / 4) ** 5)\n",
    "\n",
    "Here is a list of almost all the subexpressions of that expression.  One is missing.\n",
    "\n",
    "1. `1`\n",
    "2. `2`\n",
    "3. `3`\n",
    "4. `4`\n",
    "5. `5`\n",
    "6. `(1 + 2)`\n",
    "7. `((3 / 4) ** 5)`\n",
    "\n",
    "In the next cell, write the missing expression."
   ]
  },
  {
   "cell_type": "code",
   "execution_count": null,
   "metadata": {},
   "outputs": [],
   "source": [
    "missing_subexpression = "
   ]
  },
  {
   "cell_type": "code",
   "execution_count": null,
   "metadata": {},
   "outputs": [],
   "source": [
    "grader.check('q4_2')"
   ]
  },
  {
   "cell_type": "markdown",
   "metadata": {},
   "source": [
    "**Question 3.** List all the subexpressions of the following expression:\n",
    "\n",
    "    (((2**3) / 4) / 5) - 6\n",
    "\n",
    "Put each subexpression on its own line in the next cell."
   ]
  },
  {
   "cell_type": "code",
   "execution_count": null,
   "metadata": {},
   "outputs": [],
   "source": [
    "...\n",
    "...\n",
    "...\n",
    "...\n",
    "...\n",
    "...\n",
    "...\n",
    "..."
   ]
  },
  {
   "cell_type": "markdown",
   "metadata": {},
   "source": [
    "## 5. Using Names\n"
   ]
  },
  {
   "cell_type": "markdown",
   "metadata": {},
   "source": [
    "**Question 1.** LeBron James is 6 feet, eight inches tall. How tall is he in inches? Set `Lebron_height_in_inches` to that number.  However, *don't write any new numbers in the cell below.* Instead, use Python to calculate the answer. When you need a number, refer to the names we've already defined for you."
   ]
  },
  {
   "cell_type": "code",
   "execution_count": null,
   "metadata": {},
   "outputs": [],
   "source": [
    "Lebron_height_feet = 6\n",
    "Lebron_height_inches = 8\n",
    "inches_per_foot = 12\n",
    "Lebron_height_in_inches = ...\n",
    "Lebron_height_in_inches"
   ]
  },
  {
   "cell_type": "code",
   "execution_count": null,
   "metadata": {},
   "outputs": [],
   "source": [
    "grader.check('q5_1')"
   ]
  },
  {
   "cell_type": "markdown",
   "metadata": {},
   "source": [
    "**Question 2.** One inch is roughly equivalent to 2.54 centimeters. How tall is LeBron in meters?  Again, don't write any new numbers and only use the names we've defined. You may use the variables defined in Question 5.1 as well."
   ]
  },
  {
   "cell_type": "code",
   "execution_count": null,
   "metadata": {},
   "outputs": [],
   "source": [
    "cm_per_inch = 2.54\n",
    "cm_per_meter = 100\n",
    "Lebron_height_in_meters = ...\n",
    "Lebron_height_in_meters"
   ]
  },
  {
   "cell_type": "code",
   "execution_count": null,
   "metadata": {},
   "outputs": [],
   "source": [
    "grader.check('q5_2')"
   ]
  },
  {
   "cell_type": "markdown",
   "metadata": {},
   "source": [
    "**Question 3.** The [Drake equation](https://en.wikipedia.org/wiki/Drake_equation) is a scientific estimate of the number of alien civilizations in the galaxy (really). It can be written as follows:\n",
    "\n",
    "$${\\displaystyle N=R_{*}\\cdot f_{\\mathrm {p} }\\cdot n_{\\mathrm {e} }\\cdot f_{\\mathrm {l} }\\cdot f_{\\mathrm {i} }\\cdot f_{\\mathrm {c} }\\cdot L}$$\n",
    "\n",
    "The terms in the equation are:\n",
    "\n",
    "- the average rate of star formation, $R_{*}$, in our galaxy,\n",
    "- the fraction of formed stars, $f_{\\mathrm {p} }$, that have planets,\n",
    "- for stars that have planets, the average number of planets $n_{\\mathrm {e} }$ that can potentially support life,\n",
    "- the fraction of those planets, $f_{\\mathrm {l} }$, that actually develop life,\n",
    "- the fraction of planets bearing life on which intelligent, civilized life has developed, $f_{\\mathrm {i} }$,\n",
    "- the fraction of these civilizations that release detectable signals into space, $f_{\\mathrm {c} }$, and\n",
    "- the length of time, L, over which such civilizations release detectable signals."
   ]
  },
  {
   "cell_type": "markdown",
   "metadata": {},
   "source": [
    "Dr. Drake made several estimates for the ranges of each of these parameters. Based on one of these estimates for the parameters, here is an estimate of $N$ using the Drake equation."
   ]
  },
  {
   "cell_type": "code",
   "execution_count": null,
   "metadata": {},
   "outputs": [],
   "source": [
    "N = 1 * 0.3 * 4 * 1 * 1 * 0.15 * 100000\n",
    "N"
   ]
  },
  {
   "cell_type": "markdown",
   "metadata": {},
   "source": [
    "It's hard to read that cell, because it's just a sequence of numbers being multiplied together.  It would be easier to read if we first assigned each of the terms a *name*, and then multiplied the terms together by name.  That would also make it easier to update the equation if we found a new estimate of one of the terms.  (For instance, it is now believed that almost all stars have planets ($f_{\\mathrm {p} } \\approx 1$).)\n",
    "\n",
    "Re-write the code in the cell above using the same values and new, *descriptive* names for each term.  A good name for $R_*$ has been given as an example."
   ]
  },
  {
   "cell_type": "code",
   "execution_count": null,
   "metadata": {
    "for_assignment_type": "student"
   },
   "outputs": [],
   "source": [
    "# Here's an example of a good, descriptive variable name:\n",
    "stars_formed_per_year = 1\n",
    "\n",
    "# Define the rest of your names below here:\n",
    "\n",
    "\n",
    "\n",
    "\n",
    "\n",
    "\n",
    "\n",
    "# And now use your names to compute an estimate of N.\n",
    "# The result should be 18000, the same as the output of the previous code cell.\n",
    "# The line will probably be quite long.\n",
    "N = ...\n",
    "N"
   ]
  },
  {
   "cell_type": "markdown",
   "metadata": {},
   "source": [
    "## 6. Using Subexpressions\n"
   ]
  },
  {
   "cell_type": "markdown",
   "metadata": {},
   "source": [
    "Once you've figured out the value of an expression, you can work with that value by making the expression a *subexpression* inside other expressions.  You'll practice that in these exercises."
   ]
  },
  {
   "cell_type": "markdown",
   "metadata": {},
   "source": [
    "**Question 1.** The expression\n",
    "\n",
    "    (42**2 - 40**2 - 10**2)**0.5\n",
    "\n",
    "has value 8.  What is the value of the following expression?\n",
    "\n",
    "    (.5 * (42**2 - 40**2 - 10**2)**0.5)**0.5\n",
    "\n",
    "Try to figure out the answer without running any code. Then, write your answer in the next cell (try assigning the first expression to `initial_expression` and then using `initial_expression` as a subexpression in `final_expression`."
   ]
  },
  {
   "cell_type": "code",
   "execution_count": null,
   "metadata": {},
   "outputs": [],
   "source": [
    "initial_expression = ...\n",
    "final_expression = ...\n",
    "final_expression"
   ]
  },
  {
   "cell_type": "code",
   "execution_count": null,
   "metadata": {},
   "outputs": [],
   "source": [
    "grader.check('q6_1')"
   ]
  },
  {
   "cell_type": "markdown",
   "metadata": {},
   "source": [
    "**Question 2.** The following expression is pretty convoluted, and it uses some parts of the Python language you won't learn for awhile.  All we'll tell you is that its value is [roughly](http://mathfaculty.fullerton.edu/mathews/n2003/montecarlopimod.html) $\\pi$.  That means you can use it in place of $\\pi$ wherever you want a rough approximation to $\\pi$."
   ]
  },
  {
   "cell_type": "code",
   "execution_count": null,
   "metadata": {},
   "outputs": [],
   "source": [
    "(4*sum(1 if __import__(\"numpy\").random.random()**2 + __import__(\"numpy\").random.random()**2 < 1 else 0 for i in range(100000)) / 100000)"
   ]
  },
  {
   "cell_type": "markdown",
   "metadata": {},
   "source": [
    "In the next cell, compute (roughly) the circumference of a circle with diameter 5.  (The circumference of a circle is the length of its perimeter, and it's equal to $\\pi \\times \\texttt{diameter}$.)  Use a variable that contains the value of $\\pi$, calculated using the method in the previous cell."
   ]
  },
  {
   "cell_type": "code",
   "execution_count": null,
   "metadata": {},
   "outputs": [],
   "source": [
    "# Define pi here (remember to use a good, descriptive variable name) using the code above\n",
    "\n",
    "# Now use it to calculate the circumference\n",
    "circumference = \n",
    "circumference"
   ]
  },
  {
   "cell_type": "code",
   "execution_count": null,
   "metadata": {},
   "outputs": [],
   "source": [
    "grader.check('q6_2')"
   ]
  },
  {
   "cell_type": "markdown",
   "metadata": {},
   "source": [
    "(Soon you'll learn a much better way to access $\\pi$, so we wouldn't recommend using this anywhere important.)"
   ]
  },
  {
   "cell_type": "markdown",
   "metadata": {},
   "source": [
    "## 7. The Middle\n"
   ]
  },
  {
   "cell_type": "markdown",
   "metadata": {},
   "source": [
    "Suppose that Yulin, another student, is tasked with writing code to find the middle of three distinct numbers named `a`, `b`, and `c`. (By “middle” we mean the value that is neither the maximum nor the minimum.) For example, given the values 4, 2, and 7, the code should give back 4.\n",
    "\n",
    "Yulin has a moment of inspired thought and rapidly types the following into her Jupyter notebook:"
   ]
  },
  {
   "cell_type": "code",
   "execution_count": null,
   "metadata": {},
   "outputs": [],
   "source": [
    "a + b + c - max(a, b, c) + min(a, b, c)"
   ]
  },
  {
   "cell_type": "markdown",
   "metadata": {},
   "source": [
    "Is her code correct?  Why or why not?  If not, make a *simple* change to the cell above to fix it. If you do make a change, describe the change you make.\n",
    "\n",
    "*Hint:* Running the cell will produce an error because we haven't defined `a`, `b`, and `c`, but you're free to make any changes you want to test your ideas.  (Please only leave 1 line in the cell above in the notebook you submit, though.)"
   ]
  },
  {
   "cell_type": "markdown",
   "metadata": {},
   "source": [
    "*Write your answer here, replacing this text.*"
   ]
  },
  {
   "cell_type": "markdown",
   "metadata": {},
   "source": [
    "## 8. Find a Useful Data Visualization\n",
    "Find a data visualization online that answers a question that's interesting to you.  If you're looking for ideas, you can try [Information is Beautiful](http://www.informationisbeautiful.net).\n",
    "\n",
    "Then, in the Markdown cell below:\n",
    "\n",
    "1. Give us a link to the page containing the visualization.  Include a description of its location on that page if it's not obvious how to find it.\n",
    "2. Most people have a persuasive or informative goal in mind when they create visualizations.  Describe what you think the creator intended to convey.\n",
    "3. Describe how the visualization improved upon text or a simple table of information.  How does it use visual cues (for example: distance, size, color, movement, or texture) to communicate a point more effectively?"
   ]
  },
  {
   "cell_type": "markdown",
   "metadata": {},
   "source": [
    "*Write your answer here, replacing this text.*"
   ]
  },
  {
   "cell_type": "markdown",
   "metadata": {},
   "source": [
    "## 9. Submission\n",
    "\n",
    "To submit your homework, please download your notebook as a .ipynb file and submit to Gradescope. You can do so by navigating to the toolbar at the top of this page, clicking File > Download as... > Notebook (.ipynb). Then, go to our class's Gradescope page [here](https://www.gradescope.com/courses/136698) and upload your file under \"Homework 1\". \n",
    "\n",
    "To check your work, you may run the cell below. Remember that for homework assignments, passing the tests does not necessarily mean your answer is correct."
   ]
  },
  {
   "cell_type": "code",
   "execution_count": null,
   "metadata": {},
   "outputs": [],
   "source": [
    "grader.check_all()"
   ]
  }
 ],
 "metadata": {
  "kernelspec": {
   "display_name": "Python 3",
   "language": "python",
   "name": "python3"
  },
  "language_info": {
   "codemirror_mode": {
    "name": "ipython",
    "version": 3
   },
   "file_extension": ".py",
   "mimetype": "text/x-python",
   "name": "python",
   "nbconvert_exporter": "python",
   "pygments_lexer": "ipython3",
   "version": "3.6.9"
  }
 },
 "nbformat": 4,
 "nbformat_minor": 1
}
